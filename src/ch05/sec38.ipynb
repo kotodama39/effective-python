{
 "cells": [
  {
   "cell_type": "markdown",
   "id": "d3e17f4b",
   "metadata": {},
   "source": [
    "# 単純なインタフェースにはクラスの代わりに関数を使う"
   ]
  },
  {
   "cell_type": "code",
   "execution_count": null,
   "id": "a94db035",
   "metadata": {},
   "outputs": [
    {
     "name": "stdout",
     "output_type": "stream",
     "text": [
      "['Plato', 'Socrates', 'Aristotle', 'Archimedes']\n"
     ]
    }
   ],
   "source": [
    "# 関数を渡すことによって振る舞いをカスタマイズできる組み込み API が多くあり\n",
    "# そのような仕組みをフックと呼ぶ\n",
    "names = ['Socrates', 'Archimedes', 'Plato', 'Aristotle']\n",
    "# key フックとして len 関数を指定\n",
    "names.sort(key=len)\n",
    "print(names)"
   ]
  },
  {
   "cell_type": "code",
   "execution_count": 2,
   "id": "1a5291e1",
   "metadata": {},
   "outputs": [],
   "source": [
    "def log_missing():\n",
    "  print('Key added')\n",
    "  return 0"
   ]
  },
  {
   "cell_type": "code",
   "execution_count": null,
   "id": "292cd3ef",
   "metadata": {},
   "outputs": [
    {
     "name": "stdout",
     "output_type": "stream",
     "text": [
      "Before:  {'green': 12, 'blue': 3}\n",
      "Key added\n",
      "Key added\n",
      "After:  {'green': 12, 'blue': 20, 'red': 5, 'orange': 9}\n"
     ]
    }
   ],
   "source": [
    "from collections import defaultdict\n",
    "\n",
    "current = {'green': 12, 'blue': 3}\n",
    "increments = [\n",
    "  ('red', 5),\n",
    "  ('blue', 17),\n",
    "  ('orange', 9)\n",
    "]\n",
    "# 存在しないキーにアクセスしたら、log_missing() を呼び出して初期値(0)を入れる\n",
    "# current をもとに作っているので、result は {'green': 12, 'blue': 3} を最初に持っている\n",
    "result = defaultdict(log_missing, current)\n",
    "print('Before: ', dict(result))\n",
    "for key, amount in increments:\n",
    "  result[key] += amount\n",
    "print('After: ', dict(result))"
   ]
  },
  {
   "cell_type": "markdown",
   "id": "66790f55",
   "metadata": {},
   "source": [
    "1. key = 'red', amount = 5\n",
    "   - 'red' はまだ存在しないキー。\n",
    "   - → result['red'] += 5 と書かれているので：\n",
    "      1. result['red'] をまず参照 → 無いので log_missing() が呼ばれる。\n",
    "      1. Key added が表示され、値 0 が返ってくる。\n",
    "      1. result['red'] = 0 + 5 → 5 となる。\n",
    "   - 'red': 5 が辞書に追加される。\n",
    "1. key = 'blue', amount = 17\n",
    "   - 'blue' はすでに存在（値3）。\n",
    "   - → result['blue'] += 17 → 3 + 17 = 20\n",
    "   - 'blue': 20 に更新される。\n",
    "   - ※ log_missing() は呼ばれない！\n",
    "1. key = 'orange', amount = 9\n",
    "   - 'orange' は存在しないキー。\n",
    "   - → log_missing() が呼ばれ、0 が返される。\n",
    "   - → result['orange'] = 0 + 9 → 9 になる。"
   ]
  },
  {
   "cell_type": "code",
   "execution_count": null,
   "id": "be6e9173",
   "metadata": {},
   "outputs": [],
   "source": [
    "# defaultdict は missing というフックが状態を保持していることをまったく関知しないにも関わらず、\n",
    "# 期待された結果の 2 が得られる\n",
    "def increment_with_report(current, increments):\n",
    "  added_count = 0\n",
    "\n",
    "  def missing():\n",
    "    # ステートフルクロージャ\n",
    "    # add_count が外側のスコープで定義されていることを宣言\n",
    "    nonlocal added_count\n",
    "    added_count += 1\n",
    "    return 0\n",
    "  \n",
    "  result = defaultdict(missing, current)\n",
    "  for key, amount in increments:\n",
    "    result[key] += amount\n",
    "\n",
    "  return result, added_count"
   ]
  },
  {
   "cell_type": "code",
   "execution_count": 7,
   "id": "804caf2f",
   "metadata": {},
   "outputs": [],
   "source": [
    "result, count = increment_with_report(current, increments)\n",
    "assert count == 2"
   ]
  },
  {
   "cell_type": "code",
   "execution_count": 9,
   "id": "2458ec6d",
   "metadata": {},
   "outputs": [],
   "source": [
    "# クロージャが状態を持つフックとすることの問題は、状態を持たない関数の例に比べて、読みにくいこと\n",
    "# 別の方法として、追跡したい状態をカプセル化した軽量なクラスを定義する方法もある\n",
    "class CountMissing:\n",
    "  def __init__(self):\n",
    "    self.added = 0\n",
    "  \n",
    "  def missing(self):\n",
    "    self.added += 1\n",
    "    return 0"
   ]
  },
  {
   "cell_type": "code",
   "execution_count": null,
   "id": "13de7e50",
   "metadata": {},
   "outputs": [],
   "source": [
    "# ヘルパークラスを使って、状態を持つクロージャの振る舞いを提供することは、\n",
    "# 先ほどの increment_with_report 関数よりもコードが明瞭になる\n",
    "counter = CountMissing()\n",
    "result = defaultdict(counter.missing, current) # メソッド参照\n",
    "for key, amount in increments:\n",
    "  result[key] += amount\n",
    "assert counter.added == 2"
   ]
  },
  {
   "cell_type": "code",
   "execution_count": 11,
   "id": "e78387ea",
   "metadata": {},
   "outputs": [],
   "source": [
    "# しかし、CountMissing クラス単独で見ると、このクラスの目的が何であるかがすぐにはわからない\n",
    "# 誰が CountMissing オブジェクトを作るのか、誰が missing メソッドを呼ぶのか\n",
    "# このような状況を切り抜けるために、Python はクラスで特殊メソッド __call__ を定義できる\n",
    "class BetterCountMissing:\n",
    "  def __init__(self):\n",
    "    self.added = 0\n",
    "\n",
    "  def __call__(self):\n",
    "    self.added += 1\n",
    "    return 0\n",
    "  \n",
    "counter = BetterCountMissing()\n",
    "assert counter() == 0\n",
    "assert callable(counter)"
   ]
  },
  {
   "cell_type": "code",
   "execution_count": null,
   "id": "a73f38e0",
   "metadata": {},
   "outputs": [],
   "source": [
    "# CountMissing.missing の例よりもずっとわかりやすくなっている\n",
    "# __call__ メソッドは、クラスのインスタンスがどこかで（API フックのように）\n",
    "# 関数引数として使われてもよいことを示唆している\n",
    "counter = BetterCountMissing()\n",
    "result = defaultdict(counter, current) # __call__ を信頼する\n",
    "for key, amount in increments:\n",
    "  result[key] += amount\n",
    "assert counter.added == 2"
   ]
  },
  {
   "cell_type": "markdown",
   "id": "cffce5d5",
   "metadata": {},
   "source": [
    "__call__ を使っても、何が起こっているかについて defaultdict が何も知らなくてもよい\n",
    "defaultdict に必要なことは、デフォルト値をフックする関数だけである"
   ]
  }
 ],
 "metadata": {
  "kernelspec": {
   "display_name": "venv",
   "language": "python",
   "name": "python3"
  },
  "language_info": {
   "codemirror_mode": {
    "name": "ipython",
    "version": 3
   },
   "file_extension": ".py",
   "mimetype": "text/x-python",
   "name": "python",
   "nbconvert_exporter": "python",
   "pygments_lexer": "ipython3",
   "version": "3.11.8"
  }
 },
 "nbformat": 4,
 "nbformat_minor": 5
}
