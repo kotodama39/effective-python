{
 "cells": [
  {
   "cell_type": "markdown",
   "id": "af7d3f04",
   "metadata": {},
   "source": [
    "# 組み込み型の不快入れ子にはせずクラスを作成する"
   ]
  },
  {
   "cell_type": "code",
   "execution_count": 16,
   "id": "d90e63fc",
   "metadata": {},
   "outputs": [],
   "source": [
    "# 名前が前もって分かっていない学生集団の成績を記録するとする\n",
    "class SimpleGradebook:\n",
    "  def __init__(self):\n",
    "    self._grades = {}\n",
    "\n",
    "  def add_student(self, name):\n",
    "    self._grades[name] = []\n",
    "\n",
    "  def report_grade(self, name, score):\n",
    "    self._grades[name].append(score)\n",
    "\n",
    "  def average_grade(self, name):\n",
    "    grades = self._grades[name]\n",
    "    return sum(grades) / len(grades)"
   ]
  },
  {
   "cell_type": "code",
   "execution_count": 17,
   "id": "cfebb6e7",
   "metadata": {},
   "outputs": [
    {
     "name": "stdout",
     "output_type": "stream",
     "text": [
      "90.0\n"
     ]
    }
   ],
   "source": [
    "# クラスの使い方は簡単\n",
    "book = SimpleGradebook()\n",
    "book.add_student('Isaac Newton')\n",
    "book.report_grade('Isaac Newton', 90)\n",
    "book.report_grade('Isaac Newton', 95)\n",
    "book.report_grade('Isaac Newton', 85)\n",
    "\n",
    "print(book.average_grade('Isaac Newton'))"
   ]
  },
  {
   "cell_type": "code",
   "execution_count": 18,
   "id": "34efe193",
   "metadata": {},
   "outputs": [],
   "source": [
    "# だが、辞書とその関連の組み込み型はあまりにも使いやすいので、\n",
    "# 拡張しすぎて脆弱なコードを書いてしまう危険がある\n",
    "\n",
    "# 科目ごとに成績のリストを管理するようにしたいとする\n",
    "from collections import defaultdict\n",
    "\n",
    "class BySubjectGradebook:\n",
    "  def __init__(self):\n",
    "    self._grades = {}                            # 外側の dict\n",
    "\n",
    "  def add_student(self, name):\n",
    "    self._grades[name] = defaultdict(list)       # 内側の dict\n",
    "\n",
    "  def report_grade(self, name, subject, grade):\n",
    "    by_subject = self._grades[name]\n",
    "    grade_list = by_subject[subject]\n",
    "    grade_list.append(grade)\n",
    "\n",
    "  def average_grade(self, name):\n",
    "    by_subject = self._grades[name]\n",
    "    total, count = 0, 0\n",
    "    for grades in by_subject.values():\n",
    "      total += sum(grades)\n",
    "      count += len(grades)\n",
    "    return total / count"
   ]
  },
  {
   "cell_type": "code",
   "execution_count": 19,
   "id": "d89df721",
   "metadata": {},
   "outputs": [
    {
     "name": "stdout",
     "output_type": "stream",
     "text": [
      "81.25\n"
     ]
    }
   ],
   "source": [
    "# まだ単純\n",
    "book = BySubjectGradebook()\n",
    "book.add_student('Albert Einstein')\n",
    "book.report_grade('Albert Einstein', 'Math', 75)\n",
    "book.report_grade('Albert Einstein', 'Math', 65)\n",
    "book.report_grade('Albert Einstein', 'Gym', 90)\n",
    "book.report_grade('Albert Einstein', 'Gym', 95)\n",
    "print(book.average_grade('Albert Einstein'))"
   ]
  },
  {
   "cell_type": "code",
   "execution_count": 20,
   "id": "16127a46",
   "metadata": {},
   "outputs": [],
   "source": [
    "# 各テスト（期末、中間、抜き打ち）に重みを付けるとする\n",
    "class WeightedGradebook:\n",
    "  def __init__(self):\n",
    "    self._grades = {}\n",
    "\n",
    "  def add_student(self, name):\n",
    "    self._grades[name] = defaultdict(list)\n",
    "\n",
    "  def report_grade(self, name, subject, score, weight):\n",
    "    by_subject = self._grades[name]\n",
    "    grade_list = by_subject[subject]\n",
    "    grade_list.append((score, weight))\n",
    "\n",
    "  # ループの中にループがあり、見づらい\n",
    "  def average_grade(self, name):\n",
    "    by_subject = self._grades[name]\n",
    "\n",
    "    score_sum, score_count = 0, 0\n",
    "    for subject, scores in by_subject.items():\n",
    "      subject_avg, total_weight = 0, 0\n",
    "      for score, weight in scores:\n",
    "        subject_avg += score * weight\n",
    "        total_weight += weight\n",
    "\n",
    "      score_sum += subject_avg / total_weight\n",
    "      score_count += 1\n",
    "    return score_sum / score_count"
   ]
  },
  {
   "cell_type": "code",
   "execution_count": 21,
   "id": "92da1bf6",
   "metadata": {},
   "outputs": [
    {
     "name": "stdout",
     "output_type": "stream",
     "text": [
      "80.25\n"
     ]
    }
   ],
   "source": [
    "# 使い方も明瞭ではない\n",
    "# 位置引数の数値が何を意味しているかわかりずらい\n",
    "book = WeightedGradebook()\n",
    "book.add_student('Albert Einstein')\n",
    "book.report_grade('Albert Einstein', 'Math', 75, 0.05)\n",
    "book.report_grade('Albert Einstein', 'Math', 65, 0.15)\n",
    "book.report_grade('Albert Einstein', 'Math', 70, 0.80)\n",
    "book.report_grade('Albert Einstein', 'Gym', 100, 0.40)\n",
    "book.report_grade('Albert Einstein', 'Gym', 85, 0.60)\n",
    "print(book.average_grade('Albert Einstein'))"
   ]
  },
  {
   "cell_type": "markdown",
   "id": "80fa0d77",
   "metadata": {},
   "source": [
    "辞書を要素として含む辞書は、コードが他のプログラマにとって読みにくくなる"
   ]
  },
  {
   "cell_type": "markdown",
   "id": "d1fc1bd4",
   "metadata": {},
   "source": [
    "### クラスへのリファクタリング\n",
    "\n",
    "タプルを次々に長くしていくことは、辞書で層を深くしていくのと同じようなものである\n",
    "\n",
    "2要素のタプルより長くしていることが分かったら、すぐに別の方法を考えるべきである\n",
    "\n",
    "組み込みモジュール collections の namedtuple 型は、まさに櫃お湯なことをしてくれる\n",
    "\n",
    "※ namedtuple は多くの場合に有用であるが、弊害の方が多くなる場合もある\n",
    "\n",
    "- デフォルト引数を指定できない\n",
    "- 6個以上の属性を扱うなら、組み込みモジュール dataclasses が良い"
   ]
  },
  {
   "cell_type": "code",
   "execution_count": 28,
   "id": "76fd4a28",
   "metadata": {},
   "outputs": [],
   "source": [
    "from collections import namedtuple\n",
    "\n",
    "Grade = namedtuple('Grade', ('score', 'weight'))"
   ]
  },
  {
   "cell_type": "code",
   "execution_count": 29,
   "id": "98b7574b",
   "metadata": {},
   "outputs": [],
   "source": [
    "class Subject:\n",
    "  def __init__(self):\n",
    "    self._grades = []\n",
    "\n",
    "  def report_grade(self, score, weight):\n",
    "    self._grades.append(Grade(score, weight))\n",
    "\n",
    "  def average_grade(self):\n",
    "    total, total_weight = 0, 0\n",
    "    for grade in self._grades:\n",
    "      total += grade.score * grade.weight\n",
    "      total_weight += grade.weight\n",
    "    return total / total_weight"
   ]
  },
  {
   "cell_type": "code",
   "execution_count": 23,
   "id": "0d443bb0",
   "metadata": {},
   "outputs": [],
   "source": [
    "class Student:\n",
    "  def __init__(self):\n",
    "    self._subjects = defaultdict(Subject)\n",
    "\n",
    "  def get_subject(self, name):\n",
    "    return self._subjects[name]\n",
    "\n",
    "  def average_grade(self):\n",
    "    total, count = 0, 0\n",
    "    for subject in self._subjects.values():\n",
    "      total += subject.average_grade()\n",
    "      count += 1\n",
    "    return total / count"
   ]
  },
  {
   "cell_type": "code",
   "execution_count": 24,
   "id": "9ce39623",
   "metadata": {},
   "outputs": [],
   "source": [
    "class Gradebook:\n",
    "  def __init__(self):\n",
    "    self._students = defaultdict(Student)\n",
    "\n",
    "  def get_student(self, name):\n",
    "    return self._students[name]"
   ]
  },
  {
   "cell_type": "code",
   "execution_count": 31,
   "id": "a1f7a791",
   "metadata": {},
   "outputs": [
    {
     "name": "stdout",
     "output_type": "stream",
     "text": [
      "80.25\n"
     ]
    }
   ],
   "source": [
    "book = Gradebook()\n",
    "albert = book.get_student('Albert Einstein')\n",
    "math = albert.get_subject('Math')\n",
    "math.report_grade(75, 0.05)\n",
    "math.report_grade(65, 0.15)\n",
    "math.report_grade(70, 0.80)\n",
    "gym = albert.get_subject('Gym')\n",
    "gym.report_grade(100, 0.40)\n",
    "gym.report_grade(85, 0.60)\n",
    "print(albert.average_grade())"
   ]
  }
 ],
 "metadata": {
  "kernelspec": {
   "display_name": "venv",
   "language": "python",
   "name": "python3"
  },
  "language_info": {
   "codemirror_mode": {
    "name": "ipython",
    "version": 3
   },
   "file_extension": ".py",
   "mimetype": "text/x-python",
   "name": "python",
   "nbconvert_exporter": "python",
   "pygments_lexer": "ipython3",
   "version": "3.11.8"
  }
 },
 "nbformat": 4,
 "nbformat_minor": 5
}
