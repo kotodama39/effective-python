{
 "cells": [
  {
   "cell_type": "markdown",
   "id": "c670e7ba",
   "metadata": {},
   "source": [
    "# super を使って、スーパークラスを初期化する"
   ]
  },
  {
   "cell_type": "code",
   "execution_count": 1,
   "id": "df0f0605",
   "metadata": {},
   "outputs": [],
   "source": [
    "# サブクラスからスーパークラスを初期化する古いやり方\n",
    "class MyBaseClass:\n",
    "  def __init__(self, value):\n",
    "    self.value = value\n",
    "\n",
    "class MyChildClass(MyBaseClass):\n",
    "  def __init__(self):\n",
    "    MyBaseClass.__init__(self, 5)"
   ]
  },
  {
   "cell_type": "code",
   "execution_count": 6,
   "id": "2a5f6c4f",
   "metadata": {},
   "outputs": [],
   "source": [
    "# 古い方式は、単純な階層では問題ない\n",
    "# クラスが、多重継承（一般的には避ける）によって影響を受けているとき、\n",
    "# スーパークラスの __init__ メソッドを直接呼び出すと、\n",
    "# 予期せぬ振る舞いに遭遇することがある\n",
    "class TimesTwo:\n",
    "  def __init__(self):\n",
    "    self.value *= 2\n",
    "\n",
    "class PlusFive:\n",
    "  def __init__(self):\n",
    "    self.value += 5"
   ]
  },
  {
   "cell_type": "code",
   "execution_count": 7,
   "id": "2f58d485",
   "metadata": {},
   "outputs": [],
   "source": [
    "class OneWay(MyBaseClass, TimesTwo, PlusFive):\n",
    "  def __init__(self, value):\n",
    "    MyBaseClass.__init__(self, value)\n",
    "    TimesTwo.__init__(self)\n",
    "    PlusFive.__init__(self)"
   ]
  },
  {
   "cell_type": "code",
   "execution_count": 8,
   "id": "aef9fd65",
   "metadata": {},
   "outputs": [
    {
     "name": "stdout",
     "output_type": "stream",
     "text": [
      "First ordering is (5 * 2) + 5 = 15\n"
     ]
    }
   ],
   "source": [
    "foo = OneWay(5)\n",
    "print('First ordering is (5 * 2) + 5 =', foo.value)"
   ]
  },
  {
   "cell_type": "code",
   "execution_count": null,
   "id": "e5ccf903",
   "metadata": {},
   "outputs": [],
   "source": [
    "# TimesTwo と PlusFive の順序がことなるクラスを定義しても、まだ結果は同じ\n",
    "class AnotherWay(MyBaseClass, PlusFive, TimesTwo):\n",
    "  def __init__(self, value):\n",
    "    MyBaseClass.__init__(self, value)\n",
    "    TimesTwo.__init__(self)\n",
    "    PlusFive.__init__(self)"
   ]
  },
  {
   "cell_type": "code",
   "execution_count": 12,
   "id": "ba6e3416",
   "metadata": {},
   "outputs": [
    {
     "name": "stdout",
     "output_type": "stream",
     "text": [
      "Second ordering still is 15\n"
     ]
    }
   ],
   "source": [
    "bar = AnotherWay(5)\n",
    "print('Second ordering still is', bar.value)"
   ]
  },
  {
   "cell_type": "code",
   "execution_count": 13,
   "id": "173c816a",
   "metadata": {},
   "outputs": [],
   "source": [
    "class TimesSeven(MyBaseClass):\n",
    "  def __init__(self, value):\n",
    "    MyBaseClass.__init__(self, value)\n",
    "    self.value * 7\n",
    "\n",
    "class PlusNine(MyBaseClass):\n",
    "  def __init__(self, value):\n",
    "    MyBaseClass.__init__(self, value)\n",
    "    self.value += 9"
   ]
  },
  {
   "cell_type": "code",
   "execution_count": 18,
   "id": "9952e664",
   "metadata": {},
   "outputs": [
    {
     "name": "stdout",
     "output_type": "stream",
     "text": [
      "Should be (5 * 7) + 9 = 44 but is 14\n"
     ]
    }
   ],
   "source": [
    "class ThisWay(TimesSeven, PlusNine):\n",
    "  def __init__(self, value):\n",
    "    TimesSeven.__init__(self, value)\n",
    "    PlusNine.__init__(self, value)\n",
    "\n",
    "foo = ThisWay(5)\n",
    "print('Should be (5 * 7) + 9 = 44 but is', foo.value)"
   ]
  },
  {
   "cell_type": "markdown",
   "id": "3832da6e",
   "metadata": {},
   "source": [
    "2番目のスーパークラスのコンストラクタ PlusNine.\\__init__ の呼び出しでは、MyBaseClass._\\_init__ が2回目に呼び出されたところで、self.value が 5 にリセットされる。\n",
    "ので、TimesSeven._\\_init__ コンストラクタの効果が無視され、self.value の計算は 5 + 9 = 14 となってしまう"
   ]
  },
  {
   "cell_type": "code",
   "execution_count": 27,
   "id": "16379251",
   "metadata": {},
   "outputs": [],
   "source": [
    "# この問題を解決するために、Python は組み込み関数 super と標準メソッド解決順序 MRO を用意\n",
    "# super は、ダイアモンド階層の共通スーパークラスが一度しか実行されないことを保証する\n",
    "# MRO は、C3 線形化と呼ばれるアルゴリズムにしたがってスーパークラスの初期化順を定義する\n",
    "class TimesSevenCorrect(MyBaseClass):\n",
    "  def __init__(self, value):\n",
    "    super().__init__(value)\n",
    "    self.value *= 7\n",
    "\n",
    "class PlusNineCorrect(MyBaseClass):\n",
    "  def __init__(self, value):\n",
    "    super().__init__(value)\n",
    "    self.value += 9"
   ]
  },
  {
   "cell_type": "code",
   "execution_count": 31,
   "id": "1d566304",
   "metadata": {},
   "outputs": [
    {
     "name": "stdout",
     "output_type": "stream",
     "text": [
      "Should be 7 * (5 + 9) = 98 and is 98\n"
     ]
    }
   ],
   "source": [
    "class GoodWay(TimesSevenCorrect, PlusNineCorrect):\n",
    "  def __init__(self, value):\n",
    "    super().__init__(value)\n",
    "\n",
    "foo = GoodWay(5)\n",
    "print('Should be 7 * (5 + 9) = 98 and is', foo.value)"
   ]
  },
  {
   "cell_type": "markdown",
   "id": "f060d06f",
   "metadata": {},
   "source": [
    "この順序は奇妙に思えるかもしれない。つまり、TimesSevenCorrect.\\__init__ が最初に実行されるべきでは？\n",
    "と思うかもしれないが、答えは No である"
   ]
  },
  {
   "cell_type": "code",
   "execution_count": 28,
   "id": "7c05a51a",
   "metadata": {},
   "outputs": [
    {
     "name": "stdout",
     "output_type": "stream",
     "text": [
      "<class '__main__.GoodWay'>\n",
      "<class '__main__.TimesSevenCorrect'>\n",
      "<class '__main__.PlusNineCorrect'>\n",
      "<class '__main__.MyBaseClass'>\n",
      "<class 'object'>\n"
     ]
    }
   ],
   "source": [
    "mro_str = '\\n'.join(repr(cls) for cls in GoodWay.mro())\n",
    "print(mro_str)"
   ]
  },
  {
   "cell_type": "markdown",
   "id": "287fc071",
   "metadata": {},
   "source": [
    "GoodWay(5) を呼び出すと、\n",
    "\n",
    "1. TimesSevenCorrect.\\__init__\n",
    "1. PlusNineCorrect.\\__init__\n",
    "1. MyBaseClass.\\__init__\n",
    "\n",
    "を呼び出す\n",
    "\n",
    "ダイアモンドの頂点に達すると、初期化メソッドのすべては、その \\__init__ 関数が呼ばれたのと逆順で作業をする"
   ]
  },
  {
   "cell_type": "code",
   "execution_count": 32,
   "id": "dac7908e",
   "metadata": {},
   "outputs": [
    {
     "name": "stdout",
     "output_type": "stream",
     "text": [
      "Should be (7 * 5) + 9 = 44 and is 44\n"
     ]
    }
   ],
   "source": [
    "# 継承する順序を返れば答えは変わる\n",
    "class GoodWay(PlusNineCorrect, TimesSevenCorrect):\n",
    "  def __init__(self, value):\n",
    "    super().__init__(value)\n",
    "\n",
    "foo = GoodWay(5)\n",
    "print('Should be (7 * 5) + 9 = 44 and is', foo.value)"
   ]
  },
  {
   "cell_type": "code",
   "execution_count": null,
   "id": "a51f67c9",
   "metadata": {},
   "outputs": [],
   "source": [
    "# 補足: super にはオプションの引数がある\n",
    "# 以下3つは等価\n",
    "class ExplicitTrisect(MyBaseClass):\n",
    "  def __init__(self, value):\n",
    "    super(ExplicitTrisect, self).__init__(value)\n",
    "    self.value /= 3\n",
    "\n",
    "class AutomaticTrisect(MyBaseClass):\n",
    "  def __init__(self, value):\n",
    "    super(__class__, self).__init__(value)\n",
    "    self.value /= 3\n",
    "\n",
    "class ImpricitTrisect(MyBaseClass):\n",
    "  def __init__(self, value):\n",
    "    super().__init__(value)\n",
    "    self.value /= 3\n",
    "\n",
    "assert ExplicitTrisect(9).value == 3\n",
    "assert AutomaticTrisect(9).value == 3\n",
    "assert ImpricitTrisect(9).value == 3"
   ]
  },
  {
   "cell_type": "markdown",
   "id": "bbf278ee",
   "metadata": {},
   "source": [
    "#### 補足\n",
    "\n",
    "> super に引数を渡さないといけないのは、スーパークラスの実装の特定の機能にサブクラスからアクセスしなければいけない場合だけです\n",
    "\n",
    "について"
   ]
  },
  {
   "cell_type": "markdown",
   "id": "3f3c41e3",
   "metadata": {},
   "source": [
    "これは主に「親のメソッドを明示的に取り出してラップする」場合を指している。\n",
    "以下のような、メソッドを取得して保存・再利用するような高度なケース"
   ]
  },
  {
   "cell_type": "code",
   "execution_count": 34,
   "id": "92a118d9",
   "metadata": {},
   "outputs": [],
   "source": [
    "class LoggingDict(dict):\n",
    "    def __setitem__(self, key, value):\n",
    "        print(f\"Setting {key} = {value}\")\n",
    "        super().__setitem__(key, value)\n",
    "\n",
    "class UppercaseDict(LoggingDict):\n",
    "    def __setitem__(self, key, value):\n",
    "        # super() に引数を明示する（UppercaseDict, self）\n",
    "        # これで LoggingDict.__setitem__ を取得して呼び出せる\n",
    "        log_setitem = super(UppercaseDict, self).__setitem__\n",
    "        log_setitem(key.upper(), value)"
   ]
  },
  {
   "cell_type": "code",
   "execution_count": 35,
   "id": "957bc82d",
   "metadata": {},
   "outputs": [
    {
     "name": "stdout",
     "output_type": "stream",
     "text": [
      "Setting FOO = bar\n",
      "{'FOO': 'bar'}\n"
     ]
    }
   ],
   "source": [
    "d = UppercaseDict()\n",
    "d['foo'] = 'bar'\n",
    "print(d)"
   ]
  },
  {
   "cell_type": "markdown",
   "id": "c7d85f3d",
   "metadata": {},
   "source": [
    "UppercaseDict は LoggingDict を継承している\n",
    "\n",
    "ここで super(UppercaseDict, self).\\__setitem__ を使って、LoggingDict の \\__setitem__ を明示的に取得して、それをラップして使う\n",
    "\n",
    "このように、スーパークラスのメソッドを変数に格納して後で呼び出すときは、super() に引数を渡す必要がある。\n",
    "\n",
    "なぜなら、super() を引数なしで呼ぶと「その場ですぐに呼び出す」ケースが前提になっているからである。"
   ]
  }
 ],
 "metadata": {
  "kernelspec": {
   "display_name": "venv",
   "language": "python",
   "name": "python3"
  },
  "language_info": {
   "codemirror_mode": {
    "name": "ipython",
    "version": 3
   },
   "file_extension": ".py",
   "mimetype": "text/x-python",
   "name": "python",
   "nbconvert_exporter": "python",
   "pygments_lexer": "ipython3",
   "version": "3.11.8"
  }
 },
 "nbformat": 4,
 "nbformat_minor": 5
}
