{
 "cells": [
  {
   "cell_type": "markdown",
   "id": "688321ac",
   "metadata": {},
   "source": [
    "# @classmethod ポリモフィズムを使ってオブジェクトをジェネリックに構築する"
   ]
  },
  {
   "cell_type": "markdown",
   "id": "19b64f6a",
   "metadata": {},
   "source": [
    "Python がオブジェクトだけでなくクラスやポリモフィズムをサポートする意味\n",
    "\n",
    "ポリモフィズムを使用すると、階層をなす複数クラスでそれぞれ独自のバージョンのメソッドを実装できる\n",
    "\n",
    "この方式では、多くのクラスが同じインタフェース、あるいは、抽象基底クラスを実現しながら、\n",
    "異なった機能を提供する"
   ]
  },
  {
   "cell_type": "code",
   "execution_count": null,
   "id": "70dbc723",
   "metadata": {},
   "outputs": [],
   "source": [
    "# MapReduce の実装を書いていて、入力データを表す共通クラスが欲しいとする\n",
    "# サブクラスで定義する必要のある read メソッドを持つクラスを次のように定義\n",
    "# 抽象クラス\n",
    "class InputData:\n",
    "  def read(self):\n",
    "    raise NotImplementedError"
   ]
  },
  {
   "cell_type": "code",
   "execution_count": null,
   "id": "66257211",
   "metadata": {},
   "outputs": [],
   "source": [
    "# データをディスクのファイルから読み込む InputData の具象サブクラス\n",
    "class PathInputData(InputData):\n",
    "  def __init__(self, path):\n",
    "    super().__init__()\n",
    "    self.path = path\n",
    "\n",
    "  def read(self):\n",
    "    with open(self.path) as f:\n",
    "      return f.read()"
   ]
  },
  {
   "cell_type": "code",
   "execution_count": null,
   "id": "04351586",
   "metadata": {},
   "outputs": [],
   "source": [
    "# 抽象クラス\n",
    "class Worker:\n",
    "  def __init__(self, input_data):\n",
    "    self.input_data = input_data\n",
    "    self.result = None\n",
    "\n",
    "  def map(self):\n",
    "    raise NotImplementedError\n",
    "  \n",
    "  def reduce(self, other):\n",
    "    raise NotImplementedError"
   ]
  },
  {
   "cell_type": "code",
   "execution_count": 4,
   "id": "01f91112",
   "metadata": {},
   "outputs": [],
   "source": [
    "class LineCountWorker(Worker):\n",
    "  def map(self):\n",
    "    data = self.input_data.read()\n",
    "    self.result = data.count('\\n')\n",
    "\n",
    "  def reduce(self, other):\n",
    "    self.result += other.result"
   ]
  },
  {
   "cell_type": "code",
   "execution_count": 5,
   "id": "9ffaa2a5",
   "metadata": {},
   "outputs": [],
   "source": [
    "import os\n",
    "\n",
    "def generate_inputs(data_dir):\n",
    "  for name in os.listdir(data_dir):\n",
    "    yield PathInputData(os.path.join(data_dir, name))"
   ]
  },
  {
   "cell_type": "code",
   "execution_count": 6,
   "id": "a6ea767b",
   "metadata": {},
   "outputs": [],
   "source": [
    "def create_workers(input_list):\n",
    "  workers = []\n",
    "  for input_data in input_list:\n",
    "    workers.append(LineCountWorker(input_data))\n",
    "  return workers"
   ]
  },
  {
   "cell_type": "code",
   "execution_count": 7,
   "id": "a2747655",
   "metadata": {},
   "outputs": [],
   "source": [
    "from threading import Thread\n",
    "\n",
    "def execute(workers):\n",
    "  threads = [Thread(target=w.map) for w in workers]\n",
    "  for thread in threads: thread.start()\n",
    "  for thread in threads: thread.join()\n",
    "\n",
    "  first, *rest = workers\n",
    "  for worker in rest:\n",
    "    first.reduce(worker)\n",
    "  return first.result"
   ]
  },
  {
   "cell_type": "code",
   "execution_count": 8,
   "id": "a3eccfb9",
   "metadata": {},
   "outputs": [],
   "source": [
    "def mapreduce(data_dir):\n",
    "  inputs = generate_inputs(data_dir)\n",
    "  workers = create_workers(inputs)\n",
    "  return execute(workers)"
   ]
  },
  {
   "cell_type": "code",
   "execution_count": null,
   "id": "8732afaa",
   "metadata": {},
   "outputs": [
    {
     "name": "stdout",
     "output_type": "stream",
     "text": [
      "There are 4704 lines\n"
     ]
    }
   ],
   "source": [
    "import os\n",
    "import random\n",
    "\n",
    "def write_test_files(tmpdir):\n",
    "  os.makedirs(tmpdir)\n",
    "  for i in range(100):\n",
    "    with open(os.path.join(tmpdir, str(i)), 'w') as f:\n",
    "      f.write('\\n' * random.randint(0, 100))\n",
    "\n",
    "tmpdir = 'test_inputs'\n",
    "write_test_files(tmpdir)\n",
    "\n",
    "result = mapreduce(tmpdir)\n",
    "print(f'There are {result} lines')"
   ]
  },
  {
   "cell_type": "markdown",
   "id": "59b03bc0",
   "metadata": {},
   "source": [
    "これの大きな問題は、この mapreduce関数がまったくジェネリックではないことである\n",
    "つまり、mapreduce 関数が汎用的（ジェネリック）ではなく、特定の具象クラス（PathInputData, LineCountWorker）に依存してしまっているという点が問題\n",
    "\n",
    "### 問題の背景\n",
    "\n",
    "このコードの構造は、以下のような意図で設計されている\n",
    "\n",
    "- InputData クラス：データの読み込み方法を抽象化（抽象クラス）\n",
    "- Worker クラス：MapReduce ワーカーの抽象クラス\n",
    "- それぞれに対して、具象クラス（PathInputData, LineCountWorker）が存在\n",
    "\n",
    "つまり、ポリモーフィズム（多態性）を活かして、他のタイプの InputData（たとえばネットワーク経由でデータを取得する NetworkInputData）や、他のタイプの Worker（たとえば単語数を数える WordCountWorker）を定義できる構造にしてある\n",
    "\n",
    "しかし、generate_inputs関数やcreate_workers関数の中で、具体的なクラス（PathInputDataとLineCountWorker）が固定的に使われている\n",
    "\n",
    "```Python\n",
    "def generate_inputs(data_dir):\n",
    "  for name in os.listdir(data_dir):\n",
    "    yield PathInputData(os.path.join(data_dir, name))\n",
    "```\n",
    "\n",
    "```Python\n",
    "def create_workers(input_list):\n",
    "  workers = []\n",
    "  for input_data in input_list:\n",
    "    workers.append(LineCountWorker(input_data))\n",
    "  return workers\n",
    "```\n",
    "\n",
    "そのため、以下のことを考えた際に、mapreduce 関数やその周辺（generate_inputs, create_workers）を書き換える必要がある\n",
    "\n",
    "- 他の InputData のサブクラス（たとえば MemoryInputData）を使いたい\n",
    "- 他の Worker のサブクラス（たとえば WordCountWorker）を使いたい\n",
    "\n",
    "```Python\n",
    "def mapreduce(data_dir):\n",
    "  inputs = generate_inputs(data_dir) # ← PathInputDataに固定\n",
    "  workers = create_workers(inputs)   # ← LineCountWorkerに固定\n",
    "  return execute(workers)\n",
    "```\n",
    "\n",
    "このように、クラス構成自体はポリモーフィズムに対応していて柔軟に見えるのに、実際の使用箇所ではクラス名がベタ書きされているために柔軟性を失っている——これが「mapreduce関数がジェネリックではない」という意味です。"
   ]
  },
  {
   "cell_type": "markdown",
   "id": "e0618fe9",
   "metadata": {},
   "source": [
    "### 問題の解決法\n",
    "別の InputData や Worker といったサブクラスを書いたなら generate_inputs や create_workers を書き直して、mapreduce 関数でも対応しなければいけない\n",
    "\n",
    "この問題を解く最良の方法は、クラスメソッドポリモフィズムを使う"
   ]
  },
  {
   "cell_type": "code",
   "execution_count": 15,
   "id": "317b5f7d",
   "metadata": {},
   "outputs": [],
   "source": [
    "class GenericInputData:\n",
    "  def read(self):\n",
    "    raise NotImplementedError\n",
    "  \n",
    "  @classmethod\n",
    "  def generate_inputs(cls, config):\n",
    "    raise NotImplementedError"
   ]
  },
  {
   "cell_type": "code",
   "execution_count": 25,
   "id": "65ee8f15",
   "metadata": {},
   "outputs": [],
   "source": [
    "class PathInputData(GenericInputData):\n",
    "  def __init__(self, path):\n",
    "    super().__init__()\n",
    "    self.path = path\n",
    "\n",
    "  def read(self):\n",
    "    with open(self.path) as f:\n",
    "      return f.read()\n",
    "  \n",
    "  @classmethod\n",
    "  def generate_inputs(cls, config):\n",
    "    data_dir = config['data_dir']\n",
    "    for name in os.listdir(data_dir):\n",
    "      yield cls(os.path.join(data_dir, name))"
   ]
  },
  {
   "cell_type": "code",
   "execution_count": 24,
   "id": "a5dd78bf",
   "metadata": {},
   "outputs": [],
   "source": [
    "class GenericWorker:\n",
    "  def __init__(self, input_data):\n",
    "    self.input_data = input_data\n",
    "    self.result = None\n",
    "\n",
    "  def map(self):\n",
    "    raise NotImplementedError\n",
    "  \n",
    "  def reduce(self, other):\n",
    "    raise NotImplementedError\n",
    "  \n",
    "  @classmethod\n",
    "  def create_workers(cls, input_class, config):\n",
    "    workers = []\n",
    "    for input_data in input_class.generate_inputs(config):\n",
    "      workers.append(cls(input_data))\n",
    "    return workers"
   ]
  },
  {
   "cell_type": "code",
   "execution_count": 18,
   "id": "98d55f77",
   "metadata": {},
   "outputs": [],
   "source": [
    "class LineCountWorker(GenericWorker):\n",
    "  def map(self):\n",
    "    data = self.input_data.read()\n",
    "    self.result = data.count('\\n')\n",
    "\n",
    "  def reduce(self, other):\n",
    "    self.result += other.result"
   ]
  },
  {
   "cell_type": "code",
   "execution_count": 19,
   "id": "434d589d",
   "metadata": {},
   "outputs": [],
   "source": [
    "def mapreduce(worker_class, input_class, config):\n",
    "  workers = worker_class.create_workers(input_class, config)\n",
    "  return execute(workers)"
   ]
  },
  {
   "cell_type": "code",
   "execution_count": 26,
   "id": "1ba01d65",
   "metadata": {},
   "outputs": [
    {
     "name": "stdout",
     "output_type": "stream",
     "text": [
      "There are 4704 lines\n"
     ]
    }
   ],
   "source": [
    "config = {'data_dir': tmpdir}\n",
    "result = mapreduce(LineCountWorker, PathInputData, config)\n",
    "print(f'There are {result} lines')"
   ]
  },
  {
   "cell_type": "markdown",
   "id": "092308db",
   "metadata": {},
   "source": [
    "以下のように書くこともできる\n",
    "\n",
    "```Python\n",
    "mapreduce(WordCountWorker, NetworkInputData, 'http://example.com/data')\n",
    "```"
   ]
  }
 ],
 "metadata": {
  "kernelspec": {
   "display_name": "venv",
   "language": "python",
   "name": "python3"
  },
  "language_info": {
   "codemirror_mode": {
    "name": "ipython",
    "version": 3
   },
   "file_extension": ".py",
   "mimetype": "text/x-python",
   "name": "python",
   "nbconvert_exporter": "python",
   "pygments_lexer": "ipython3",
   "version": "3.11.8"
  }
 },
 "nbformat": 4,
 "nbformat_minor": 5
}
