{
 "cells": [
  {
   "cell_type": "markdown",
   "id": "473488fa",
   "metadata": {},
   "source": [
    "# カスタムコンテナ型は collections.abc を継承する"
   ]
  },
  {
   "cell_type": "code",
   "execution_count": 4,
   "id": "3087e210",
   "metadata": {},
   "outputs": [],
   "source": [
    "class FrenquencyList(list):\n",
    "    def __init__(self, members):\n",
    "        super().__init__(members)\n",
    "\n",
    "    def frequency(self):\n",
    "        counts = {}\n",
    "        for item in self:\n",
    "          counts[item] = counts.get(item, 0) + 1\n",
    "        return counts"
   ]
  },
  {
   "cell_type": "code",
   "execution_count": 5,
   "id": "7c20b8ec",
   "metadata": {},
   "outputs": [
    {
     "name": "stdout",
     "output_type": "stream",
     "text": [
      "Length is: 7\n",
      "After pop: ['a', 'b', 'a', 'c', 'b', 'a']\n",
      "Frequency: {'a': 3, 'b': 2, 'c': 1}\n"
     ]
    }
   ],
   "source": [
    "foo = FrenquencyList(['a', 'b', 'a', 'c', 'b', 'a', 'd'])\n",
    "print('Length is:', len(foo))\n",
    "foo.pop()\n",
    "print('After pop:', repr(foo))\n",
    "print('Frequency:', foo.frequency())"
   ]
  },
  {
   "cell_type": "code",
   "execution_count": 6,
   "id": "1c8dfcdb",
   "metadata": {},
   "outputs": [],
   "source": [
    "class BinaryNode:\n",
    "  def __init__(self, value, left=None, right=None):\n",
    "    self.value = value\n",
    "    self.left = left\n",
    "    self.right = right"
   ]
  },
  {
   "cell_type": "code",
   "execution_count": null,
   "id": "47851bab",
   "metadata": {},
   "outputs": [
    {
     "data": {
      "text/plain": [
       "1"
      ]
     },
     "execution_count": 7,
     "metadata": {},
     "output_type": "execute_result"
    }
   ],
   "source": [
    "bar = [1, 2, 3]\n",
    "bar[0]\n",
    "# bar.__getitem__(0)  と解釈される"
   ]
  },
  {
   "cell_type": "code",
   "execution_count": 8,
   "id": "a18a80e6",
   "metadata": {},
   "outputs": [],
   "source": [
    "class InexableNode(BinaryNode):\n",
    "  def _traverse(self):\n",
    "    if self.left is not None:\n",
    "      yield from self.left._traverse()\n",
    "    yield self\n",
    "    if self.right is not None:\n",
    "      yield from self.right._traverse()\n",
    "\n",
    "  def __getitem__(self, index):\n",
    "    for i, item in enumerate(self._traverse()):\n",
    "      if i == index:\n",
    "        return item.value\n",
    "    raise IndexError(f'Index {index} is out of range')"
   ]
  },
  {
   "cell_type": "code",
   "execution_count": 11,
   "id": "c0ad2c01",
   "metadata": {},
   "outputs": [],
   "source": [
    "tree = InexableNode(\n",
    "  10,\n",
    "  left=InexableNode(\n",
    "    5,\n",
    "    left=InexableNode(2),\n",
    "    right=InexableNode(\n",
    "      6, right=InexableNode(7))),\n",
    "  right=InexableNode(\n",
    "    15, left=InexableNode(11)))"
   ]
  },
  {
   "cell_type": "code",
   "execution_count": 12,
   "id": "a3520cc4",
   "metadata": {},
   "outputs": [
    {
     "name": "stdout",
     "output_type": "stream",
     "text": [
      "LRR is 7\n",
      "Index 0 is 2\n",
      "Index 1 is 5\n",
      "11 in the tree? True\n",
      "17 in the tree? False\n",
      "Tree is [2, 5, 6, 7, 10, 11, 15]\n"
     ]
    }
   ],
   "source": [
    "print('LRR is', tree.left.right.right.value)\n",
    "print('Index 0 is', tree[0])\n",
    "print('Index 1 is', tree[1])\n",
    "print('11 in the tree?', 11 in tree)\n",
    "print('17 in the tree?', 17 in tree)\n",
    "print('Tree is', list(tree))"
   ]
  },
  {
   "cell_type": "code",
   "execution_count": null,
   "id": "700758a2",
   "metadata": {},
   "outputs": [
    {
     "ename": "TypeError",
     "evalue": "object of type 'InexableNode' has no len()",
     "output_type": "error",
     "traceback": [
      "\u001b[31m---------------------------------------------------------------------------\u001b[39m",
      "\u001b[31mTypeError\u001b[39m                                 Traceback (most recent call last)",
      "\u001b[36mCell\u001b[39m\u001b[36m \u001b[39m\u001b[32mIn[14]\u001b[39m\u001b[32m, line 1\u001b[39m\n\u001b[32m----> \u001b[39m\u001b[32m1\u001b[39m \u001b[38;5;28;43mlen\u001b[39;49m\u001b[43m(\u001b[49m\u001b[43mtree\u001b[49m\u001b[43m)\u001b[49m\n",
      "\u001b[31mTypeError\u001b[39m: object of type 'InexableNode' has no len()"
     ]
    }
   ],
   "source": [
    "len(tree) # __len__() が定義されていないので、TypeErrorが発生する"
   ]
  },
  {
   "cell_type": "code",
   "execution_count": 17,
   "id": "3f3de1f9",
   "metadata": {},
   "outputs": [],
   "source": [
    "class SequenceNode(InexableNode):\n",
    "  def __len__(self):\n",
    "    for count,_ in enumerate(self._traverse(), 1):\n",
    "      pass\n",
    "    return count\n",
    "\n",
    "tree = SequenceNode(\n",
    "  10,\n",
    "  left=SequenceNode(\n",
    "    5,\n",
    "    left=SequenceNode(2),\n",
    "    right=SequenceNode(\n",
    "      6, right=SequenceNode(7))),\n",
    "  right=SequenceNode(\n",
    "    15, left=SequenceNode(11)))"
   ]
  },
  {
   "cell_type": "code",
   "execution_count": 18,
   "id": "2b4266bd",
   "metadata": {},
   "outputs": [
    {
     "name": "stdout",
     "output_type": "stream",
     "text": [
      "Tree length is 7\n"
     ]
    }
   ],
   "source": [
    "print('Tree length is', len(tree))"
   ]
  },
  {
   "cell_type": "code",
   "execution_count": 20,
   "id": "e787ce38",
   "metadata": {},
   "outputs": [
    {
     "ename": "TypeError",
     "evalue": "Can't instantiate abstract class BadType with abstract methods __getitem__, __len__",
     "output_type": "error",
     "traceback": [
      "\u001b[31m---------------------------------------------------------------------------\u001b[39m",
      "\u001b[31mTypeError\u001b[39m                                 Traceback (most recent call last)",
      "\u001b[36mCell\u001b[39m\u001b[36m \u001b[39m\u001b[32mIn[20]\u001b[39m\u001b[32m, line 6\u001b[39m\n\u001b[32m      3\u001b[39m \u001b[38;5;28;01mclass\u001b[39;00m\u001b[38;5;250m \u001b[39m\u001b[34;01mBadType\u001b[39;00m(Sequence):\n\u001b[32m      4\u001b[39m   \u001b[38;5;28;01mpass\u001b[39;00m\n\u001b[32m----> \u001b[39m\u001b[32m6\u001b[39m foo = \u001b[43mBadType\u001b[49m\u001b[43m(\u001b[49m\u001b[43m)\u001b[49m\n",
      "\u001b[31mTypeError\u001b[39m: Can't instantiate abstract class BadType with abstract methods __getitem__, __len__"
     ]
    }
   ],
   "source": [
    "from collections.abc import Sequence\n",
    "\n",
    "class BadType(Sequence):\n",
    "  pass\n",
    "\n",
    "foo = BadType()"
   ]
  },
  {
   "cell_type": "code",
   "execution_count": 21,
   "id": "cca012a1",
   "metadata": {},
   "outputs": [
    {
     "name": "stdout",
     "output_type": "stream",
     "text": [
      "Index of 7 is 3\n",
      "Count of 10 is 1\n"
     ]
    }
   ],
   "source": [
    "class BetterNode(SequenceNode, Sequence):\n",
    "  pass\n",
    "\n",
    "tree = BetterNode(\n",
    "  10,\n",
    "  left=BetterNode(\n",
    "    5,\n",
    "    left=BetterNode(2),\n",
    "    right=BetterNode(\n",
    "      6, right=BetterNode(7))),\n",
    "  right=BetterNode(\n",
    "    15, left=BetterNode(11)))\n",
    "\n",
    "print('Index of 7 is', tree.index(7))\n",
    "print('Count of 10 is', tree.count(10))"
   ]
  }
 ],
 "metadata": {
  "kernelspec": {
   "display_name": "venv",
   "language": "python",
   "name": "python3"
  },
  "language_info": {
   "codemirror_mode": {
    "name": "ipython",
    "version": 3
   },
   "file_extension": ".py",
   "mimetype": "text/x-python",
   "name": "python",
   "nbconvert_exporter": "python",
   "pygments_lexer": "ipython3",
   "version": "3.11.8"
  }
 },
 "nbformat": 4,
 "nbformat_minor": 5
}
