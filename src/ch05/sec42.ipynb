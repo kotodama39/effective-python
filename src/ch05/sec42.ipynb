{
 "cells": [
  {
   "cell_type": "markdown",
   "id": "d1e5cd34",
   "metadata": {},
   "source": [
    "# プライベート属性よりパブリックな属性が好ましい"
   ]
  },
  {
   "cell_type": "code",
   "execution_count": 1,
   "id": "f9317eb1",
   "metadata": {},
   "outputs": [],
   "source": [
    "class MyObject:\n",
    "  def __init__(self):\n",
    "    self.public_field = 5\n",
    "    self.__private_field = 10\n",
    "\n",
    "  def get_private_field(self):\n",
    "    return self.__private_field"
   ]
  },
  {
   "cell_type": "code",
   "execution_count": 2,
   "id": "1959cc48",
   "metadata": {},
   "outputs": [],
   "source": [
    "foo = MyObject()\n",
    "assert foo.public_field == 5"
   ]
  },
  {
   "cell_type": "code",
   "execution_count": 5,
   "id": "149c6a24",
   "metadata": {},
   "outputs": [],
   "source": [
    "assert foo.get_private_field() == 10"
   ]
  },
  {
   "cell_type": "code",
   "execution_count": null,
   "id": "9fd1ecdb",
   "metadata": {},
   "outputs": [
    {
     "ename": "AttributeError",
     "evalue": "'MyObject' object has no attribute '__private_field'",
     "output_type": "error",
     "traceback": [
      "\u001b[31m---------------------------------------------------------------------------\u001b[39m",
      "\u001b[31mAttributeError\u001b[39m                            Traceback (most recent call last)",
      "\u001b[36mCell\u001b[39m\u001b[36m \u001b[39m\u001b[32mIn[3]\u001b[39m\u001b[32m, line 2\u001b[39m\n\u001b[32m      1\u001b[39m \u001b[38;5;66;03m# エラーになる\u001b[39;00m\n\u001b[32m----> \u001b[39m\u001b[32m2\u001b[39m \u001b[43mfoo\u001b[49m\u001b[43m.\u001b[49m\u001b[43m__private_field\u001b[49m\n",
      "\u001b[31mAttributeError\u001b[39m: 'MyObject' object has no attribute '__private_field'"
     ]
    }
   ],
   "source": [
    "# エラーになる\n",
    "foo.__private_field\n"
   ]
  },
  {
   "cell_type": "code",
   "execution_count": 7,
   "id": "a20f8217",
   "metadata": {},
   "outputs": [],
   "source": [
    "class MyOtherObject:\n",
    "  def __init__(self):\n",
    "    self.__private_field = 71\n",
    "\n",
    "  @classmethod\n",
    "  def get_private_field_of_instance(cls, instance):\n",
    "    return instance.__private_field\n",
    "  \n",
    "bar = MyOtherObject()\n",
    "assert MyOtherObject.get_private_field_of_instance(bar) == 71"
   ]
  },
  {
   "cell_type": "code",
   "execution_count": 8,
   "id": "cfe18a72",
   "metadata": {},
   "outputs": [],
   "source": [
    "# サブクラスは、スーパークラスのプライベートフィールドにアクセスできない\n",
    "class MyParentObject:\n",
    "  def __init__(self):\n",
    "    self.__private_field = 71\n",
    "\n",
    "class MyChildObject(MyParentObject):\n",
    "  def get_private_field(self):\n",
    "    return self.__private_field"
   ]
  },
  {
   "cell_type": "code",
   "execution_count": null,
   "id": "c494b9ed",
   "metadata": {},
   "outputs": [
    {
     "ename": "AttributeError",
     "evalue": "'MyChildObject' object has no attribute '_MyChildObject__private_field'",
     "output_type": "error",
     "traceback": [
      "\u001b[31m---------------------------------------------------------------------------\u001b[39m",
      "\u001b[31mAttributeError\u001b[39m                            Traceback (most recent call last)",
      "\u001b[36mCell\u001b[39m\u001b[36m \u001b[39m\u001b[32mIn[9]\u001b[39m\u001b[32m, line 2\u001b[39m\n\u001b[32m      1\u001b[39m baz = MyChildObject()\n\u001b[32m----> \u001b[39m\u001b[32m2\u001b[39m \u001b[43mbaz\u001b[49m\u001b[43m.\u001b[49m\u001b[43mget_private_field\u001b[49m\u001b[43m(\u001b[49m\u001b[43m)\u001b[49m\n",
      "\u001b[36mCell\u001b[39m\u001b[36m \u001b[39m\u001b[32mIn[8]\u001b[39m\u001b[32m, line 8\u001b[39m, in \u001b[36mMyChildObject.get_private_field\u001b[39m\u001b[34m(self)\u001b[39m\n\u001b[32m      7\u001b[39m \u001b[38;5;28;01mdef\u001b[39;00m\u001b[38;5;250m \u001b[39m\u001b[34mget_private_field\u001b[39m(\u001b[38;5;28mself\u001b[39m):\n\u001b[32m----> \u001b[39m\u001b[32m8\u001b[39m   \u001b[38;5;28;01mreturn\u001b[39;00m \u001b[38;5;28;43mself\u001b[39;49m\u001b[43m.\u001b[49m\u001b[43m__private_field\u001b[49m\n",
      "\u001b[31mAttributeError\u001b[39m: 'MyChildObject' object has no attribute '_MyChildObject__private_field'"
     ]
    }
   ],
   "source": [
    "baz = MyChildObject()\n",
    "baz.get_private_field()"
   ]
  },
  {
   "cell_type": "markdown",
   "id": "3ad96e10",
   "metadata": {},
   "source": [
    "プライベート属性の振る舞いは、属性名の単純な変換で実装される。\n",
    "Python コンパイラが MyChildObject.get_private_field メソッドのようなプライベート属性アクセスを、__private_field の代わりに _MyChildObject__private_field にアクセスするように変換される。\n",
    "\n",
    "この例では、__private_field が MyParentObject.__init__ のみで定義されていて、プライベート属性の本当の名前が _MyParentObject__private_field であることを意味する。\n",
    "サブクラスから親のプライベート属性をアクセスすると、変換された属性名が合致しないという単純な理由で失敗する。\n",
    "\n",
    "この方式がわかっていれば、サブクラスや外部から許可をもらわなくても、任意のクラスのプライベート属性に簡単にアクセスができる。"
   ]
  },
  {
   "cell_type": "code",
   "execution_count": 10,
   "id": "0f5cee63",
   "metadata": {},
   "outputs": [],
   "source": [
    "assert baz._MyParentObject__private_field == 71"
   ]
  },
  {
   "cell_type": "markdown",
   "id": "58eca6e6",
   "metadata": {},
   "source": [
    "オブジェクトの属性辞書を見れば、プライベート属性が実は返還後に表示される名前で登録されている"
   ]
  },
  {
   "cell_type": "code",
   "execution_count": 11,
   "id": "32297f1f",
   "metadata": {},
   "outputs": [
    {
     "name": "stdout",
     "output_type": "stream",
     "text": [
      "{'_MyParentObject__private_field': 71}\n"
     ]
    }
   ],
   "source": [
    "print(baz.__dict__)"
   ]
  },
  {
   "cell_type": "markdown",
   "id": "8dbcd857",
   "metadata": {},
   "source": [
    "なぜ、プライベート属性の構文は、厳密な可視性を強制しないのか。\n",
    "\n",
    "最も単純な回答は、Python のモットー「みんな大人なんだから」である。\n",
    "\n",
    "Python プログラマは、オープンであることの便益がクローズであることへの誘惑を上回ると信じている"
   ]
  },
  {
   "cell_type": "code",
   "execution_count": 14,
   "id": "c2c0b45b",
   "metadata": {},
   "outputs": [],
   "source": [
    "class MyStringClass:\n",
    "  def __init__(self, value):\n",
    "    self.__value = value\n",
    "\n",
    "  def get_value(self):\n",
    "    return str(self.__value)\n",
    "\n",
    "foo = MyStringClass(5)\n",
    "assert foo.get_value() == '5'"
   ]
  },
  {
   "cell_type": "markdown",
   "id": "db7c80eb",
   "metadata": {},
   "source": [
    "プライベート属性を選んだことで、サブクラスでの置き換えや拡張性を面倒で脆弱にしている。\n",
    "\n",
    "サブクラスは、絶対に必要となれば、プライベートフィールドにアクセスすることも可能"
   ]
  },
  {
   "cell_type": "code",
   "execution_count": 16,
   "id": "d2e2e7ab",
   "metadata": {},
   "outputs": [],
   "source": [
    "class MyIntegerSubClass(MyStringClass):\n",
    "  def get_value(self):\n",
    "    return int(self._MyStringClass__value)\n",
    "\n",
    "foo = MyIntegerSubClass(5)\n",
    "assert foo.get_value() == 5"
   ]
  },
  {
   "cell_type": "markdown",
   "id": "a8cdd9b9",
   "metadata": {},
   "source": [
    "クラス階層が下の方で変わったらどうなるか"
   ]
  },
  {
   "cell_type": "code",
   "execution_count": null,
   "id": "944f5775",
   "metadata": {},
   "outputs": [],
   "source": [
    "class MyBaseClass:\n",
    "  def __init__(self, value):\n",
    "    self.__value = value\n",
    "  \n",
    "  def get_value(self):\n",
    "    return self.__value\n",
    "  \n",
    "class MyStringClass(MyBaseClass):\n",
    "  def get_value(self):\n",
    "    return str(super().get_value()) # 更新済み\n",
    "  \n",
    "class MyIntegerSubClass(MyStringClass):\n",
    "  def get_value(self):\n",
    "    # __value は、MyStringClass に定義されていない\n",
    "    # MyBaseClass に定義されている\n",
    "    # つまり、self.MyStringClass__value という属性は存在しない\n",
    "    # アクセスしたいのは、self._MyBaseClass__value（これは動作する）\n",
    "    return int(self.MyStringClass__value) # 更新していない"
   ]
  },
  {
   "cell_type": "markdown",
   "id": "95aa48b6",
   "metadata": {},
   "source": [
    "__value属性は、スーパークラス MyBaseClass で代入されていて、スーパークラス MyStringClass においてではない。\n",
    "したがって、プライベート変数への参照 self._MyStringClass__value は、MyIntegerSubclass では動かない"
   ]
  },
  {
   "cell_type": "code",
   "execution_count": null,
   "id": "4bc6997e",
   "metadata": {},
   "outputs": [
    {
     "ename": "AttributeError",
     "evalue": "'MyIntegerSubClass' object has no attribute 'MyStringClass__value'",
     "output_type": "error",
     "traceback": [
      "\u001b[31m---------------------------------------------------------------------------\u001b[39m",
      "\u001b[31mAttributeError\u001b[39m                            Traceback (most recent call last)",
      "\u001b[36mCell\u001b[39m\u001b[36m \u001b[39m\u001b[32mIn[23]\u001b[39m\u001b[32m, line 2\u001b[39m\n\u001b[32m      1\u001b[39m foo = MyIntegerSubClass(\u001b[32m5\u001b[39m)\n\u001b[32m----> \u001b[39m\u001b[32m2\u001b[39m \u001b[43mfoo\u001b[49m\u001b[43m.\u001b[49m\u001b[43mget_value\u001b[49m\u001b[43m(\u001b[49m\u001b[43m)\u001b[49m\n",
      "\u001b[36mCell\u001b[39m\u001b[36m \u001b[39m\u001b[32mIn[22]\u001b[39m\u001b[32m, line 14\u001b[39m, in \u001b[36mMyIntegerSubClass.get_value\u001b[39m\u001b[34m(self)\u001b[39m\n\u001b[32m     13\u001b[39m \u001b[38;5;28;01mdef\u001b[39;00m\u001b[38;5;250m \u001b[39m\u001b[34mget_value\u001b[39m(\u001b[38;5;28mself\u001b[39m):\n\u001b[32m---> \u001b[39m\u001b[32m14\u001b[39m   \u001b[38;5;28;01mreturn\u001b[39;00m \u001b[38;5;28mint\u001b[39m(\u001b[38;5;28;43mself\u001b[39;49m\u001b[43m.\u001b[49m\u001b[43mMyStringClass__value\u001b[49m)\n",
      "\u001b[31mAttributeError\u001b[39m: 'MyIntegerSubClass' object has no attribute 'MyStringClass__value'"
     ]
    }
   ],
   "source": [
    "foo = MyIntegerSubClass(5)\n",
    "foo.get_value()"
   ]
  },
  {
   "cell_type": "markdown",
   "id": "bf62ac68",
   "metadata": {},
   "source": [
    "一般に、Protected 属性を用いてサブクラスに多くのことをやらせて失敗する方がまだましである。\n",
    "\n",
    "保護フィールドにそれぞれに文書化して、サブクラスでのどの内部 API を使うことができ、どの API を使うべきでないかを説明しておくこと\n",
    "\n",
    "これは、他のプログラマに対してだけでなく、将来自分がコードを安全に拡張する場合にも指針となる"
   ]
  },
  {
   "cell_type": "code",
   "execution_count": 24,
   "id": "1499db7d",
   "metadata": {},
   "outputs": [],
   "source": [
    "class MyStringClass:\n",
    "  def __init__(self, value):\n",
    "    # This stores the user-supplied value for the object.\n",
    "    # It should be coercible to a string. Once assigned for\n",
    "    # the object it should be treated as immutable.\n",
    "    self._value = value"
   ]
  },
  {
   "cell_type": "markdown",
   "id": "f73d3854",
   "metadata": {},
   "source": [
    "プライベート属性を使うことを真面目に考えるべきなのは、サブクラスとの名前の衝突を心配しないといけないときだけ"
   ]
  },
  {
   "cell_type": "code",
   "execution_count": 26,
   "id": "e4de459b",
   "metadata": {},
   "outputs": [
    {
     "name": "stdout",
     "output_type": "stream",
     "text": [
      "hello and hello should be different\n"
     ]
    }
   ],
   "source": [
    "class ApiClass:\n",
    "  def __init__(self):\n",
    "    self._value = 5\n",
    "\n",
    "  def get(self):\n",
    "    return self._value\n",
    "  \n",
    "class Child(ApiClass):\n",
    "  def __init__(self):\n",
    "    super().__init__()\n",
    "    self._value = 'hello' # 衝突\n",
    "\n",
    "a = Child()\n",
    "print(f'{a.get()} and {a._value} should be different')"
   ]
  },
  {
   "cell_type": "markdown",
   "id": "7759a9f0",
   "metadata": {},
   "source": [
    "このような衝突をなくすために、スーパークラスでプライベート属性を用いて、サブクラスと重複する属性名がないようにする"
   ]
  },
  {
   "cell_type": "code",
   "execution_count": 27,
   "id": "2b79e48e",
   "metadata": {},
   "outputs": [
    {
     "name": "stdout",
     "output_type": "stream",
     "text": [
      "5 and hello are different\n"
     ]
    }
   ],
   "source": [
    "class ApiClass:\n",
    "  def __init__(self):\n",
    "    self.__value = 5\n",
    "\n",
    "  def get(self):\n",
    "    return self.__value\n",
    "  \n",
    "class Child(ApiClass):\n",
    "  def __init__(self):\n",
    "    super().__init__()\n",
    "    self._value = 'hello' # 衝突\n",
    "\n",
    "a = Child()\n",
    "print(f'{a.get()} and {a._value} are different')"
   ]
  }
 ],
 "metadata": {
  "kernelspec": {
   "display_name": "venv",
   "language": "python",
   "name": "python3"
  },
  "language_info": {
   "codemirror_mode": {
    "name": "ipython",
    "version": 3
   },
   "file_extension": ".py",
   "mimetype": "text/x-python",
   "name": "python",
   "nbconvert_exporter": "python",
   "pygments_lexer": "ipython3",
   "version": "3.11.8"
  }
 },
 "nbformat": 4,
 "nbformat_minor": 5
}
