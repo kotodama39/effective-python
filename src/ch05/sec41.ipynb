{
 "cells": [
  {
   "cell_type": "markdown",
   "id": "aac45a75",
   "metadata": {},
   "source": [
    "# Mix-in クラスで機能合成を考える"
   ]
  },
  {
   "cell_type": "markdown",
   "id": "a04110af",
   "metadata": {},
   "source": [
    "Python は多重継承を扱いやすくする組み込み機能を備えたオブジェクト指向言語\n",
    "だが、多重継承は避けたほうが賢明\n",
    "\n",
    "多重継承による簡便さとカプセル化が望ましいですが、面倒を避けたい場合、代わりに mix-in を書くことを考えた方がよい"
   ]
  },
  {
   "cell_type": "code",
   "execution_count": 8,
   "id": "14889b87",
   "metadata": {},
   "outputs": [],
   "source": [
    "class ToDictMixin:\n",
    "  def to_dict(self):\n",
    "    return self._traverse_dict(self.__dict__)\n",
    "  \n",
    "  def _traverse_dict(self, instance_dict):\n",
    "    output = {}\n",
    "    for key, value in instance_dict.items():\n",
    "      output[key] = self._traverse(key, value)\n",
    "    return output\n",
    "\n",
    "  def _traverse(self, key, value):\n",
    "    if isinstance(value, ToDictMixin):\n",
    "      return value.to_dict()\n",
    "    elif isinstance(value, dict):\n",
    "      return self._traverse_dict(value)\n",
    "    elif isinstance(value, list):\n",
    "      return [self._traverse(key, i) for i in value]\n",
    "    elif hasattr(value, '__dict__'):\n",
    "      return self._traverse_dict(value.__dict__)\n",
    "    else:\n",
    "      return value"
   ]
  },
  {
   "cell_type": "code",
   "execution_count": 9,
   "id": "c8bdf8f7",
   "metadata": {},
   "outputs": [],
   "source": [
    "class BinaryTree(ToDictMixin):\n",
    "  def __init__(self, value, left=None, right=None):\n",
    "    self.value = value\n",
    "    self.left = left\n",
    "    self.right = right"
   ]
  },
  {
   "cell_type": "code",
   "execution_count": 10,
   "id": "4e7c5d2c",
   "metadata": {},
   "outputs": [
    {
     "name": "stdout",
     "output_type": "stream",
     "text": [
      "{'value': 10, 'left': {'value': 7, 'left': None, 'right': {'value': 9, 'left': None, 'right': None}}, 'right': {'value': 13, 'left': {'value': 11, 'left': None, 'right': None}, 'right': None}}\n"
     ]
    }
   ],
   "source": [
    "tree = BinaryTree(10,\n",
    "                  left=BinaryTree(7, right=BinaryTree(9)),\n",
    "                  right=BinaryTree(13, left=BinaryTree(11)))\n",
    "print(tree.to_dict())"
   ]
  },
  {
   "cell_type": "markdown",
   "id": "087d31ab",
   "metadata": {},
   "source": [
    "mix-in の一番良いところは、ジェネリックな機能がプラグインとして扱えるようになり、\n",
    "必要な時に振る舞いをオーバーライドできること"
   ]
  },
  {
   "cell_type": "code",
   "execution_count": 11,
   "id": "3eae9c36",
   "metadata": {},
   "outputs": [],
   "source": [
    "class BinaryTreeWithParent(BinaryTree):\n",
    "  def __init__(self, value, left=None, right=None, parent=None):\n",
    "    super().__init__(value, left, right)\n",
    "    self.parent = parent\n",
    "\n",
    "  def _traverse(self, key, value):\n",
    "    if (isinstance(value, BinaryTreeWithParent) and\n",
    "        key == 'parent'):\n",
    "      return value.value # サイクルを防ぐ\n",
    "    else:\n",
    "      return super()._traverse(key, value)"
   ]
  },
  {
   "cell_type": "code",
   "execution_count": 12,
   "id": "a127fae8",
   "metadata": {},
   "outputs": [
    {
     "name": "stdout",
     "output_type": "stream",
     "text": [
      "{'value': 10, 'left': {'value': 7, 'left': None, 'right': {'value': 9, 'left': None, 'right': None, 'parent': 7}, 'parent': 10}, 'right': None, 'parent': None}\n"
     ]
    }
   ],
   "source": [
    "root = BinaryTreeWithParent(10)\n",
    "root.left = BinaryTreeWithParent(7, parent=root)\n",
    "root.left.right = BinaryTreeWithParent(9, parent=root.left)\n",
    "print(root.to_dict())"
   ]
  },
  {
   "cell_type": "code",
   "execution_count": 13,
   "id": "8a1e61ef",
   "metadata": {},
   "outputs": [
    {
     "name": "stdout",
     "output_type": "stream",
     "text": [
      "{'name': 'foobar', 'tree_withparent': {'value': 9, 'left': None, 'right': None, 'parent': 7}}\n"
     ]
    }
   ],
   "source": [
    "class NamedSubTree(ToDictMixin):\n",
    "  def __init__(self, name, tree_with_parent):\n",
    "    self.name = name\n",
    "    self.tree_withparent = tree_with_parent\n",
    "\n",
    "my_tree = NamedSubTree('foobar', root.left.right)\n",
    "print(my_tree.to_dict()) # 無限ループにならない"
   ]
  },
  {
   "cell_type": "code",
   "execution_count": 14,
   "id": "7b2f250f",
   "metadata": {},
   "outputs": [],
   "source": [
    "import json\n",
    "\n",
    "class JsonMixin:\n",
    "  @classmethod\n",
    "  def from_json(cls, data):\n",
    "    kwargs = json.loads(data)\n",
    "    return cls(**kwargs)\n",
    "  \n",
    "  def to_json(self):\n",
    "    return json.dumps(self.to_dict())"
   ]
  },
  {
   "cell_type": "code",
   "execution_count": 15,
   "id": "c95a1748",
   "metadata": {},
   "outputs": [],
   "source": [
    "class DatacenterRack(ToDictMixin, JsonMixin):\n",
    "  def __init__(self, switch=None, machines=None):\n",
    "    self.switch = Switch(**switch)\n",
    "    self.machines = [\n",
    "      Machine(**kwargs) for kwargs in machines\n",
    "    ]\n",
    "\n",
    "class Switch(ToDictMixin, JsonMixin):\n",
    "  def __init__(self, ports=None, speed=None):\n",
    "    self.ports = ports\n",
    "    self.speed = speed\n",
    "\n",
    "class Machine(ToDictMixin, JsonMixin):\n",
    "  def __init__(self, cores=None, ram=None, disk=None):\n",
    "    self.cores = cores\n",
    "    self.ram = ram\n",
    "    self.disk = disk"
   ]
  },
  {
   "cell_type": "code",
   "execution_count": 18,
   "id": "02eec209",
   "metadata": {},
   "outputs": [],
   "source": [
    "serialised = \"\"\"{\n",
    "    \"switch\": {\"ports\": 5, \"speed\": 1e9},\n",
    "    \"machines\": [\n",
    "        {\"cores\": 8, \"ram\": 32e9, \"disk\": 5e12},\n",
    "        {\"cores\": 4, \"ram\": 16e9, \"disk\": 1e12},\n",
    "        {\"cores\": 2, \"ram\": 4e9, \"disk\": 500e9}\n",
    "    ]\n",
    "}\"\"\"\n",
    "\n",
    "deserialized = DatacenterRack.from_json(serialised)\n",
    "roundtrip = deserialized.to_json()\n",
    "assert json.loads(serialised) == json.loads(roundtrip)"
   ]
  }
 ],
 "metadata": {
  "kernelspec": {
   "display_name": "venv",
   "language": "python",
   "name": "python3"
  },
  "language_info": {
   "codemirror_mode": {
    "name": "ipython",
    "version": 3
   },
   "file_extension": ".py",
   "mimetype": "text/x-python",
   "name": "python",
   "nbconvert_exporter": "python",
   "pygments_lexer": "ipython3",
   "version": "3.11.8"
  }
 },
 "nbformat": 4,
 "nbformat_minor": 5
}
