{
 "cells": [
  {
   "cell_type": "markdown",
   "id": "10c66054",
   "metadata": {},
   "source": [
    "# イテレータを並列に処理するにはZipを使う"
   ]
  },
  {
   "cell_type": "code",
   "execution_count": 9,
   "id": "dc1054af",
   "metadata": {},
   "outputs": [
    {
     "name": "stdout",
     "output_type": "stream",
     "text": [
      "[7, 4, 5]\n"
     ]
    }
   ],
   "source": [
    "names = ['Cecilia', 'Lisa', 'Marie']\n",
    "counts = [len(n) for n in names]\n",
    "\n",
    "print(counts)"
   ]
  },
  {
   "cell_type": "code",
   "execution_count": 10,
   "id": "16772667",
   "metadata": {},
   "outputs": [
    {
     "name": "stdout",
     "output_type": "stream",
     "text": [
      "Cecilia\n"
     ]
    }
   ],
   "source": [
    "longest_name = None\n",
    "max_count = 0\n",
    "\n",
    "for name, count in zip(names, counts):\n",
    "  if count > max_count:\n",
    "    longest_name = name\n",
    "    max_count = count\n",
    "\n",
    "print(longest_name)"
   ]
  },
  {
   "cell_type": "code",
   "execution_count": 11,
   "id": "b795ee8b",
   "metadata": {},
   "outputs": [
    {
     "name": "stdout",
     "output_type": "stream",
     "text": [
      "Cecilia: 7\n",
      "Lisa: 4\n",
      "Marie: 5\n"
     ]
    }
   ],
   "source": [
    "names.append('Rosalind')\n",
    "# append 後に counts の更新をわすれると最短のリストまでしか処理されない\n",
    "for name, count in zip(names, counts):\n",
    "  print(f'{name}: {count}')"
   ]
  },
  {
   "cell_type": "markdown",
   "id": "ff7ccc64",
   "metadata": {},
   "source": [
    "すべてを処理せずに終わるのは好ましくないときが大抵である\n",
    "\n",
    "Zip の対象となるリストの長さが同じである確証を持てないのであれば、 zip_longest 関数を使うことを検討する"
   ]
  },
  {
   "cell_type": "code",
   "execution_count": 12,
   "id": "a78f6bc1",
   "metadata": {},
   "outputs": [
    {
     "name": "stdout",
     "output_type": "stream",
     "text": [
      "Cecilia: 7\n",
      "Lisa: 4\n",
      "Marie: 5\n",
      "Rosalind: None\n"
     ]
    }
   ],
   "source": [
    "import itertools\n",
    "\n",
    "for name, count in itertools.zip_longest(names, counts):\n",
    "  print(f'{name}: {count}')"
   ]
  },
  {
   "cell_type": "code",
   "execution_count": null,
   "id": "598855d0",
   "metadata": {},
   "outputs": [
    {
     "name": "stdout",
     "output_type": "stream",
     "text": [
      "Cecilia: 7\n",
      "Lisa: 4\n",
      "Marie: 5\n",
      "Rosalind: 8\n"
     ]
    }
   ],
   "source": [
    "# counts の更新をした場合\n",
    "counts = [len(n) for n in names]\n",
    "for name, count in itertools.zip_longest(names, counts):\n",
    "  print(f'{name}: {count}')"
   ]
  }
 ],
 "metadata": {
  "kernelspec": {
   "display_name": "venv",
   "language": "python",
   "name": "python3"
  },
  "language_info": {
   "codemirror_mode": {
    "name": "ipython",
    "version": 3
   },
   "file_extension": ".py",
   "mimetype": "text/x-python",
   "name": "python",
   "nbconvert_exporter": "python",
   "pygments_lexer": "ipython3",
   "version": "3.11.8"
  }
 },
 "nbformat": 4,
 "nbformat_minor": 5
}
