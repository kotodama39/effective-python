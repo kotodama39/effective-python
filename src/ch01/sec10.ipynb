{
 "cells": [
  {
   "cell_type": "markdown",
   "id": "a286ed7f",
   "metadata": {},
   "source": [
    "# 代入式で繰り返しを防ぐ"
   ]
  },
  {
   "cell_type": "code",
   "execution_count": 1,
   "id": "88594fac",
   "metadata": {},
   "outputs": [],
   "source": [
    "fresh_fruit = {\n",
    "    'apple': 10,\n",
    "    'banana': 8,\n",
    "    'lemon': 5,\n",
    "}"
   ]
  },
  {
   "cell_type": "code",
   "execution_count": 8,
   "id": "dcae0d86",
   "metadata": {},
   "outputs": [],
   "source": [
    "def make_lemonade(count):\n",
    "  print(f'make lemonade')\n",
    "\n",
    "def out_of_stock():\n",
    "  print(f'Out of Stock!')"
   ]
  },
  {
   "cell_type": "code",
   "execution_count": 9,
   "id": "c06eb913",
   "metadata": {},
   "outputs": [
    {
     "name": "stdout",
     "output_type": "stream",
     "text": [
      "make lemonade\n"
     ]
    }
   ],
   "source": [
    "count = fresh_fruit.get('lemon', 0)\n",
    "if count:\n",
    "  make_lemonade(count)\n",
    "else:\n",
    "  out_of_stock()"
   ]
  },
  {
   "cell_type": "markdown",
   "id": "a41b92b0",
   "metadata": {},
   "source": [
    "`:=` ウォルラス表記で以下のように簡潔に記述できる"
   ]
  },
  {
   "cell_type": "code",
   "execution_count": 10,
   "id": "1e7add25",
   "metadata": {},
   "outputs": [
    {
     "name": "stdout",
     "output_type": "stream",
     "text": [
      "make lemonade\n"
     ]
    }
   ],
   "source": [
    "if count := fresh_fruit.get('lemon', 0):\n",
    "  make_lemonade(count)\n",
    "else:\n",
    "  out_of_stock()"
   ]
  },
  {
   "cell_type": "code",
   "execution_count": 14,
   "id": "04782486",
   "metadata": {},
   "outputs": [
    {
     "name": "stdout",
     "output_type": "stream",
     "text": [
      "5\n",
      "0\n"
     ]
    }
   ],
   "source": [
    "# get の第二引数は、第一引数のキーが存在しなかった場合の返り値\n",
    "print(fresh_fruit.get('lemon', 0))\n",
    "print(fresh_fruit.get('grape', 0))"
   ]
  },
  {
   "cell_type": "markdown",
   "id": "c0bdca99",
   "metadata": {},
   "source": [
    "Python には、switch / case 文がないので、それに近い機能を実現するには、以下のような記述が好ましい"
   ]
  },
  {
   "cell_type": "code",
   "execution_count": 16,
   "id": "eccef345",
   "metadata": {},
   "outputs": [],
   "source": [
    "def slice_bananas(count):\n",
    "  print(f'slice bananas')\n",
    "\n",
    "def make_smoothies(pieces):\n",
    "  print(f'make smoothies')\n",
    "\n",
    "def make_cider(count):\n",
    "  print(f'make cider')"
   ]
  },
  {
   "cell_type": "code",
   "execution_count": 17,
   "id": "28f70c98",
   "metadata": {},
   "outputs": [
    {
     "name": "stdout",
     "output_type": "stream",
     "text": [
      "slice bananas\n",
      "make smoothies\n"
     ]
    }
   ],
   "source": [
    "if (count := fresh_fruit.get('banana', 0)) >= 2:\n",
    "  pieces = slice_bananas(count)\n",
    "  to_enjoy = make_smoothies(pieces)\n",
    "elif (count := fresh_fruit.get('apple', 0)) >= 4:\n",
    "  to_enjoy = make_cider(count)\n",
    "elif count := fresh_fruit.get('lemon', 0):\n",
    "  to_enjoy = make_lemonade(count)\n",
    "else:\n",
    "  to_enjoy = 'Nothing'\n",
    "  print(f'Nothing')"
   ]
  },
  {
   "cell_type": "markdown",
   "id": "72430be4",
   "metadata": {},
   "source": [
    "Python には、do / while 文もない"
   ]
  },
  {
   "cell_type": "code",
   "execution_count": 18,
   "id": "5337ac19",
   "metadata": {},
   "outputs": [
    {
     "name": "stdout",
     "output_type": "stream",
     "text": [
      "dict_items([('apple', 10), ('banana', 8), ('lemon', 5)])\n"
     ]
    }
   ],
   "source": [
    "print(fresh_fruit.items())"
   ]
  },
  {
   "cell_type": "code",
   "execution_count": 56,
   "id": "4d0d7d45",
   "metadata": {},
   "outputs": [],
   "source": [
    "import random\n",
    "\n",
    "def pick_fruit():\n",
    "  \"\"\"果物の入荷をシミュレートする関数\n",
    "    \n",
    "  ランダムに果物とその数量を返す。\n",
    "  在庫がない場合は空の辞書を返す。\n",
    "  \"\"\"\n",
    "    \n",
    "  # 果物の種類とそれぞれの確率（この日の入荷がない場合もある）\n",
    "  fruits = ['apple', 'banana', 'lemon']\n",
    "  \n",
    "  # ランダムに今回入荷する果物を決定\n",
    "  if random.random() < 0.8:  # 50%の確率で何かしらの果物が入荷\n",
    "    fruit_count = {}\n",
    "    for fruit in fruits:\n",
    "      if random.random() < 0.3:  # 各果物が入荷する確率\n",
    "        fruit_count[fruit] = random.randint(1, 3)\n",
    "    return fruit_count\n",
    "  else:\n",
    "    return {}  # 入荷なし\n",
    "\n",
    "def make_juice(fruit, count):\n",
    "  \"\"\"果物からジュースを作る関数\n",
    "    \n",
    "  1つの果物から1〜3本のジュースができる\n",
    "  \"\"\"\n",
    "  \n",
    "  # それぞれの果物から作れるジュースの本数を計算\n",
    "  juice_per_fruit = random.randint(1, 2)\n",
    "  total_juice = count * juice_per_fruit\n",
    "    \n",
    "  # ジュースの種類を示す文字列のリストを返す\n",
    "  return [f\"{fruit} juice\" for _ in range(total_juice)]\n"
   ]
  },
  {
   "cell_type": "code",
   "execution_count": 49,
   "id": "db256052",
   "metadata": {},
   "outputs": [
    {
     "name": "stdout",
     "output_type": "stream",
     "text": [
      "['lemon juice', 'lemon juice', 'lemon juice', 'lemon juice', 'lemon juice', 'lemon juice']\n"
     ]
    }
   ],
   "source": [
    "bottles = []\n",
    "fresh_fruit = pick_fruit()\n",
    "while fresh_fruit:\n",
    "  for fruit, count in fresh_fruit.items():\n",
    "    batch = make_juice(fruit, count)\n",
    "    bottles.extend(batch)\n",
    "  fresh_fruit = pick_fruit()\n",
    "\n",
    "print(bottles)"
   ]
  },
  {
   "cell_type": "code",
   "execution_count": 50,
   "id": "46ce5840",
   "metadata": {},
   "outputs": [
    {
     "name": "stdout",
     "output_type": "stream",
     "text": [
      "{} is false.\n"
     ]
    }
   ],
   "source": [
    "if {}:\n",
    "  print('{} is true.')\n",
    "else:\n",
    "  print('{} is false.')"
   ]
  },
  {
   "cell_type": "code",
   "execution_count": 58,
   "id": "7467d0c2",
   "metadata": {},
   "outputs": [
    {
     "name": "stdout",
     "output_type": "stream",
     "text": [
      "['apple juice', 'apple juice', 'apple juice', 'apple juice', 'apple juice', 'apple juice']\n"
     ]
    }
   ],
   "source": [
    "bottles = []\n",
    "while fresh_fruit := pick_fruit():\n",
    "  for fruit, count in fresh_fruit.items():\n",
    "    batch = make_juice(fruit, count)\n",
    "    bottles.extend(batch)\n",
    "\n",
    "print(bottles)"
   ]
  }
 ],
 "metadata": {
  "kernelspec": {
   "display_name": "venv",
   "language": "python",
   "name": "python3"
  },
  "language_info": {
   "codemirror_mode": {
    "name": "ipython",
    "version": 3
   },
   "file_extension": ".py",
   "mimetype": "text/x-python",
   "name": "python",
   "nbconvert_exporter": "python",
   "pygments_lexer": "ipython3",
   "version": "3.11.8"
  }
 },
 "nbformat": 4,
 "nbformat_minor": 5
}
