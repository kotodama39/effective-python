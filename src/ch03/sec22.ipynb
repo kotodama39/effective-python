{
 "cells": [
  {
   "cell_type": "markdown",
   "id": "0e5e9f2b",
   "metadata": {},
   "source": [
    "# 可変長位置引数を使って、見た目をすっきりさせる"
   ]
  },
  {
   "cell_type": "code",
   "execution_count": 3,
   "id": "2210efb8",
   "metadata": {},
   "outputs": [],
   "source": [
    "def log(message, values):\n",
    "  if not values:\n",
    "    print(message)\n",
    "  else:\n",
    "    values_str = ','.join(str(x) for x in values)\n",
    "    print(f'{message}: {values_str}')"
   ]
  },
  {
   "cell_type": "code",
   "execution_count": 5,
   "id": "552c14ec",
   "metadata": {},
   "outputs": [
    {
     "name": "stdout",
     "output_type": "stream",
     "text": [
      "My numbers are: 1,2\n",
      "Hi there\n"
     ]
    }
   ],
   "source": [
    "log('My numbers are', [1, 2])\n",
    "log('Hi there', []) # 空のリストを渡さないといけない"
   ]
  },
  {
   "cell_type": "code",
   "execution_count": 1,
   "id": "95fbb6d9",
   "metadata": {},
   "outputs": [],
   "source": [
    "# * (スター引数)を使うと見た目をすっきりさせられる\n",
    "def log(message, *values):\n",
    "  if not values:\n",
    "    print(message)\n",
    "  else:\n",
    "    values_str = ','.join(str(x) for x in values)\n",
    "    print(f'{message}: {values_str}')"
   ]
  },
  {
   "cell_type": "code",
   "execution_count": 2,
   "id": "242bfe35",
   "metadata": {},
   "outputs": [
    {
     "name": "stdout",
     "output_type": "stream",
     "text": [
      "My numbers are: 1,2\n",
      "Hi there\n"
     ]
    }
   ],
   "source": [
    "log('My numbers are', 1, 2)\n",
    "log('Hi there')"
   ]
  },
  {
   "cell_type": "markdown",
   "id": "73889514",
   "metadata": {},
   "source": [
    "ただし、可変個数位置引数を使うには、注意が必要！\n",
    "\n",
    "*args で受け取った引数はタプルに評価されるという性質が、一部のケースでは問題になる可能性がある"
   ]
  },
  {
   "cell_type": "code",
   "execution_count": null,
   "id": "d5035cc4",
   "metadata": {},
   "outputs": [
    {
     "name": "stdout",
     "output_type": "stream",
     "text": [
      "yield: 0\n",
      "yield: 1\n",
      "yield: 2\n",
      "yield: 3\n",
      "yield: 4\n",
      "yield: 5\n",
      "yield: 6\n",
      "yield: 7\n",
      "yield: 8\n",
      "yield: 9\n",
      "args: (0, 1, 2, 3, 4, 5, 6, 7, 8, 9)\n",
      "0\n",
      "1\n",
      "2\n",
      "3\n",
      "4\n",
      "5\n",
      "6\n",
      "7\n",
      "8\n",
      "9\n"
     ]
    }
   ],
   "source": [
    "# 悪い例\n",
    "def my_generator():\n",
    "  for i in range(10):\n",
    "    print(f'yield: {i}')\n",
    "    yield i\n",
    "\n",
    "def my_func(*args): # *args は、タプルになる\n",
    "  print(f'args: {args}')\n",
    "  for arg in args:\n",
    "    print(arg)\n",
    "\n",
    "it = my_generator()\n",
    "my_func(*it) # ここで全部消費される"
   ]
  },
  {
   "cell_type": "code",
   "execution_count": null,
   "id": "97c71493",
   "metadata": {},
   "outputs": [
    {
     "name": "stdout",
     "output_type": "stream",
     "text": [
      "args: <generator object my_generator at 0x7f26292b2c00>\n",
      "yield: 0\n",
      "0\n",
      "yield: 1\n",
      "1\n",
      "yield: 2\n",
      "2\n",
      "yield: 3\n",
      "3\n",
      "yield: 4\n",
      "4\n",
      "yield: 5\n",
      "5\n",
      "yield: 6\n",
      "6\n",
      "yield: 7\n",
      "7\n",
      "yield: 8\n",
      "8\n",
      "yield: 9\n",
      "9\n"
     ]
    }
   ],
   "source": [
    "# 良い例\n",
    "def my_generator():\n",
    "  for i in range(10):\n",
    "    print(f'yield: {i}')\n",
    "    yield i\n",
    "\n",
    "def my_func(args): # 1つのイテラブルとして受け取る\n",
    "  print(f'args: {args}') # generator object が表示される\n",
    "  for arg in args: # 1つずつ消費\n",
    "    print(arg)\n",
    "\n",
    "it = my_generator()\n",
    "my_func(it) # ここではまだジェネレータとして渡される\n"
   ]
  },
  {
   "cell_type": "markdown",
   "id": "3fb1d899",
   "metadata": {},
   "source": [
    "これの何が問題か\n",
    "\n",
    "## 例: 巨大なログファイルを読むジェネレータ"
   ]
  },
  {
   "cell_type": "code",
   "execution_count": null,
   "id": "747c1f45",
   "metadata": {},
   "outputs": [],
   "source": [
    "# この関数は、巨大なログファイル（何GBもあるかも）を1行ずつ読み込むジェネレータ\n",
    "# メモリ節約のため、全行を一度に読み込まないのがポイント。\n",
    "def read_log_lines(filepath):\n",
    "    with open(filepath) as f:\n",
    "        for line in f:\n",
    "            yield line.strip()"
   ]
  },
  {
   "cell_type": "code",
   "execution_count": null,
   "id": "dd339e3d",
   "metadata": {},
   "outputs": [],
   "source": [
    "# 間違った例\n",
    "def process_lines(*lines): # *lines で渡してしまったとする\n",
    "    for line in lines:\n",
    "        print(f\"Processing: {line}\")\n",
    "\n",
    "log_lines = read_log_lines(\"huge.log\") # 仮なので、実行するとエラー\n",
    "process_lines(*log_lines)"
   ]
  },
  {
   "cell_type": "markdown",
   "id": "db5e80dd",
   "metadata": {},
   "source": [
    "問題点：\n",
    "* *log_lines の時点で、全行を読み込んでタプルにしてから関数に渡してしまう\n",
    "* メモリ爆食い & パフォーマンス最悪（最悪メモリクラッシュ）"
   ]
  },
  {
   "cell_type": "code",
   "execution_count": null,
   "id": "e76ed9ee",
   "metadata": {},
   "outputs": [],
   "source": [
    "# 正しい例\n",
    "def process_lines(lines):  # タプルじゃなく、イテラブルとして受け取る\n",
    "    for line in lines:\n",
    "        print(f\"Processing: {line}\")\n",
    "\n",
    "log_lines = read_log_lines(\"huge.log\")\n",
    "process_lines(log_lines)  # OK！行ごとに1つずつ処理される"
   ]
  },
  {
   "cell_type": "markdown",
   "id": "19c3cde2",
   "metadata": {},
   "source": [
    "メリット:\n",
    "* メモリ効率◎\n",
    "* 1行ずつ処理され、不要になったら途中で止めることもできる"
   ]
  },
  {
   "cell_type": "markdown",
   "id": "6dc3292c",
   "metadata": {},
   "source": [
    "補足:\n",
    "* ジェネレータは、「遅延評価」の特性があるが、* を使うとその「遅延評価」が崩れてしまう（全部先に評価されてしまう）"
   ]
  }
 ],
 "metadata": {
  "kernelspec": {
   "display_name": "venv",
   "language": "python",
   "name": "python3"
  },
  "language_info": {
   "codemirror_mode": {
    "name": "ipython",
    "version": 3
   },
   "file_extension": ".py",
   "mimetype": "text/x-python",
   "name": "python",
   "nbconvert_exporter": "python",
   "pygments_lexer": "ipython3",
   "version": "3.11.8"
  }
 },
 "nbformat": 4,
 "nbformat_minor": 5
}
