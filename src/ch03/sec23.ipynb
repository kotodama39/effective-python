{
 "cells": [
  {
   "cell_type": "markdown",
   "id": "e3d1e167",
   "metadata": {},
   "source": [
    "# キーワード引数にオプションのふるまいを与える"
   ]
  },
  {
   "cell_type": "code",
   "execution_count": 1,
   "id": "07aa9cf2",
   "metadata": {},
   "outputs": [],
   "source": [
    "def remainder(number, divisor):\n",
    "  return number % divisor"
   ]
  },
  {
   "cell_type": "code",
   "execution_count": 2,
   "id": "50fb9cda",
   "metadata": {},
   "outputs": [],
   "source": [
    "assert remainder(20, 7) == 6"
   ]
  },
  {
   "cell_type": "code",
   "execution_count": 5,
   "id": "804d88df",
   "metadata": {},
   "outputs": [
    {
     "data": {
      "text/plain": [
       "6"
      ]
     },
     "execution_count": 5,
     "metadata": {},
     "output_type": "execute_result"
    }
   ],
   "source": [
    "remainder(20, divisor=7)\n",
    "remainder(number=20, divisor=7)\n",
    "remainder(divisor=7, number=20)"
   ]
  },
  {
   "cell_type": "code",
   "execution_count": 6,
   "id": "52d0398d",
   "metadata": {},
   "outputs": [],
   "source": [
    "my_kwargs = {\n",
    "  'number': 20,\n",
    "  'divisor': 7,\n",
    "}\n",
    "\n",
    "assert remainder(**my_kwargs) == 6"
   ]
  },
  {
   "cell_type": "code",
   "execution_count": 10,
   "id": "6b74e020",
   "metadata": {},
   "outputs": [],
   "source": [
    "my_kwargs = {\n",
    "  'divisor': 7,\n",
    "}\n",
    "\n",
    "assert remainder(number=20, **my_kwargs) == 6"
   ]
  },
  {
   "cell_type": "code",
   "execution_count": 14,
   "id": "707f4066",
   "metadata": {},
   "outputs": [],
   "source": [
    "my_kwargs = {\n",
    "  'number': 20,\n",
    "}\n",
    "other_kwargs = {\n",
    "  'divisor': 7,\n",
    "}\n",
    "\n",
    "assert remainder(**my_kwargs, **other_kwargs) == 6\n",
    "assert remainder(**other_kwargs, **my_kwargs) == 6"
   ]
  },
  {
   "cell_type": "code",
   "execution_count": 17,
   "id": "55346cc7",
   "metadata": {},
   "outputs": [],
   "source": [
    "# デフォルト値を設定することで呼び出し側に period を強制しない\n",
    "def flow_rate(weight_diff, time_diff, period=1):\n",
    "  return (weight_diff / time_diff) * period"
   ]
  },
  {
   "cell_type": "code",
   "execution_count": 18,
   "id": "9fde02ce",
   "metadata": {},
   "outputs": [],
   "source": [
    "weight_diff = 0.5\n",
    "time_diff = 3\n",
    "flow = flow_rate(weight_diff, time_diff)"
   ]
  }
 ],
 "metadata": {
  "kernelspec": {
   "display_name": "venv",
   "language": "python",
   "name": "python3"
  },
  "language_info": {
   "codemirror_mode": {
    "name": "ipython",
    "version": 3
   },
   "file_extension": ".py",
   "mimetype": "text/x-python",
   "name": "python",
   "nbconvert_exporter": "python",
   "pygments_lexer": "ipython3",
   "version": "3.11.8"
  }
 },
 "nbformat": 4,
 "nbformat_minor": 5
}
