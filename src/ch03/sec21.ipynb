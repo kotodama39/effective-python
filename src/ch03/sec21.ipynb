{
 "cells": [
  {
   "cell_type": "markdown",
   "id": "25b7941e",
   "metadata": {},
   "source": [
    "# クロージャが変数スコープとどう関わるかを把握しておく"
   ]
  },
  {
   "cell_type": "code",
   "execution_count": 15,
   "id": "de25521a",
   "metadata": {},
   "outputs": [],
   "source": [
    "# この関数は、リスト values の内、group に含まれる値を\n",
    "# 優先的に先頭へ並べるようにソートする関数です。\n",
    "def sort_priority(values, group):\n",
    "  def helper(x):\n",
    "    if x in group:\n",
    "      return (0, x)\n",
    "    return (1, x)\n",
    "  values.sort(key=helper)"
   ]
  },
  {
   "cell_type": "code",
   "execution_count": 16,
   "id": "1c459655",
   "metadata": {},
   "outputs": [
    {
     "name": "stdout",
     "output_type": "stream",
     "text": [
      "[2, 3, 5, 7, 1, 4, 6, 8]\n"
     ]
    }
   ],
   "source": [
    "numbers = [8, 3, 1, 2, 5, 4, 7, 6]\n",
    "group = {2, 3, 5, 7}\n",
    "sort_priority(numbers, group)\n",
    "print(numbers)"
   ]
  },
  {
   "cell_type": "markdown",
   "id": "3f772c9c",
   "metadata": {},
   "source": [
    "Python の sort は、タプル (a, b) の場合、まず a を見て、小さい順に並べます。\n",
    "a が同じなら、次に b を見て並べます。\n",
    "なので、ソートキー (0, x) は優先され、(1, x) は後回し。"
   ]
  },
  {
   "cell_type": "code",
   "execution_count": 17,
   "id": "67491324",
   "metadata": {},
   "outputs": [
    {
     "name": "stdout",
     "output_type": "stream",
     "text": [
      "[(0, 1), (0, 2), (0, 3), (1, 11), (1, 12), (1, 13)]\n"
     ]
    }
   ],
   "source": [
    "tuples = [(0,3), (0,2), (0,1), (1,11), (1, 13), (1, 12)]\n",
    "tuples.sort()\n",
    "print(tuples)"
   ]
  },
  {
   "cell_type": "code",
   "execution_count": null,
   "id": "e373501f",
   "metadata": {},
   "outputs": [],
   "source": [
    "def sort_priority(values, group):\n",
    "  found = False\n",
    "  def helper(x):\n",
    "    if x in group:\n",
    "      # print(found) # 動作しない 以下の例外がスローされる\n",
    "      # UnboundLocalError: cannot access local variable 'found' where it is not associated with a value\n",
    "      found = True # この found は ↑ で定義した found とは別の変数として扱っている\n",
    "      # print(found) # 動作する True が表示\n",
    "      return (0, x)\n",
    "    # print(found) # 動作しない 以下の例外がスローされる\n",
    "    # UnboundLocalError: cannot access local variable 'found' where it is not associated with a value\n",
    "    return (1, x)\n",
    "  # print(found) # 動作する False が表示\n",
    "  values.sort(key=helper)\n",
    "  # リスト values の内、group に含まれる値があった場合、\n",
    "  # found = True が返り値になることを期待\n",
    "  return found"
   ]
  },
  {
   "cell_type": "code",
   "execution_count": 43,
   "id": "23f0009d",
   "metadata": {},
   "outputs": [
    {
     "name": "stdout",
     "output_type": "stream",
     "text": [
      "[2, 3, 5, 7, 1, 4, 6, 8]\n",
      "False\n"
     ]
    }
   ],
   "source": [
    "numbers = [8, 3, 1, 2, 5, 4, 7, 6]\n",
    "group = {2, 3, 5, 7}\n",
    "found = sort_priority(numbers, group)\n",
    "# sort は期待通り動いている\n",
    "print(numbers)\n",
    "# が、found = False が返ってくる\n",
    "print(found)"
   ]
  },
  {
   "cell_type": "code",
   "execution_count": 53,
   "id": "b0acdfc9",
   "metadata": {},
   "outputs": [],
   "source": [
    "# データをクロージャの外に出す特別な構文 nonlocal がある。\n",
    "# 指定した変数名の代入に際してスコープを横断する\n",
    "# 唯一の制限は、nonlocal が（グローバルを汚染しないように）モジュールレベルのスコープまでは行かない\n",
    "def sort_priority(values, group):\n",
    "  found = False\n",
    "  def helper(x):\n",
    "    nonlocal found # 追加\n",
    "    if x in group:\n",
    "      found = True\n",
    "      return (0, x)\n",
    "    return (1, x)\n",
    "  values.sort(key=helper)\n",
    "  return found"
   ]
  },
  {
   "cell_type": "code",
   "execution_count": 54,
   "id": "69a69915",
   "metadata": {},
   "outputs": [
    {
     "name": "stdout",
     "output_type": "stream",
     "text": [
      "[2, 3, 5, 7, 1, 4, 6, 8]\n",
      "True\n"
     ]
    }
   ],
   "source": [
    "numbers = [8, 3, 1, 2, 5, 4, 7, 6]\n",
    "group = {2, 3, 5, 7}\n",
    "found = sort_priority(numbers, group)\n",
    "print(numbers)\n",
    "# 期待通り found = True が返ってくる\n",
    "print(found)"
   ]
  },
  {
   "cell_type": "markdown",
   "id": "da66f73e",
   "metadata": {},
   "source": [
    "ただし、nonlocal を単純な関数以外で利用することは良くない！\n",
    "\n",
    "見つけずらくなるから！\n",
    "\n",
    "ので、ヘルパークラスでラップするとよい"
   ]
  },
  {
   "cell_type": "code",
   "execution_count": 55,
   "id": "8ae1f694",
   "metadata": {},
   "outputs": [],
   "source": [
    "class Sorter:\n",
    "  def __init__(self, group):\n",
    "    self.group = group\n",
    "    self.found = False\n",
    "\n",
    "  def __call__(self, x):\n",
    "    if x in self.group:\n",
    "      self.found = True\n",
    "      return (0, x)\n",
    "    return (1, x)"
   ]
  },
  {
   "cell_type": "code",
   "execution_count": 58,
   "id": "3cf1212b",
   "metadata": {},
   "outputs": [],
   "source": [
    "sorter = Sorter(group)\n",
    "numbers.sort(key=sorter)\n",
    "assert sorter.found is True"
   ]
  }
 ],
 "metadata": {
  "kernelspec": {
   "display_name": "venv",
   "language": "python",
   "name": "python3"
  },
  "language_info": {
   "codemirror_mode": {
    "name": "ipython",
    "version": 3
   },
   "file_extension": ".py",
   "mimetype": "text/x-python",
   "name": "python",
   "nbconvert_exporter": "python",
   "pygments_lexer": "ipython3",
   "version": "3.11.8"
  }
 },
 "nbformat": 4,
 "nbformat_minor": 5
}
