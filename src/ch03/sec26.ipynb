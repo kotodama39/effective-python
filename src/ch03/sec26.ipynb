{
 "cells": [
  {
   "cell_type": "markdown",
   "id": "e2b2c797",
   "metadata": {},
   "source": [
    "# functools.wraps を使って関数デコーレータを定義する"
   ]
  },
  {
   "cell_type": "markdown",
   "id": "67fbc3e2",
   "metadata": {},
   "source": [
    "関数に適用できるデコレータの特別な構文がある\n",
    "入力の引数や戻り値にアクセスして値を変更したり、例外を送出したりできる\n",
    "これは、セマンティクス強化、デバッグ、関数登録に役立つ"
   ]
  },
  {
   "cell_type": "code",
   "execution_count": 17,
   "id": "6ceccd18",
   "metadata": {},
   "outputs": [],
   "source": [
    "def trace(func):\n",
    "  def wrapper(*args, **kwargs):\n",
    "    result = func(*args, **kwargs)\n",
    "    print(f'{func.__name__}({args!r}, {kwargs!r}) ' f'-> {result!r}')\n",
    "    return result\n",
    "  return wrapper"
   ]
  },
  {
   "cell_type": "code",
   "execution_count": 18,
   "id": "b4882728",
   "metadata": {},
   "outputs": [],
   "source": [
    "# @ 記号はデコレータがラップする関数を引数として呼び出して、\n",
    "# 戻り値を同じスコープのもともとの名前に代入することと等価\n",
    "# fibonacci = trace(fibonacci) と同じ意味\n",
    "@trace\n",
    "def fibonacci(n):\n",
    "  \"\"\"Return the n-th Fibonacci number\n",
    "  \"\"\"\n",
    "  if n in (0, 1):\n",
    "    return n\n",
    "  return (fibonacci(n - 2) + fibonacci(n - 1))"
   ]
  },
  {
   "cell_type": "code",
   "execution_count": 19,
   "id": "2d30e008",
   "metadata": {},
   "outputs": [
    {
     "name": "stdout",
     "output_type": "stream",
     "text": [
      "fibonacci((0,), {}) -> 0\n",
      "fibonacci((1,), {}) -> 1\n",
      "fibonacci((2,), {}) -> 1\n",
      "fibonacci((1,), {}) -> 1\n",
      "fibonacci((0,), {}) -> 0\n",
      "fibonacci((1,), {}) -> 1\n",
      "fibonacci((2,), {}) -> 1\n",
      "fibonacci((3,), {}) -> 2\n",
      "fibonacci((4,), {}) -> 3\n"
     ]
    },
    {
     "data": {
      "text/plain": [
       "3"
      ]
     },
     "execution_count": 19,
     "metadata": {},
     "output_type": "execute_result"
    }
   ],
   "source": [
    "# デコレータ付きの関数を呼び出すと、fibonacci を実行する前後でラッパーのコードが実行される\n",
    "fibonacci(4)"
   ]
  },
  {
   "cell_type": "code",
   "execution_count": 20,
   "id": "4cd9cc68",
   "metadata": {},
   "outputs": [
    {
     "name": "stdout",
     "output_type": "stream",
     "text": [
      "<function trace.<locals>.wrapper at 0x7f4c3c330fe0>\n",
      "wrapper\n",
      "None\n",
      "Help on function wrapper in module __main__:\n",
      "\n",
      "wrapper(*args, **kwargs)\n",
      "\n"
     ]
    }
   ],
   "source": [
    "# デコレータは動作するが、意図しない副作用がある\n",
    "# デコレータから返された値は、fibonacci ではなくなる\n",
    "print(fibonacci)\n",
    "print(fibonacci.__name__)\n",
    "print(fibonacci.__doc__) # Return the n-th Fibonacci number が返ってきてほしい\n",
    "help(fibonacci)"
   ]
  },
  {
   "cell_type": "code",
   "execution_count": 21,
   "id": "ce0de568",
   "metadata": {},
   "outputs": [],
   "source": [
    "from functools import wraps\n",
    "\n",
    "def trace_wrap(func):\n",
    "  @wraps(func)\n",
    "  def wrapper(*args, **kwargs):\n",
    "    result = func(*args, **kwargs)\n",
    "    print(f'{func.__name__}({args!r}, {kwargs!r}) ' f'-> {result!r}')\n",
    "    return result\n",
    "  return wrapper"
   ]
  },
  {
   "cell_type": "code",
   "execution_count": 22,
   "id": "6bb1c8fd",
   "metadata": {},
   "outputs": [],
   "source": [
    "@trace_wrap\n",
    "def fibonacci_a(n):\n",
    "  \"\"\"Return the n-th Fibonacci number\n",
    "  \"\"\"\n",
    "  if n in (0, 1):\n",
    "    return n\n",
    "  return (fibonacci(n - 2) + fibonacci(n - 1))"
   ]
  },
  {
   "cell_type": "code",
   "execution_count": 23,
   "id": "7b3c4dd2",
   "metadata": {},
   "outputs": [
    {
     "name": "stdout",
     "output_type": "stream",
     "text": [
      "<function fibonacci_a at 0x7f4c3c3319e0>\n",
      "fibonacci_a\n",
      "Return the n-th Fibonacci number\n",
      "  \n",
      "Help on function fibonacci_a in module __main__:\n",
      "\n",
      "fibonacci_a(n)\n",
      "    Return the n-th Fibonacci number\n",
      "\n"
     ]
    }
   ],
   "source": [
    "print(fibonacci_a)\n",
    "print(fibonacci_a.__name__)\n",
    "print(fibonacci_a.__doc__)\n",
    "help(fibonacci_a)"
   ]
  }
 ],
 "metadata": {
  "kernelspec": {
   "display_name": "venv",
   "language": "python",
   "name": "python3"
  },
  "language_info": {
   "codemirror_mode": {
    "name": "ipython",
    "version": 3
   },
   "file_extension": ".py",
   "mimetype": "text/x-python",
   "name": "python",
   "nbconvert_exporter": "python",
   "pygments_lexer": "ipython3",
   "version": "3.11.8"
  }
 },
 "nbformat": 4,
 "nbformat_minor": 5
}
