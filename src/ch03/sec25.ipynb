{
 "cells": [
  {
   "cell_type": "markdown",
   "id": "474d43cf",
   "metadata": {},
   "source": [
    "# キーワード専用引数と位置専用引数で明確さを高める"
   ]
  },
  {
   "cell_type": "code",
   "execution_count": null,
   "id": "e490b013",
   "metadata": {},
   "outputs": [],
   "source": [
    "# 例外を無視する動作を制御する2つのブール値引数の位置を混同しやすい\n",
    "def safe_division(number, divisor, ignore_overflow, ignore_zero_division):\n",
    "  try:\n",
    "    return number / divisor\n",
    "  except OverflowError:\n",
    "    if ignore_overflow:\n",
    "      return 0\n",
    "    else:\n",
    "      raise\n",
    "  except ZeroDivisionError:\n",
    "    if ignore_zero_division:\n",
    "      return float('inf')\n",
    "    else:\n",
    "      raise"
   ]
  },
  {
   "cell_type": "code",
   "execution_count": 2,
   "id": "e822773f",
   "metadata": {},
   "outputs": [
    {
     "name": "stdout",
     "output_type": "stream",
     "text": [
      "0\n"
     ]
    }
   ],
   "source": [
    "result = safe_division(1.0, 10**500, True, False)\n",
    "print(result)"
   ]
  },
  {
   "cell_type": "code",
   "execution_count": 4,
   "id": "f9a6d232",
   "metadata": {},
   "outputs": [
    {
     "name": "stdout",
     "output_type": "stream",
     "text": [
      "inf\n"
     ]
    }
   ],
   "source": [
    "result = safe_division(1.0, 0, False, True)\n",
    "print(result)"
   ]
  },
  {
   "cell_type": "code",
   "execution_count": null,
   "id": "316299d8",
   "metadata": {},
   "outputs": [],
   "source": [
    "# キーワード引数を使うことで、位置の混同を防ぐ\n",
    "def safe_division_b(number, divisor, ignore_overflow=False, ignore_zero_division=True):\n",
    "  return"
   ]
  },
  {
   "cell_type": "markdown",
   "id": "5b1f7d87",
   "metadata": {},
   "source": [
    "問題は、キーワード引数はオプションであるため、関数呼び出し元に明確化のためのキーワード引数の使用を強制することができない"
   ]
  },
  {
   "cell_type": "code",
   "execution_count": 8,
   "id": "8b4479d7",
   "metadata": {},
   "outputs": [],
   "source": [
    "# safe_division_b を例にする\n",
    "# 呼び出し側はキーワード引数を使っても使わなくてもよい（強制力がない）\n",
    "safe_division_b(1.0, 0, ignore_overflow=True)\n",
    "safe_division_b(1.0, 0, False, True)"
   ]
  },
  {
   "cell_type": "code",
   "execution_count": 9,
   "id": "748d7ef2",
   "metadata": {},
   "outputs": [
    {
     "name": "stdout",
     "output_type": "stream",
     "text": [
      "Hello Alice, you are 30 years old.\n"
     ]
    },
    {
     "ename": "TypeError",
     "evalue": "greet() takes 0 positional arguments but 2 were given",
     "output_type": "error",
     "traceback": [
      "\u001b[31m---------------------------------------------------------------------------\u001b[39m",
      "\u001b[31mTypeError\u001b[39m                                 Traceback (most recent call last)",
      "\u001b[36mCell\u001b[39m\u001b[36m \u001b[39m\u001b[32mIn[9]\u001b[39m\u001b[32m, line 8\u001b[39m\n\u001b[32m      5\u001b[39m     \u001b[38;5;28mprint\u001b[39m(\u001b[33mf\u001b[39m\u001b[33m\"\u001b[39m\u001b[33mHello \u001b[39m\u001b[38;5;132;01m{\u001b[39;00mname\u001b[38;5;132;01m}\u001b[39;00m\u001b[33m, you are \u001b[39m\u001b[38;5;132;01m{\u001b[39;00mage\u001b[38;5;132;01m}\u001b[39;00m\u001b[33m years old.\u001b[39m\u001b[33m\"\u001b[39m)\n\u001b[32m      7\u001b[39m greet(name=\u001b[33m\"\u001b[39m\u001b[33mAlice\u001b[39m\u001b[33m\"\u001b[39m, age=\u001b[32m30\u001b[39m)  \u001b[38;5;66;03m# OK\u001b[39;00m\n\u001b[32m----> \u001b[39m\u001b[32m8\u001b[39m \u001b[43mgreet\u001b[49m\u001b[43m(\u001b[49m\u001b[33;43m\"\u001b[39;49m\u001b[33;43mAlice\u001b[39;49m\u001b[33;43m\"\u001b[39;49m\u001b[43m,\u001b[49m\u001b[43m \u001b[49m\u001b[32;43m30\u001b[39;49m\u001b[43m)\u001b[49m           \u001b[38;5;66;03m# エラーになる！！\u001b[39;00m\n\u001b[32m     10\u001b[39m \u001b[38;5;66;03m# *を入れることで、その後の引数はキーワードを必ず付けないといけなくなる\u001b[39;00m\n",
      "\u001b[31mTypeError\u001b[39m: greet() takes 0 positional arguments but 2 were given"
     ]
    }
   ],
   "source": [
    "# もし本当に「キーワード指定をさせたい」と思ったら、\n",
    "# Python では関数定義のときに特別な記法を使う必要がある\n",
    "# キーワード専用引数（*）を使う\n",
    "def greet(*, name, age):\n",
    "    print(f\"Hello {name}, you are {age} years old.\")\n",
    "\n",
    "greet(name=\"Alice\", age=30)  # OK\n",
    "greet(\"Alice\", 30)           # エラーになる！！\n",
    "\n",
    "# *を入れることで、その後の引数はキーワードを必ず付けないといけなくなる"
   ]
  },
  {
   "cell_type": "code",
   "execution_count": 10,
   "id": "82de7b6a",
   "metadata": {},
   "outputs": [],
   "source": [
    "def safe_division_c(number, divisor, *, ignore_overflow=False, ignore_zero_division=False):\n",
    "  return"
   ]
  },
  {
   "cell_type": "code",
   "execution_count": null,
   "id": "82f16c18",
   "metadata": {},
   "outputs": [],
   "source": [
    "# 以下のような呼び出し方が可能\n",
    "safe_division_c(1.0, 0, ignore_overflow=True)\n",
    "safe_division_c(1.0, 0)\n",
    "safe_division_c(number=1.0, divisor=0)\n",
    "safe_division_c(1.0, divisor=0)"
   ]
  },
  {
   "cell_type": "code",
   "execution_count": 16,
   "id": "59c35769",
   "metadata": {},
   "outputs": [],
   "source": [
    "# 拡張 pr 好みが変わったため、最初の引数の名前を変えると問題が起こる\n",
    "def safe_division_c(numerator, denominator, *, ignore_overflow=False, ignore_zero_division=False):\n",
    "  return"
   ]
  },
  {
   "cell_type": "code",
   "execution_count": 17,
   "id": "b055a2a0",
   "metadata": {},
   "outputs": [
    {
     "ename": "TypeError",
     "evalue": "safe_division_c() got an unexpected keyword argument 'number'",
     "output_type": "error",
     "traceback": [
      "\u001b[31m---------------------------------------------------------------------------\u001b[39m",
      "\u001b[31mTypeError\u001b[39m                                 Traceback (most recent call last)",
      "\u001b[36mCell\u001b[39m\u001b[36m \u001b[39m\u001b[32mIn[17]\u001b[39m\u001b[32m, line 2\u001b[39m\n\u001b[32m      1\u001b[39m \u001b[38;5;66;03m# キーワードが変わったためエラーになる\u001b[39;00m\n\u001b[32m----> \u001b[39m\u001b[32m2\u001b[39m \u001b[43msafe_division_c\u001b[49m\u001b[43m(\u001b[49m\u001b[43mnumber\u001b[49m\u001b[43m=\u001b[49m\u001b[32;43m1.0\u001b[39;49m\u001b[43m,\u001b[49m\u001b[43m \u001b[49m\u001b[43mdivisor\u001b[49m\u001b[43m=\u001b[49m\u001b[32;43m0\u001b[39;49m\u001b[43m)\u001b[49m \u001b[38;5;66;03m# エラー\u001b[39;00m\n\u001b[32m      3\u001b[39m safe_division_c(\u001b[32m1.0\u001b[39m, divisor=\u001b[32m0\u001b[39m) \u001b[38;5;66;03m# エラー\u001b[39;00m\n",
      "\u001b[31mTypeError\u001b[39m: safe_division_c() got an unexpected keyword argument 'number'"
     ]
    }
   ],
   "source": [
    "# キーワードが変わったためエラーになる\n",
    "safe_division_c(number=1.0, divisor=0) # エラー\n",
    "safe_division_c(1.0, divisor=0) # エラー"
   ]
  },
  {
   "cell_type": "code",
   "execution_count": 18,
   "id": "4b8a88e0",
   "metadata": {},
   "outputs": [],
   "source": [
    "# 引数リストの / 記号で位置専用引数の終わりを示す\n",
    "def safe_division_d(numerator, denominator, /, *, ignore_overflow=False, ignore_zero_division=False):\n",
    "  return"
   ]
  },
  {
   "cell_type": "code",
   "execution_count": null,
   "id": "b2577725",
   "metadata": {},
   "outputs": [],
   "source": [
    "safe_division_d(1.0, 0) # OK\n",
    "safe_division_d(numerator=1.0, denominator=0) # 位置専用引数にキーワードを利用するとエラー"
   ]
  },
  {
   "cell_type": "code",
   "execution_count": 29,
   "id": "2825433d",
   "metadata": {},
   "outputs": [],
   "source": [
    "# キーワード専用引数と位置専用引数の重要な結論は、\n",
    "# 引数リストの記号 / と * の間にある引数名は位置またはキーワードで渡されること\n",
    "# 例: safe_division に別のオプション引数を追加し、\n",
    "# 　　呼び出し元が結果を丸めるのに何桁にするか指定できるようにする\n",
    "def safe_division_e(numerator, denominator, /,\n",
    "                  ndigits=10, *,\n",
    "                  ignore_overflow=False,\n",
    "                  ignore_zero_division=False):\n",
    "  try:\n",
    "    fraction = numerator / denominator\n",
    "    return round(fraction, ndigits)\n",
    "  except OverflowError:\n",
    "    if ignore_overflow:\n",
    "      return 0\n",
    "    else:\n",
    "      raise\n",
    "  except ZeroDivisionError:\n",
    "    if ignore_zero_division:\n",
    "      return float('inf')\n",
    "    else:\n",
    "      raise"
   ]
  },
  {
   "cell_type": "code",
   "execution_count": 34,
   "id": "4a78c0c1",
   "metadata": {},
   "outputs": [],
   "source": [
    "assert safe_division_e(22, 7) == 3.1428571429\n",
    "assert safe_division_e(22, 7, 2) == 3.14\n",
    "assert safe_division_e(22, 7, ndigits=1) == 3.1"
   ]
  }
 ],
 "metadata": {
  "kernelspec": {
   "display_name": "venv",
   "language": "python",
   "name": "python3"
  },
  "language_info": {
   "codemirror_mode": {
    "name": "ipython",
    "version": 3
   },
   "file_extension": ".py",
   "mimetype": "text/x-python",
   "name": "python",
   "nbconvert_exporter": "python",
   "pygments_lexer": "ipython3",
   "version": "3.11.8"
  }
 },
 "nbformat": 4,
 "nbformat_minor": 5
}
