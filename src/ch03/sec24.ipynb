{
 "cells": [
  {
   "cell_type": "markdown",
   "id": "8b1c43b5",
   "metadata": {},
   "source": [
    "# 動的なデフォルト引数を指定するときには None と docstring を扱う"
   ]
  },
  {
   "cell_type": "code",
   "execution_count": null,
   "id": "287af99b",
   "metadata": {},
   "outputs": [],
   "source": [
    "from time import sleep\n",
    "from datetime import datetime\n",
    "\n",
    "# 悪い例\n",
    "def log(message, when=datetime.now()):\n",
    "  print(f'{when}: {message}')"
   ]
  },
  {
   "cell_type": "code",
   "execution_count": 4,
   "id": "6ffd7c6b",
   "metadata": {},
   "outputs": [
    {
     "name": "stdout",
     "output_type": "stream",
     "text": [
      "2025-04-26 20:55:33.576404: Hi there\n",
      "2025-04-26 20:55:33.576404: Hi again\n"
     ]
    }
   ],
   "source": [
    "log('Hi there')\n",
    "sleep(0.1) # sleep を入れているのに時刻が変わらない\n",
    "log('Hi again')"
   ]
  },
  {
   "cell_type": "markdown",
   "id": "511d7e37",
   "metadata": {},
   "source": [
    "タイムスタンプが同じなのは、datetime.now が関数が定義されたときの1回だけしか評価されないため"
   ]
  },
  {
   "cell_type": "code",
   "execution_count": null,
   "id": "d882cf5b",
   "metadata": {},
   "outputs": [],
   "source": [
    "# 良い例\n",
    "# 期待した結果を得るためには、デフォルト値を None にして、\n",
    "# docstring に実際の振る舞いを記述すること\n",
    "def log(message, when=None):\n",
    "  \"\"\"Log a message with a timestamp.\n",
    "\n",
    "  Args:\n",
    "      message: Message to print\n",
    "      when: datetime of when the message occurred.\n",
    "          Defaults to the present time.\n",
    "\n",
    "  \"\"\"\n",
    "  if when is None:\n",
    "    when = datetime.now()\n",
    "  print(f'{when}: {message}')"
   ]
  },
  {
   "cell_type": "code",
   "execution_count": null,
   "id": "c35ec996",
   "metadata": {},
   "outputs": [
    {
     "name": "stdout",
     "output_type": "stream",
     "text": [
      "Log a message with a timestamp.\n",
      "\n",
      "  Args:\n",
      "      message: Message to print\n",
      "      when: datetime of when the message occurred.\n",
      "          Defaults to the present time.\n",
      "\n",
      "  \n"
     ]
    }
   ],
   "source": [
    "print(log.__doc__)"
   ]
  },
  {
   "cell_type": "code",
   "execution_count": 19,
   "id": "a1b270c7",
   "metadata": {},
   "outputs": [
    {
     "name": "stdout",
     "output_type": "stream",
     "text": [
      "Help on function log in module __main__:\n",
      "\n",
      "log(message, when=None)\n",
      "    Log a message with a timestamp.\n",
      "    \n",
      "    Args:\n",
      "        message: Message to print\n",
      "        when: datetime of when the message occurred.\n",
      "            Defaults to the present time.\n",
      "\n"
     ]
    }
   ],
   "source": [
    "help(log)"
   ]
  },
  {
   "cell_type": "code",
   "execution_count": 6,
   "id": "7e65582e",
   "metadata": {},
   "outputs": [
    {
     "name": "stdout",
     "output_type": "stream",
     "text": [
      "2025-04-26 21:00:08.701394: Hi there\n",
      "2025-04-26 21:00:08.801973: Hi again\n"
     ]
    }
   ],
   "source": [
    "log('Hi there')\n",
    "sleep(0.1)\n",
    "log('Hi again')"
   ]
  },
  {
   "cell_type": "code",
   "execution_count": 12,
   "id": "e3477369",
   "metadata": {},
   "outputs": [],
   "source": [
    "import json\n",
    "\n",
    "# 悪い例\n",
    "# default に指定された辞書は1回しか評価されない\n",
    "# ので、すべての decode の呼び出しで default が共有される\n",
    "def decode(data, default={}):\n",
    "  try:\n",
    "    return json.loads(data)\n",
    "  except ValueError:\n",
    "    return default"
   ]
  },
  {
   "cell_type": "code",
   "execution_count": 11,
   "id": "6b35465c",
   "metadata": {},
   "outputs": [
    {
     "name": "stdout",
     "output_type": "stream",
     "text": [
      "Foo: {'stuff': 5, 'meep': 1}\n",
      "Bar: {'stuff': 5, 'meep': 1}\n"
     ]
    }
   ],
   "source": [
    "foo = decode('bad data')\n",
    "foo['stuff'] = 5\n",
    "bar = decode('also bad')\n",
    "bar['meep'] = 1\n",
    "# 2つの異なる辞書が、それぞれ1つのキーと値を持つことを期待している。\n",
    "# が、実際は default が共有されるため、同じオブジェクトが出力される。\n",
    "print('Foo:', foo)\n",
    "print('Bar:', bar)"
   ]
  },
  {
   "cell_type": "code",
   "execution_count": 13,
   "id": "dd4618af",
   "metadata": {},
   "outputs": [],
   "source": [
    "import json\n",
    "\n",
    "# 良い例\n",
    "def decode(data, default=None):\n",
    "  \"\"\"Load JSON data from a string.\n",
    "\n",
    "  Args:\n",
    "      data: JSON data to decode.\n",
    "      default: Value to return if decoding fails.\n",
    "          Defaults to an empty dictionary.\n",
    "\n",
    "  \"\"\"\n",
    "  try:\n",
    "    return json.loads(data)\n",
    "  except ValueError:\n",
    "    if default is None:\n",
    "      default = {}\n",
    "    return default"
   ]
  },
  {
   "cell_type": "code",
   "execution_count": 14,
   "id": "001cac3d",
   "metadata": {},
   "outputs": [
    {
     "name": "stdout",
     "output_type": "stream",
     "text": [
      "Foo: {'stuff': 5}\n",
      "Bar: {'meep': 1}\n"
     ]
    }
   ],
   "source": [
    "foo = decode('bad data')\n",
    "foo['stuff'] = 5\n",
    "bar = decode('also bad')\n",
    "bar['meep'] = 1\n",
    "# 2つの異なる辞書が、それぞれ1つのキーと値を持つ。\n",
    "print('Foo:', foo)\n",
    "print('Bar:', bar)"
   ]
  },
  {
   "cell_type": "code",
   "execution_count": null,
   "id": "b87c6f87",
   "metadata": {},
   "outputs": [],
   "source": [
    "# 以下の型ヒントでも動作する\n",
    "from typing import Optional\n",
    "\n",
    "# 引数の型ヒント name: type\n",
    "# 戻り値の型ヒント -> type\n",
    "# Optional は、指定の型 or None を許容する型\n",
    "def log_typed(message: str, when: Optional[datetime]=None) -> None: # 関数の型ヒント\n",
    "  \"\"\"Log a message with a timestamp.\n",
    "\n",
    "  Args:\n",
    "      message: Message to print\n",
    "      when: datetime of when the message occurred.\n",
    "          Defaults to the present time.\n",
    "\n",
    "  \"\"\"\n",
    "  if when is None:\n",
    "    when = datetime.now()\n",
    "  print(f'{when}: {message}')"
   ]
  },
  {
   "cell_type": "code",
   "execution_count": 17,
   "id": "7c501dfa",
   "metadata": {},
   "outputs": [
    {
     "name": "stdout",
     "output_type": "stream",
     "text": [
      "2025-04-26 21:34:21.379142: Hi there\n",
      "a: Hi there\n"
     ]
    }
   ],
   "source": [
    "log('Hi there')"
   ]
  }
 ],
 "metadata": {
  "kernelspec": {
   "display_name": "venv",
   "language": "python",
   "name": "python3"
  },
  "language_info": {
   "codemirror_mode": {
    "name": "ipython",
    "version": 3
   },
   "file_extension": ".py",
   "mimetype": "text/x-python",
   "name": "python",
   "nbconvert_exporter": "python",
   "pygments_lexer": "ipython3",
   "version": "3.11.8"
  }
 },
 "nbformat": 4,
 "nbformat_minor": 5
}
