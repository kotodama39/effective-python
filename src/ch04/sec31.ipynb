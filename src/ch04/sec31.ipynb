{
 "cells": [
  {
   "cell_type": "markdown",
   "id": "8b6160d4",
   "metadata": {},
   "source": [
    "# 引数に対してイテレータを使うときには確実さを優先する"
   ]
  },
  {
   "cell_type": "code",
   "execution_count": 26,
   "id": "375845ff",
   "metadata": {},
   "outputs": [],
   "source": [
    "# 旅行者の人数について分析\n",
    "# 各都市への訪問者数のデータセットから、旅行者全体の何パーセントを各都市で受け入れているかを計算\n",
    "def normalize(numbers):\n",
    "  print(f'numbers: {numbers}')\n",
    "  total = sum(numbers)\n",
    "  print(f'total: {total}')\n",
    "  result = []\n",
    "  for value in numbers:\n",
    "    print(f'value: {value}')\n",
    "    percent = 100 * value / total\n",
    "    result.append(percent)\n",
    "  print(f'result: {result}')\n",
    "  return result"
   ]
  },
  {
   "cell_type": "code",
   "execution_count": 4,
   "id": "87996379",
   "metadata": {},
   "outputs": [
    {
     "name": "stdout",
     "output_type": "stream",
     "text": [
      "[11.538461538461538, 26.923076923076923, 61.53846153846154]\n"
     ]
    }
   ],
   "source": [
    "visits = [15, 35, 80]\n",
    "percentages = normalize(visits)\n",
    "print(percentages)\n",
    "assert sum(percentages) == 100.0"
   ]
  },
  {
   "cell_type": "code",
   "execution_count": null,
   "id": "06dbc3a8",
   "metadata": {},
   "outputs": [],
   "source": [
    "# スケールアップのため\n",
    "# すべての都市を含んだファイルからデータを読み込むように\n",
    "# 全世界の旅行者数のようなずっと大きなもっとメモリが必要なデータセットにも同じ関数を利用したいので、\n",
    "# ジェネレータを定義\n",
    "def read_visits(data_path):\n",
    "  with open(data_path) as f:\n",
    "    for line in f:\n",
    "      yield int(line)"
   ]
  },
  {
   "cell_type": "code",
   "execution_count": 27,
   "id": "56276015",
   "metadata": {},
   "outputs": [
    {
     "name": "stdout",
     "output_type": "stream",
     "text": [
      "numbers: <generator object read_visits at 0x7f7d06f2a200>\n",
      "total: 130\n",
      "result: []\n",
      "[]\n"
     ]
    }
   ],
   "source": [
    "# ジェネレータ read_visits の戻り値に normalize を呼び出しても何も結果が得られない\n",
    "# 原因は、イテレータが結果を一度しか生成しないため\n",
    "# StopIteration 例外をすでに起こしたイテレータやジェネレータに反復処理をしても何の結果も得られない\n",
    "it = read_visits('my_numbers.txt')\n",
    "percentages = normalize(it) # normalize の sum(numbers) で反復処理が完了したため、その後の numbers で [] を返すようになった\n",
    "print(percentages)"
   ]
  },
  {
   "cell_type": "code",
   "execution_count": null,
   "id": "3f50c585",
   "metadata": {},
   "outputs": [
    {
     "name": "stdout",
     "output_type": "stream",
     "text": [
      "[15, 35, 80]\n",
      "[]\n"
     ]
    }
   ],
   "source": [
    "it = read_visits('my_numbers.txt')\n",
    "print(list(it))\n",
    "print(list(it)) # すでに反復処理が完了"
   ]
  },
  {
   "cell_type": "markdown",
   "id": "0f89f592",
   "metadata": {},
   "source": [
    "#### 問題点\n",
    "困るのは、すでに完了したイテレータに対して反復処理をしても、何のエラーも生じないこと\n",
    "\n",
    "for ループ、list コンストラクタ、Python 標準ライブラリの他の多くの関数では、通常の演算においては StopIteration 例外が発生することを想定している。\n",
    "これらの関数では、出力を持たないイテレータと、出力はあったが終了したイテレータとを区別することができない"
   ]
  },
  {
   "cell_type": "code",
   "execution_count": 30,
   "id": "6ee494d4",
   "metadata": {},
   "outputs": [],
   "source": [
    "# 解決策\n",
    "def normalize_copy(numbers):\n",
    "  numbers = list(numbers) # 内容全体の複製をリストに保持\n",
    "  total = sum(numbers)\n",
    "  result = []\n",
    "  for value in numbers:\n",
    "    percent = 100 * value / total\n",
    "    result.append(percent)\n",
    "  return result"
   ]
  },
  {
   "cell_type": "code",
   "execution_count": 32,
   "id": "71706cb9",
   "metadata": {},
   "outputs": [
    {
     "name": "stdout",
     "output_type": "stream",
     "text": [
      "[11.538461538461538, 26.923076923076923, 61.53846153846154]\n"
     ]
    }
   ],
   "source": [
    "it = read_visits('my_numbers.txt')\n",
    "percentages = normalize_copy(it)\n",
    "print(percentages)\n",
    "assert sum(percentages) == 100.0"
   ]
  },
  {
   "cell_type": "markdown",
   "id": "d2c6e8cc",
   "metadata": {},
   "source": [
    "ただし、これにも問題がある\n",
    "\n",
    "入力イテレータの複製の内容が巨大になりうるという問題"
   ]
  },
  {
   "cell_type": "code",
   "execution_count": 33,
   "id": "8190de81",
   "metadata": {},
   "outputs": [],
   "source": [
    "# 解決策\n",
    "\n",
    "# 呼ばれるたびに新たなイテレータを返す関数を受け入れる\n",
    "def normalize_func(get_iter):\n",
    "  total = sum(get_iter()) # 新たなイテレータ\n",
    "  result = []\n",
    "  for value in get_iter(): # 新たなイテレータ\n",
    "    percent = 100 * value / total\n",
    "    result.append(percent)\n",
    "  return result"
   ]
  },
  {
   "cell_type": "code",
   "execution_count": 43,
   "id": "4d484e92",
   "metadata": {},
   "outputs": [
    {
     "name": "stdout",
     "output_type": "stream",
     "text": [
      "[11.538461538461538, 26.923076923076923, 61.53846153846154]\n"
     ]
    }
   ],
   "source": [
    "path = 'my_numbers.txt'\n",
    "percentages = normalize_func(lambda: read_visits(path))\n",
    "print(percentages)\n",
    "assert sum(percentages) == 100.0"
   ]
  },
  {
   "cell_type": "markdown",
   "id": "c5a99a9e",
   "metadata": {},
   "source": [
    "これは動作するが、Lambda 関数を渡さなければならないのは面倒"
   ]
  },
  {
   "cell_type": "code",
   "execution_count": 46,
   "id": "607ee6d4",
   "metadata": {},
   "outputs": [],
   "source": [
    "# 解決策\n",
    "\n",
    "# イテレータプロトコルを実装した新たなコンテナクラスを提供\n",
    "# イテレータプロトコル :\n",
    "# Python の for ループや関連する式が、コンテナ型の内容をどのように横断するかを示すもの\n",
    "class ReadVisits:\n",
    "  def __init__(self, data_path):\n",
    "    self.data_path = data_path\n",
    "\n",
    "  # 自分のクラスに対するこれらの振る舞いすべてをジェネレータとした __iter__ メソッドを実装\n",
    "  def __iter__(self):\n",
    "    with open(self.data_path) as f:\n",
    "      for line in f:\n",
    "        yield int(line)"
   ]
  },
  {
   "cell_type": "code",
   "execution_count": null,
   "id": "781f700c",
   "metadata": {},
   "outputs": [
    {
     "name": "stdout",
     "output_type": "stream",
     "text": [
      "[11.538461538461538, 26.923076923076923, 61.53846153846154]\n"
     ]
    }
   ],
   "source": [
    "# 動作する\n",
    "\n",
    "# 動作するのは、normalize の sum メソッドが新たなイテレータオブジェクトを生成するために\n",
    "# ReadVisits.__iter__ を呼び出すから\n",
    "# これらのイテレータは、それぞれ独立に終わるまで進められれ、\n",
    "# どの反復処理でも入力データ値がすべて処理されることを保証\n",
    "visits = ReadVisits(path)\n",
    "percentages = normalize(visits)\n",
    "print(percentages)\n",
    "assert sum(percentages) == 100.0"
   ]
  },
  {
   "cell_type": "markdown",
   "id": "bde71a8e",
   "metadata": {},
   "source": [
    "この方式には、唯一、入力データを複数回読み込んでしまうという欠点がある"
   ]
  },
  {
   "cell_type": "markdown",
   "id": "ba2d1caf",
   "metadata": {},
   "source": [
    "イテレータプロトコルでは、組み込み関数 iter にイテレータが渡されると、iter がイテレータそのものを返すことになっている。\n",
    "対照的に、コンテナ型が iter に渡されると、そのたびに、新たなイテレータオブジェクトが返される。\n",
    "そうしてこの振る舞いの入力値をテストして、条件を満たさないと、TypeError を起こして反復できない引数を拒絶する。"
   ]
  },
  {
   "cell_type": "code",
   "execution_count": 49,
   "id": "8316ca8c",
   "metadata": {},
   "outputs": [],
   "source": [
    "def normalize_defensive(numbers):\n",
    "  # 反復できない引数を拒絶\n",
    "  # iter(numbers) is numbers が True であれば、numbers がイテレータであることがわかる\n",
    "  # つまり、そのままイテレータで進めると予期せぬ失敗になる\n",
    "  # イテレータは1度使うとそれきりなので、2度目には[]が返ってくるので、それを防ぐための if 文\n",
    "  if iter(numbers) is numbers:\n",
    "    raise TypeError('Must supply a container')\n",
    "  total = sum(numbers)\n",
    "  result = []\n",
    "  for value in numbers:\n",
    "    percent = 100 * value / total\n",
    "    result.append(percent)\n",
    "  return result"
   ]
  },
  {
   "cell_type": "code",
   "execution_count": 50,
   "id": "a00d37ab",
   "metadata": {},
   "outputs": [],
   "source": [
    "from collections.abc import Iterator\n",
    "\n",
    "def normalize_defensive(numbers):\n",
    "  # 組み込みモジュールを使った別のやりかた\n",
    "  if isinstance(numbers, Iterator):\n",
    "    raise TypeError('Must sypply a container')\n",
    "  total = sum(numbers)\n",
    "  result = []\n",
    "  for value in numbers:\n",
    "    percent = 100 * value / total\n",
    "    result.append(percent)\n",
    "  return result"
   ]
  },
  {
   "cell_type": "code",
   "execution_count": 52,
   "id": "8f26d7a9",
   "metadata": {},
   "outputs": [],
   "source": [
    "visits = [15, 35, 80]\n",
    "percentages = normalize_defensive(visits)\n",
    "assert sum(percentages) == 100.0\n",
    "\n",
    "visits = ReadVisits(path)\n",
    "percentages = normalize_defensive(visits)\n",
    "assert sum(percentages) == 100.0"
   ]
  },
  {
   "cell_type": "code",
   "execution_count": null,
   "id": "614945f6",
   "metadata": {},
   "outputs": [
    {
     "ename": "TypeError",
     "evalue": "Must sypply a container",
     "output_type": "error",
     "traceback": [
      "\u001b[31m---------------------------------------------------------------------------\u001b[39m",
      "\u001b[31mTypeError\u001b[39m                                 Traceback (most recent call last)",
      "\u001b[36mCell\u001b[39m\u001b[36m \u001b[39m\u001b[32mIn[54]\u001b[39m\u001b[32m, line 3\u001b[39m\n\u001b[32m      1\u001b[39m visits = [\u001b[32m15\u001b[39m, \u001b[32m35\u001b[39m, \u001b[32m80\u001b[39m]\n\u001b[32m      2\u001b[39m it = \u001b[38;5;28miter\u001b[39m(visits)\n\u001b[32m----> \u001b[39m\u001b[32m3\u001b[39m percentages = \u001b[43mnormalize_defensive\u001b[49m\u001b[43m(\u001b[49m\u001b[43mit\u001b[49m\u001b[43m)\u001b[49m\n\u001b[32m      4\u001b[39m \u001b[38;5;28;01massert\u001b[39;00m \u001b[38;5;28msum\u001b[39m(percentages) == \u001b[32m100.0\u001b[39m\n",
      "\u001b[36mCell\u001b[39m\u001b[36m \u001b[39m\u001b[32mIn[50]\u001b[39m\u001b[32m, line 6\u001b[39m, in \u001b[36mnormalize_defensive\u001b[39m\u001b[34m(numbers)\u001b[39m\n\u001b[32m      3\u001b[39m \u001b[38;5;28;01mdef\u001b[39;00m\u001b[38;5;250m \u001b[39m\u001b[34mnormalize_defensive\u001b[39m(numbers):\n\u001b[32m      4\u001b[39m   \u001b[38;5;66;03m# 組み込みモジュールを使った別のやりかた\u001b[39;00m\n\u001b[32m      5\u001b[39m   \u001b[38;5;28;01mif\u001b[39;00m \u001b[38;5;28misinstance\u001b[39m(numbers, Iterator):\n\u001b[32m----> \u001b[39m\u001b[32m6\u001b[39m     \u001b[38;5;28;01mraise\u001b[39;00m \u001b[38;5;167;01mTypeError\u001b[39;00m(\u001b[33m'\u001b[39m\u001b[33mMust sypply a container\u001b[39m\u001b[33m'\u001b[39m)\n\u001b[32m      7\u001b[39m   total = \u001b[38;5;28msum\u001b[39m(numbers)\n\u001b[32m      8\u001b[39m   result = []\n",
      "\u001b[31mTypeError\u001b[39m: Must sypply a container"
     ]
    }
   ],
   "source": [
    "visits = [15, 35, 80]\n",
    "it = iter(visits)\n",
    "percentages = normalize_defensive(it) # イテレータの時は、期待通り TypeError がスローされる"
   ]
  }
 ],
 "metadata": {
  "kernelspec": {
   "display_name": "venv",
   "language": "python",
   "name": "python3"
  },
  "language_info": {
   "codemirror_mode": {
    "name": "ipython",
    "version": 3
   },
   "file_extension": ".py",
   "mimetype": "text/x-python",
   "name": "python",
   "nbconvert_exporter": "python",
   "pygments_lexer": "ipython3",
   "version": "3.11.8"
  }
 },
 "nbformat": 4,
 "nbformat_minor": 5
}
