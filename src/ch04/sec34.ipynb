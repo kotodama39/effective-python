{
 "cells": [
  {
   "cell_type": "markdown",
   "id": "0dd9c81f",
   "metadata": {},
   "source": [
    "# send でジェネレータにデータを注入するのは避ける"
   ]
  },
  {
   "cell_type": "code",
   "execution_count": 2,
   "id": "76fc1345",
   "metadata": {},
   "outputs": [],
   "source": [
    "import math\n",
    "\n",
    "def wave(amplitude, steps):\n",
    "  \"\"\"ソフトウェアラジオを使って信号を送出する.\n",
    "\n",
    "  Args:\n",
    "      amplitude: 振幅\n",
    "      steps:\n",
    "\n",
    "  \"\"\"\n",
    "  step_size = 2 * math.pi / steps\n",
    "  for step in range(steps):\n",
    "    radians = step * step_size\n",
    "    fraction = math.sin(radians)\n",
    "    output = amplitude * fraction\n",
    "    yield output"
   ]
  },
  {
   "cell_type": "code",
   "execution_count": 4,
   "id": "4282d51f",
   "metadata": {},
   "outputs": [
    {
     "name": "stdout",
     "output_type": "stream",
     "text": [
      "Output:   0.0\n",
      "Output:   2.1\n",
      "Output:   3.0\n",
      "Output:   2.1\n",
      "Output:   0.0\n",
      "Output:  -2.1\n",
      "Output:  -3.0\n",
      "Output:  -2.1\n"
     ]
    }
   ],
   "source": [
    "def transmit(output):\n",
    "  if output is None:\n",
    "    print(f'Output is None')\n",
    "  else:\n",
    "    print(f'Output: {output:>5.1f}')\n",
    "\n",
    "def run(it):\n",
    "  for output in it:\n",
    "    transmit(output)\n",
    "\n",
    "run(wave(3.0, 8))"
   ]
  },
  {
   "cell_type": "markdown",
   "id": "1aec5b3a",
   "metadata": {},
   "source": [
    "基本的な波形を作るにはこれで十分ですが、別の入力に基づいた波形で常に振幅を変動させること（すなわち、AMラジオ信号の生成）はできない\n",
    "ジェネレータのイテレーションのたびに、振幅を変調する方法が必要\n",
    "\n",
    "Python のジェネレータには yield 式を双方向に使えるようにした send メソッドがある\n",
    "send メソッドでは、ジェネレータが出力を yield しながら、ストリーム入力を受け入れられる\n",
    "通常ジェネレータをイテレーションするとき、yield 式の値は None である"
   ]
  },
  {
   "cell_type": "code",
   "execution_count": 8,
   "id": "522c091b",
   "metadata": {},
   "outputs": [
    {
     "name": "stdout",
     "output_type": "stream",
     "text": [
      "1\n",
      "2\n"
     ]
    }
   ],
   "source": [
    "# 通常のジェネレータ関数は yield を使って値を「一方向に」外へ出す（＝出力する）ものです。\n",
    "# これはループなどで next() を呼ぶたびに順番に値を返します。\n",
    "def simple_gen():\n",
    "    yield 1\n",
    "    yield 2\n",
    "\n",
    "it = simple_gen()\n",
    "print(next(it))\n",
    "print(next(it))"
   ]
  },
  {
   "cell_type": "code",
   "execution_count": null,
   "id": "fbcf2d09",
   "metadata": {},
   "outputs": [
    {
     "name": "stdout",
     "output_type": "stream",
     "text": [
      "output = 1\n",
      "reversed = None\n"
     ]
    }
   ],
   "source": [
    "# Python では yield を使って 値を出すだけでなく、外から値を受け取ることもできます。\n",
    "# これを「双方向ジェネレータ」と呼びます。\n",
    "# 具体的には、send(value) を使うと、前回の yield を「式」として評価し、\n",
    "# その結果に value が渡される という動作になります。\n",
    "def my_generator():\n",
    "  received = yield 1 # 単に「1を出力する」だけだが、その後の yield に send() で値を送信可能\n",
    "  print(f'reversed = {received}')\n",
    "\n",
    "it = iter(my_generator())\n",
    "output = next(it) # 最初のジェネレータ出力を取得 1 が出力される\n",
    "print(f'output = {output}')\n",
    "\n",
    "try:\n",
    "  # 終わるまでジェネレータ実行\n",
    "  # yield に何も送っていないので、received = None になる（デフォルト: None）\n",
    "  next(it)\n",
    "except StopIteration:\n",
    "  pass\n",
    "else:\n",
    "  assert False"
   ]
  },
  {
   "cell_type": "markdown",
   "id": "f54f331c",
   "metadata": {},
   "source": [
    "for ループや組み込み関数 next でイテレーションする代わりに send メソッドを呼び出すと、指定した引数がジェネレータを再度呼び出したときの値になる。\n",
    "しかし、初めてのジェネレータでは、yield 式がまだないので、最初に send を呼び出すときに指定できるのは None だけ（それ以外の引数は実行時に例外が送出される）"
   ]
  },
  {
   "cell_type": "code",
   "execution_count": 11,
   "id": "314beff6",
   "metadata": {},
   "outputs": [
    {
     "name": "stdout",
     "output_type": "stream",
     "text": [
      "output = 1\n",
      "reversed = hello\n"
     ]
    }
   ],
   "source": [
    "it = iter(my_generator())\n",
    "# 最初のジェネレータ\n",
    "# 最初の send では、まだ yield に達していないため、値を受け取ることができない\n",
    "# ので、it.send(42) と値を送ると、エラーになる（最初の send は必ず next(it) or it.send(None)）\n",
    "output = it.send(None)\n",
    "print(f'output = {output}')\n",
    "\n",
    "try:\n",
    "  it.send('hello')\n",
    "except StopIteration:\n",
    "  pass"
   ]
  },
  {
   "cell_type": "markdown",
   "id": "84b90bc7",
   "metadata": {},
   "source": [
    "### 解説：\n",
    "1. my_generator() を呼ぶと、まだ何も実行されない（イテレータが生成されるだけ）\n",
    "\n",
    "1. next(it) を実行 → yield 1 まで進み、1 を返す（ここで一時停止）\n",
    "\n",
    "1. 次の next(it) で、ジェネレータが再開\n",
    "\n",
    "   * received = yield 1 に戻り、yield の式に None が代入される（nextは何も送れない）\n",
    "\n",
    "   * print(f'reversed = {received}') で \"reversed = None\" が出力される"
   ]
  },
  {
   "cell_type": "code",
   "execution_count": 24,
   "id": "4c4f0914",
   "metadata": {},
   "outputs": [],
   "source": [
    "# ラジオ波のジェネレータを yield 式で返された振幅を保存し、それを利用して次の出力を生成\n",
    "def wave_modulating(steps):\n",
    "  step_size = 2 * math.pi / steps\n",
    "  amplitude = yield                  # 最初の振幅を受け取る\n",
    "  for step in range(steps):\n",
    "    radians = step * step_size\n",
    "    fraction = math.sin(radians)\n",
    "    output = amplitude * fraction\n",
    "    amplitude = yield output         # 次の振幅を受け取る"
   ]
  },
  {
   "cell_type": "code",
   "execution_count": 25,
   "id": "5a87f999",
   "metadata": {},
   "outputs": [
    {
     "name": "stdout",
     "output_type": "stream",
     "text": [
      "Output is None\n",
      "Output:   0.0\n",
      "Output:   3.5\n",
      "Output:   6.1\n",
      "Output:   2.0\n",
      "Output:   1.7\n",
      "Output:   1.0\n",
      "Output:   0.0\n",
      "Output:  -5.0\n",
      "Output:  -8.7\n",
      "Output: -10.0\n",
      "Output:  -8.7\n",
      "Output:  -5.0\n"
     ]
    }
   ],
   "source": [
    "def run_modulating(it):\n",
    "  amplitudes = [\n",
    "    None, 7, 7, 7, 2, 2, 2, 2, 10, 10, 10, 10, 10\n",
    "  ]\n",
    "  for amplitude in amplitudes:\n",
    "    output = it.send(amplitude)\n",
    "    transmit(output)\n",
    "\n",
    "# 1. it.send(None) で amplitude = yield まで進み、None を返す（一時停止）\n",
    "# 2. it.send(7) で amplitude = yield に戻り、yield 式に 7 が代入される\n",
    "#    for ループの amplitude = yield output まで進み、output を返す（一時停止）\n",
    "# 3. it.send(7) で amplitude = yield output に戻り、yield 式に 7 が代入される\n",
    "#    for ループの amplitude = yield output まで再度進み、output を返す（一時停止）\n",
    "run_modulating(wave_modulating(12))"
   ]
  },
  {
   "cell_type": "markdown",
   "id": "b8ac4ffb",
   "metadata": {},
   "source": [
    "初めてこのコードを読む人には難解...\n",
    "\n",
    "話が変わり、プログラムの要求がもっと複雑になったとする。\n",
    "搬送波に単純な制限はを使う代わりに、一連の信号からなる複雑な波形を使う必要がでたとする。"
   ]
  },
  {
   "cell_type": "code",
   "execution_count": 27,
   "id": "3e1280c9",
   "metadata": {},
   "outputs": [
    {
     "name": "stdout",
     "output_type": "stream",
     "text": [
      "Output:   0.0\n",
      "Output:   6.1\n",
      "Output:  -6.1\n",
      "Output:   0.0\n",
      "Output:   2.0\n",
      "Output:   0.0\n",
      "Output:  -2.0\n",
      "Output:   0.0\n",
      "Output:   9.5\n",
      "Output:   5.9\n",
      "Output:  -5.9\n",
      "Output:  -9.5\n"
     ]
    }
   ],
   "source": [
    "# 33 項目の yield from で複雑なジェネレータをつくるより\n",
    "def complex_wave():\n",
    "  yield from wave(7.0, 3)\n",
    "  yield from wave(2.0, 4)\n",
    "  yield from wave(10.0, 5)\n",
    "\n",
    "run(complex_wave())"
   ]
  },
  {
   "cell_type": "code",
   "execution_count": 31,
   "id": "fe4a3c1b",
   "metadata": {},
   "outputs": [
    {
     "name": "stdout",
     "output_type": "stream",
     "text": [
      "Output is None\n",
      "Output:   0.0\n",
      "Output:   6.1\n",
      "Output:  -6.1\n",
      "Output is None\n",
      "Output:   0.0\n",
      "Output:   2.0\n",
      "Output:   0.0\n",
      "Output: -10.0\n",
      "Output is None\n",
      "Output:   0.0\n",
      "Output:   9.5\n",
      "Output:   5.9\n"
     ]
    }
   ],
   "source": [
    "# yield from 式が簡単な場合を扱えたので、\n",
    "# ジェネレータの send メソッドでもうまくいくと期待するかもしれない\n",
    "def complex_wave_modulating():\n",
    "  yield from wave_modulating(3)\n",
    "  yield from wave_modulating(4)\n",
    "  yield from wave_modulating(5)\n",
    "\n",
    "# None が多数に出力されるので、問題\n",
    "run_modulating(complex_wave_modulating())"
   ]
  },
  {
   "cell_type": "markdown",
   "id": "d6954727",
   "metadata": {},
   "source": [
    "None の問題を回避することはできるが、コードが更に難解になってくる。\n",
    "\n",
    "ので、「send メソッドをきっぱりあきらめて、より単純な方式にする」のがオススメ"
   ]
  },
  {
   "cell_type": "code",
   "execution_count": 32,
   "id": "a590c561",
   "metadata": {},
   "outputs": [],
   "source": [
    "# もっとも簡単な解\n",
    "# ラジオ波の関数にイテレータを渡すこと\n",
    "# 組み込み関数 next が呼ばれるたびにイテレータが入力の振幅を返すように\n",
    "def wave_cascading(amplitude_it, steps):\n",
    "  step_size = 2 * math.pi / steps\n",
    "  for step in range(steps):\n",
    "    radians = step * step_size\n",
    "    fraction = math.sin(radians)\n",
    "    amplitude = next(amplitude_it)  # 次の入力取得\n",
    "    output = amplitude * fraction\n",
    "    yield output"
   ]
  },
  {
   "cell_type": "code",
   "execution_count": 35,
   "id": "b56285b2",
   "metadata": {},
   "outputs": [],
   "source": [
    "def complex_wave_cascading(amplitude_it):\n",
    "  yield from wave_cascading(amplitude_it, 3)\n",
    "  yield from wave_cascading(amplitude_it, 4)\n",
    "  yield from wave_cascading(amplitude_it, 5)"
   ]
  },
  {
   "cell_type": "code",
   "execution_count": 37,
   "id": "0c4489c4",
   "metadata": {},
   "outputs": [
    {
     "name": "stdout",
     "output_type": "stream",
     "text": [
      "Output:   0.0\n",
      "Output:   6.1\n",
      "Output:  -6.1\n",
      "Output:   0.0\n",
      "Output:   2.0\n",
      "Output:   0.0\n",
      "Output:  -2.0\n",
      "Output:   0.0\n",
      "Output:   9.5\n",
      "Output:   5.9\n",
      "Output:  -5.9\n",
      "Output:  -9.5\n"
     ]
    }
   ],
   "source": [
    "def run_cascading():\n",
    "  amplitudes = [7, 7, 7, 2, 2, 2, 2, 10, 10, 10, 10, 10]\n",
    "  it = complex_wave_cascading(iter(amplitudes))\n",
    "  for _ in amplitudes:\n",
    "    output = next(it)\n",
    "    transmit(output)\n",
    "\n",
    "run_cascading()"
   ]
  },
  {
   "cell_type": "markdown",
   "id": "4242467f",
   "metadata": {},
   "source": [
    "この方式で最も良いのは、イテレータはどこからでもよく、完全に動的（例えば、ジェネレータ関数を使って実装）でかまわないこと\n",
    "\n",
    "唯一の欠点は、このコードではジェネレータが完全にスレッドセーフと仮定していることで、場合によるとそうでない場合がある\n",
    "\n",
    "スレッドの境界値を超える必要があるなら、async 関数の方が良いかもしれない"
   ]
  },
  {
   "cell_type": "markdown",
   "id": "8a367357",
   "metadata": {},
   "source": [
    "### 唯一の欠点について\n",
    "\n",
    "スレッドセーフ:\n",
    "複数のスレッドが同時に同じリソースにアクセスしても正しく動作すること\n",
    "\n",
    "Python のジェネレータは、状態を内部に持っていて、逐次的に進める\n",
    "* yield によって状態が中断・再開される\n",
    "* 外から next()・send() などで進める\n",
    "\n",
    "これは「状態を持つ=排他的に扱わないと壊れやすい」という特徴がある\n",
    "\n",
    "ここでは、amplitude = next(amplitude_it) のように外部の amplitude_it というイテレータ（=共有リソース）を内部で使っている点に問題が出る可能性がある\n",
    "\n",
    "問題例:\n",
    "* 複数のスレッドで同じ amplitude_it を共有して run_cascading() を呼ぶ\n",
    "* それぞれが同時に next(amplitude_it) を呼び出す\n",
    "* 結果として、データの順番が狂ったり、StopIteration 例外が予期せず出たりする\n",
    "\n",
    "なぜなら Python のイテレータやジェネレータはスレッドセーフではない"
   ]
  },
  {
   "cell_type": "markdown",
   "id": "d68bab32",
   "metadata": {},
   "source": [
    "### async 関数の方が良いかもしれないについて\n",
    "\n",
    "async 関数は、Python において、マルチタスクを安全に行うための機構\n",
    "* await を使って、安全なタイミングで他の処理に制御を譲る\n",
    "* イテレータのような逐次的処理も、安全に並列風に扱える\n",
    "\n",
    "async のメリット\n",
    "* 複数の「波形出力タスク」を同時に走らせたい\n",
    "* amplitude_it のような共有リソースにアクセスの同期制御を加えたい\n",
    "\n",
    "このようなケースでは、スレッドではなく async の方が制御しやすく、安全に扱える"
   ]
  },
  {
   "cell_type": "code",
   "execution_count": 41,
   "id": "f7a8fd0b",
   "metadata": {},
   "outputs": [
    {
     "name": "stdout",
     "output_type": "stream",
     "text": [
      "[Thread-A] Amplitude: 1, Output: 0.0\n",
      "[Thread-B] Amplitude: 2, Output: 0.0\n",
      "[Thread-A] Amplitude: 3, Output: 2.598076211353316\n",
      "[Thread-B] Amplitude: 4, Output: 3.464101615137755\n",
      "[Thread-A] Amplitude: 5, Output: -4.330127018922192\n",
      "[Thread-B] Amplitude: 6, Output: -5.19615242270663\n",
      "[Thread-A] Amplitude: 7, Output: 0.0\n",
      "[Thread-B] Amplitude: 8, Output: 0.0\n",
      "[Thread-A] Amplitude: 9, Output: 9.0\n",
      "[Thread-B] Amplitude: 10, Output: 10.0\n",
      "StopIteration!\n",
      "StopIteration!\n"
     ]
    }
   ],
   "source": [
    "# wave_cascading のスレッドセーフでない使い方による問題例\n",
    "import math\n",
    "import threading\n",
    "from time import sleep\n",
    "\n",
    "def wave_cascading(amplitude_it, steps):\n",
    "    step_size = 2 * math.pi / steps\n",
    "    for step in range(steps):\n",
    "        radians = step * step_size\n",
    "        fraction = math.sin(radians)\n",
    "        amplitude = next(amplitude_it)  # 共有イテレータから取得（危険）\n",
    "        output = amplitude * fraction\n",
    "        print(f\"[{threading.current_thread().name}] Amplitude: {amplitude}, Output: {output}\")\n",
    "        sleep(0.1)  # 疑似的な遅延\n",
    "\n",
    "def complex_wave_cascading(amplitude_it):\n",
    "    # スレッドセーフではないことにより例外が発生するのでそれをキャッチする処理を追加\n",
    "    try: \n",
    "        wave_cascading(amplitude_it, 3)\n",
    "        wave_cascading(amplitude_it, 4)\n",
    "    except StopIteration:\n",
    "        print(f\"StopIteration!\")\n",
    "\n",
    "def run_threaded_cascading():\n",
    "    amplitudes = iter([1,2,3,4,5,6,7,8,9,10])  # 共有イテレータ\n",
    "    t1 = threading.Thread(target=complex_wave_cascading, args=(amplitudes,), name=\"Thread-A\")\n",
    "    t2 = threading.Thread(target=complex_wave_cascading, args=(amplitudes,), name=\"Thread-B\")\n",
    "    t1.start()\n",
    "    t2.start()\n",
    "    t1.join()\n",
    "    t2.join()\n",
    "\n",
    "run_threaded_cascading()"
   ]
  },
  {
   "cell_type": "markdown",
   "id": "094a9de0",
   "metadata": {},
   "source": [
    "### 問題\n",
    "\n",
    "amplitudes（イテレータ）を複数スレッドで共有している\n",
    "\n",
    "結果として、next(amplitudes) が同時に呼ばれると、内部状態が競合して\n",
    "* 値がスキップされたり\n",
    "* StopIteration が早く来たり\n",
    "* 結果が順不同・壊れる可能性がある"
   ]
  },
  {
   "cell_type": "code",
   "execution_count": null,
   "id": "da8c2acd",
   "metadata": {},
   "outputs": [
    {
     "name": "stdout",
     "output_type": "stream",
     "text": [
      "Amplitude: 1\n",
      "[Task A] Output: 0.0\n",
      "Amplitude: 2\n",
      "[Task A] Output: 1.7320508075688774\n",
      "Amplitude: 3\n",
      "[Task A] Output: -2.598076211353315\n",
      "Amplitude: 4\n",
      "[Task A] Output: 0.0\n",
      "Amplitude: 5\n",
      "[Task A] Output: 5.0\n",
      "Amplitude: 6\n",
      "[Task A] Output: 7.347880794884119e-16\n",
      "Amplitude: 7\n",
      "[Task A] Output: -7.0\n",
      "Amplitude: 8\n",
      "[Task A] Output: 0.0\n",
      "Amplitude: 9\n",
      "[Task A] Output: 8.559508646656381\n",
      "Amplitude: 10\n",
      "[Task A] Output: 5.877852522924733\n",
      "Amplitude: 11\n",
      "[Task A] Output: -6.465637775217203\n",
      "Amplitude: 12\n",
      "[Task A] Output: -11.412678195541844\n",
      "Amplitude: 1\n",
      "[Task B] Output: 0.0\n",
      "Amplitude: 2\n",
      "[Task B] Output: 1.7320508075688774\n",
      "Amplitude: 3\n",
      "[Task B] Output: -2.598076211353315\n",
      "Amplitude: 4\n",
      "[Task B] Output: 0.0\n",
      "Amplitude: 5\n",
      "[Task B] Output: 5.0\n",
      "Amplitude: 6\n",
      "[Task B] Output: 7.347880794884119e-16\n",
      "Amplitude: 7\n",
      "[Task B] Output: -7.0\n",
      "Amplitude: 8\n",
      "[Task B] Output: 0.0\n",
      "Amplitude: 9\n",
      "[Task B] Output: 8.559508646656381\n",
      "Amplitude: 10\n",
      "[Task B] Output: 5.877852522924733\n",
      "Amplitude: 11\n",
      "[Task B] Output: -6.465637775217203\n",
      "Amplitude: 12\n",
      "[Task B] Output: -11.412678195541844\n"
     ]
    }
   ],
   "source": [
    "import asyncio\n",
    "import math\n",
    "\n",
    "# 波形処理（終了シグナルが来たら停止）\n",
    "async def wave_cascading(amplitude_queue, steps):\n",
    "    step_size = 2 * math.pi / steps\n",
    "    for step in range(steps):\n",
    "        radians = step * step_size\n",
    "        fraction = math.sin(radians)\n",
    "        amplitude = await amplitude_queue.get() # 中身が空なら待機する（ブロックする）\n",
    "        print(f'Amplitude: {amplitude}')\n",
    "        if amplitude is None:\n",
    "            return  # 明示的な終了シグナル\n",
    "        output = amplitude * fraction\n",
    "        yield output\n",
    "\n",
    "# 波形を複数連続で実行\n",
    "async def complex_wave_cascading(amplitude_queue):\n",
    "    async for value in wave_cascading(amplitude_queue, 3):\n",
    "        yield value\n",
    "    async for value in wave_cascading(amplitude_queue, 4):\n",
    "        yield value\n",
    "    async for value in wave_cascading(amplitude_queue, 5):\n",
    "        yield value\n",
    "\n",
    "# 実行関数（キューが終了したら終了）\n",
    "async def run_cascading(name, amplitude_queue):\n",
    "    async for output in complex_wave_cascading(amplitude_queue):\n",
    "        print(f\"[{name}] Output: {output}\")\n",
    "\n",
    "# メイン実行関数\n",
    "async def main():\n",
    "    amplitudes = [1,2,3,4,5,6,7,8,9,10,11,12]\n",
    "    queue = asyncio.Queue()\n",
    "\n",
    "    # データの個数：3+4+5=12 → 各タスクに12個必要なので2倍に\n",
    "    for a in amplitudes * 2:\n",
    "        await queue.put(a)\n",
    "\n",
    "    # 各タスクの終了を伝えるため、None（終了シグナル）を入れる\n",
    "    await queue.put(None)\n",
    "    await queue.put(None)\n",
    "\n",
    "    await asyncio.gather(\n",
    "        run_cascading(\"Task A\", queue),\n",
    "        run_cascading(\"Task B\", queue),\n",
    "    )\n",
    "\n",
    "# Jupyter での実行\n",
    "await main()"
   ]
  }
 ],
 "metadata": {
  "kernelspec": {
   "display_name": "venv",
   "language": "python",
   "name": "python3"
  },
  "language_info": {
   "codemirror_mode": {
    "name": "ipython",
    "version": 3
   },
   "file_extension": ".py",
   "mimetype": "text/x-python",
   "name": "python",
   "nbconvert_exporter": "python",
   "pygments_lexer": "ipython3",
   "version": "3.11.8"
  }
 },
 "nbformat": 4,
 "nbformat_minor": 5
}
