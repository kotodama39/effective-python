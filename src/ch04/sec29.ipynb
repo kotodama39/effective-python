{
 "cells": [
  {
   "cell_type": "markdown",
   "id": "53174f01",
   "metadata": {},
   "source": [
    "# 代入式を使い内包表記での繰り返し作業をなくす"
   ]
  },
  {
   "cell_type": "code",
   "execution_count": 3,
   "id": "f42d5c2e",
   "metadata": {},
   "outputs": [
    {
     "name": "stdout",
     "output_type": "stream",
     "text": [
      "35 // 8 = 4\n",
      "8 // 8 = 1\n",
      "0 // 8 = 0\n",
      "{'screws': 4, 'wingnuts': 1}\n"
     ]
    }
   ],
   "source": [
    "stock = {\n",
    "  'nails': 125,\n",
    "  'screws': 35,\n",
    "  'wingnuts': 8,\n",
    "  'washers': 24,\n",
    "}\n",
    "\n",
    "order = ['screws', 'wingnuts', 'clips']\n",
    "\n",
    "def get_batches(count, size):\n",
    "  print(f'{count} // {size} = {count // size}')\n",
    "  return count // size # 切り捨て除算\n",
    "\n",
    "result = {}\n",
    "for name in order:\n",
    "  count = stock.get(name, 0)\n",
    "  batches = get_batches(count, 8)\n",
    "  if batches:\n",
    "    result[name] = batches\n",
    "\n",
    "print(result)"
   ]
  },
  {
   "cell_type": "code",
   "execution_count": 8,
   "id": "37351a6e",
   "metadata": {},
   "outputs": [
    {
     "name": "stdout",
     "output_type": "stream",
     "text": [
      "35 // 8 = 4\n",
      "8 // 8 = 1\n",
      "0 // 8 = 0\n",
      "{'screws': 4, 'wingnuts': 1}\n"
     ]
    }
   ],
   "source": [
    "# 辞書内包表記を使うと簡潔になる\n",
    "found = {name: batches\n",
    "         for name in order\n",
    "         if (batches:=get_batches(stock.get(name, 0), 8))}\n",
    "print(found)"
   ]
  },
  {
   "cell_type": "code",
   "execution_count": 16,
   "id": "dae1012a",
   "metadata": {},
   "outputs": [
    {
     "name": "stdout",
     "output_type": "stream",
     "text": [
      "Last item of [3844, 289, 144] is 12 ** 2 = 144\n"
     ]
    }
   ],
   "source": [
    "# 内包表記の中でウォルラス演算子を使うと、変数名が内包表記を含むスコープにリークする（項目21参照）\n",
    "half = [(squared := last ** 2)\n",
    "        for count in stock.values()\n",
    "        if (last := count // 2) > 10]\n",
    "print(f'Last item of {half} is {last} ** 2 = {squared}')"
   ]
  },
  {
   "cell_type": "code",
   "execution_count": 17,
   "id": "7472a199",
   "metadata": {},
   "outputs": [
    {
     "name": "stdout",
     "output_type": "stream",
     "text": [
      "24 // 2 = 12; 12 ** 2 = 144\n"
     ]
    }
   ],
   "source": [
    "# for文でも変数名のリークは発生\n",
    "for count in stock.values():\n",
    "  last = count // 2\n",
    "  squared = last ** 2\n",
    "\n",
    "print(f'{count} // 2 = {last}; {last} ** 2 = {squared}')"
   ]
  },
  {
   "cell_type": "code",
   "execution_count": null,
   "id": "025a8da8",
   "metadata": {},
   "outputs": [
    {
     "name": "stdout",
     "output_type": "stream",
     "text": [
      "[62, 17, 4, 12]\n"
     ]
    }
   ],
   "source": [
    "# しかし、代入分を使わない内包表記のループ変数ではリークが発生しない\n",
    "half = [count // 2 for count in stock.values()]\n",
    "print(half)\n",
    "print(count) # ループ変数がリークしないので例外が発生"
   ]
  },
  {
   "cell_type": "code",
   "execution_count": 19,
   "id": "a18874c4",
   "metadata": {},
   "outputs": [
    {
     "name": "stdout",
     "output_type": "stream",
     "text": [
      "35 // 8 = 4\n",
      "('screws', 4)\n",
      "8 // 8 = 1\n",
      "('wingnuts', 1)\n"
     ]
    }
   ],
   "source": [
    "# ジェネレータ式でも代入式が使える\n",
    "found = ((name, batches) for name in order\n",
    "         if (batches := get_batches(stock.get(name, 0), 8)))\n",
    "print(next(found))\n",
    "print(next(found))"
   ]
  },
  {
   "cell_type": "code",
   "execution_count": 20,
   "id": "46663ee8",
   "metadata": {},
   "outputs": [
    {
     "name": "stdout",
     "output_type": "stream",
     "text": [
      "35 // 8 = 4\n",
      "{'screws': 4}\n",
      "8 // 8 = 1\n",
      "{'wingnuts': 1}\n"
     ]
    }
   ],
   "source": [
    "# ジェネレータ式でも代入式が使える\n",
    "found = ({name: batches} for name in order\n",
    "         if (batches := get_batches(stock.get(name, 0), 8)))\n",
    "print(next(found))\n",
    "print(next(found))"
   ]
  },
  {
   "cell_type": "code",
   "execution_count": null,
   "id": "285573bf",
   "metadata": {},
   "outputs": [
    {
     "name": "stdout",
     "output_type": "stream",
     "text": [
      "(1, 2, 3)\n",
      "<class 'tuple'>\n",
      "<generator object <genexpr> at 0x7f9910d94110>\n",
      "<class 'generator'>\n"
     ]
    }
   ],
   "source": [
    "# タプル\n",
    "a = (1, 2, 3) # a = 1, 2, 3 カッコなしでもカンマがあればタプル\n",
    "print(a)\n",
    "print(type(a))\n",
    "\n",
    "# ジェネレータ ()内が内包表記\n",
    "b = (x*2 for x in range(3))\n",
    "print(b)\n",
    "print(type(b))"
   ]
  }
 ],
 "metadata": {
  "kernelspec": {
   "display_name": "venv",
   "language": "python",
   "name": "python3"
  },
  "language_info": {
   "codemirror_mode": {
    "name": "ipython",
    "version": 3
   },
   "file_extension": ".py",
   "mimetype": "text/x-python",
   "name": "python",
   "nbconvert_exporter": "python",
   "pygments_lexer": "ipython3",
   "version": "3.11.8"
  }
 },
 "nbformat": 4,
 "nbformat_minor": 5
}
