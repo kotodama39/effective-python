{
 "cells": [
  {
   "cell_type": "markdown",
   "id": "7de2c4d6",
   "metadata": {},
   "source": [
    "# 大きなリスト内包表記にはジェネレータ式を考える"
   ]
  },
  {
   "cell_type": "code",
   "execution_count": null,
   "id": "954f8c27",
   "metadata": {},
   "outputs": [
    {
     "name": "stdout",
     "output_type": "stream",
     "text": [
      "[3, 3, 2]\n"
     ]
    }
   ],
   "source": [
    "# ファイルが非常に大きい場合は、膨大なメモリを消費するので、よくない\n",
    "value = [len(x) for x in open('my_numbers.txt')]\n",
    "print(value)"
   ]
  },
  {
   "cell_type": "code",
   "execution_count": 2,
   "id": "787a9ce6",
   "metadata": {},
   "outputs": [
    {
     "name": "stdout",
     "output_type": "stream",
     "text": [
      "<generator object <genexpr> at 0x7fd8684e3bc0>\n"
     ]
    }
   ],
   "source": [
    "# ジェネレータ式\n",
    "it = (len(x) for x in open('my_numbers.txt'))\n",
    "print(it)"
   ]
  },
  {
   "cell_type": "code",
   "execution_count": 3,
   "id": "b94e00d3",
   "metadata": {},
   "outputs": [
    {
     "name": "stdout",
     "output_type": "stream",
     "text": [
      "3\n",
      "3\n"
     ]
    }
   ],
   "source": [
    "print(next(it))\n",
    "print(next(it))"
   ]
  },
  {
   "cell_type": "code",
   "execution_count": 4,
   "id": "36c4da08",
   "metadata": {},
   "outputs": [
    {
     "name": "stdout",
     "output_type": "stream",
     "text": [
      "(2, 1.4142135623730951)\n"
     ]
    }
   ],
   "source": [
    "roots = ((x, x**0.5) for x in it)\n",
    "print(next(roots))"
   ]
  },
  {
   "cell_type": "markdown",
   "id": "bb059a5e",
   "metadata": {},
   "source": [
    "イテレータを1つ進めるごとに、内部のイテレータも1つ進み、ループし、条件式を評価し。入力と出力を渡していく\n",
    "\n",
    "こういった連鎖ジェネレータは、Python では極めて高速に実行する。膨大な入力ストリームを操作する機能を構成する方法を探しているなら、ジェネレータ式は最適なツール\n",
    "\n",
    "※ただし、ジェネレータはステートフルであることに注意"
   ]
  }
 ],
 "metadata": {
  "kernelspec": {
   "display_name": "venv",
   "language": "python",
   "name": "python3"
  },
  "language_info": {
   "codemirror_mode": {
    "name": "ipython",
    "version": 3
   },
   "file_extension": ".py",
   "mimetype": "text/x-python",
   "name": "python",
   "nbconvert_exporter": "python",
   "pygments_lexer": "ipython3",
   "version": "3.11.8"
  }
 },
 "nbformat": 4,
 "nbformat_minor": 5
}
