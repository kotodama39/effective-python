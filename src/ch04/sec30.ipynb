{
 "cells": [
  {
   "cell_type": "markdown",
   "id": "c00116a9",
   "metadata": {},
   "source": [
    "# リストを返さずにジェネレータを返すことを考える"
   ]
  },
  {
   "cell_type": "code",
   "execution_count": 32,
   "id": "ad219b42",
   "metadata": {},
   "outputs": [],
   "source": [
    "# 空白があるインデックスを求める\n",
    "def index_words(text):\n",
    "  result = []\n",
    "  if text:\n",
    "    result.append(0)\n",
    "  for index, letter in enumerate(text):\n",
    "    print(f'{index} : {letter}')\n",
    "    if letter == ' ':\n",
    "      result.append(index + 1)\n",
    "  return result"
   ]
  },
  {
   "cell_type": "code",
   "execution_count": 33,
   "id": "b9758c86",
   "metadata": {},
   "outputs": [
    {
     "name": "stdout",
     "output_type": "stream",
     "text": [
      "0 : F\n",
      "1 : o\n",
      "2 : u\n",
      "3 : r\n",
      "4 :  \n",
      "5 : s\n",
      "6 : c\n",
      "7 : o\n",
      "8 : r\n",
      "9 : e\n",
      "10 :  \n",
      "11 : a\n",
      "12 : n\n",
      "13 : d\n",
      "14 :  \n",
      "15 : s\n",
      "16 : e\n",
      "17 : v\n",
      "18 : e\n",
      "19 : n\n",
      "20 :  \n",
      "21 : y\n",
      "22 : e\n",
      "23 : a\n",
      "24 : r\n",
      "25 : s\n",
      "26 :  \n",
      "27 : a\n",
      "28 : g\n",
      "29 : o\n",
      "[0, 5, 11, 15, 21, 27]\n"
     ]
    }
   ],
   "source": [
    "address = 'Four score and seven years ago'\n",
    "result = index_words(address)\n",
    "print(result[:10])"
   ]
  },
  {
   "cell_type": "code",
   "execution_count": 34,
   "id": "11f94de3",
   "metadata": {},
   "outputs": [],
   "source": [
    "# リストを返す index_words と違い、result.append や return がない\n",
    "\n",
    "# ジェネレータ関数は、呼び出されると実際の作業をせず、イテレータを返す\n",
    "# 無見込み関数 next が呼び出されるごとに、イテレータはジェネレータ式を次の yield 式に進める\n",
    "\n",
    "# 結果リストに関する処理のすべてが省かれているので、はるかに読みやすい\n",
    "def index_words_iter(text):\n",
    "  if text:\n",
    "    yield 0\n",
    "  for index, letter in enumerate(text):\n",
    "    if letter == ' ':\n",
    "      yield index + 1"
   ]
  },
  {
   "cell_type": "code",
   "execution_count": 35,
   "id": "b858441b",
   "metadata": {},
   "outputs": [
    {
     "name": "stdout",
     "output_type": "stream",
     "text": [
      "0\n",
      "5\n"
     ]
    }
   ],
   "source": [
    "it = index_words_iter(address)\n",
    "print(next(it))\n",
    "print(next(it))"
   ]
  },
  {
   "cell_type": "code",
   "execution_count": 36,
   "id": "e88967c7",
   "metadata": {},
   "outputs": [
    {
     "name": "stdout",
     "output_type": "stream",
     "text": [
      "[0, 5, 11, 15, 21, 27]\n"
     ]
    }
   ],
   "source": [
    "# ジェネレータ呼び出しで返されるイテレータは、組み込み関数listに渡して簡単にリストに変換可能\n",
    "result = list(index_words_iter(address))\n",
    "print(result[:10])"
   ]
  },
  {
   "cell_type": "code",
   "execution_count": 2,
   "id": "8562a452",
   "metadata": {},
   "outputs": [],
   "source": [
    "# index_words は、返す前に、すべての結果をリストに格納する必要がある\n",
    "# 入力が大量にあるときに、メモリを食いつぶしてしまう\n",
    "\n",
    "# 対象にジェネレータは一定のメモリしか必要としないので、どんな長さの入力にも容易に対応\n",
    "def index_file(handle):\n",
    "  offset = 0\n",
    "  for line in handle: # ファイルを1行ずつ読む設計になっている ---ファイルが 10GB あろうと、メモリ上に存在するのは常に「今の1行」だけ ---\n",
    "    print(f'line : {line}') # 1行ずつなのがわかる\n",
    "    if line:\n",
    "      yield offset # 行の開始位置を記録\n",
    "    for letter in line:\n",
    "      offset += 1\n",
    "      if letter == ' ':\n",
    "        yield offset # 空白の直後の位置も記録"
   ]
  },
  {
   "cell_type": "code",
   "execution_count": 6,
   "id": "983c381e",
   "metadata": {},
   "outputs": [
    {
     "name": "stdout",
     "output_type": "stream",
     "text": [
      "line : Four score and seven years ago our fathers brought forth\n",
      "\n",
      "line : on this continent a new nation, conceived in liberty, and\n",
      "\n",
      "line : dedicated to the proposition that all men are created equal.\n",
      "\n",
      "[0, 5, 11, 15, 21, 27, 31, 35, 43, 51, 57, 60, 65, 75, 77, 81, 89, 99, 102, 111, 115, 125, 128, 132, 144, 149, 153, 157, 161, 169]\n"
     ]
    }
   ],
   "source": [
    "from itertools import islice\n",
    "\n",
    "with open('address.txt', 'r') as f:\n",
    "  it = index_file(f)\n",
    "  result = islice(it, 0 , 30)\n",
    "  print(list(result))"
   ]
  },
  {
   "cell_type": "code",
   "execution_count": 5,
   "id": "ca25eb07",
   "metadata": {},
   "outputs": [
    {
     "name": "stdout",
     "output_type": "stream",
     "text": [
      "line : Four score and seven years ago our fathers brought forth\n",
      "\n",
      "[0, 5, 11, 15, 21, 27, 31, 35, 43, 51]\n",
      "line : on this continent a new nation, conceived in liberty, and\n",
      "\n",
      "[57, 60, 65, 75, 77, 81, 89, 99, 102, 111]\n",
      "line : dedicated to the proposition that all men are created equal.\n",
      "\n",
      "[115, 125, 128, 132, 144, 149, 153, 157, 161, 169]\n"
     ]
    }
   ],
   "source": [
    "with open('address.txt', 'r') as f:\n",
    "  it = index_file(f)\n",
    "  result = islice(it, 0 , 10)\n",
    "  result_next = islice(it, 0 , 10)\n",
    "  result_next2 = islice(it, 0 , 10)\n",
    "  print(list(result))\n",
    "  print(list(result_next))\n",
    "  print(list(result_next2))"
   ]
  },
  {
   "cell_type": "markdown",
   "id": "980715f9",
   "metadata": {},
   "source": [
    "このようなジェネレータを定義するときは、返されるイテレータがステートフルで再利用できないことを呼び出し元が認識すべきである"
   ]
  },
  {
   "cell_type": "code",
   "execution_count": null,
   "id": "3aee23f3",
   "metadata": {},
   "outputs": [],
   "source": [
    "def index_file_list_v(handle):\n",
    "  offsets = []  # すべての結果をこのリストにためる\n",
    "  offset = 0\n",
    "  for line in handle:\n",
    "    print(f'line : {line}') # すべて読み込む\n",
    "    if line:\n",
    "      offsets.append(offset)  # yieldの代わりにリストに追加\n",
    "    for letter in line:\n",
    "      offset += 1\n",
    "      if letter == ' ':\n",
    "        offsets.append(offset)  # これもリストに追加\n",
    "  return offsets  # 最後にすべて返す"
   ]
  },
  {
   "cell_type": "code",
   "execution_count": 47,
   "id": "4a1d561e",
   "metadata": {},
   "outputs": [
    {
     "name": "stdout",
     "output_type": "stream",
     "text": [
      "line : Four score and seven years ago our fathers brought forth\n",
      "\n",
      "line : on this continent a new nation, conceived in liberty, and\n",
      "\n",
      "line : dedicated to the proposition that all men are created equal.\n",
      "\n",
      "line : Now we are engaged in a great civil war, testing\n",
      "\n",
      "line : whether that nation, or any nation so conceived and so\n",
      "\n",
      "line : dedicated, can long endure. We are met on a great battlefield of that war. We have come to dedicate a portion of\n",
      "\n",
      "line : that field as a final resting-place for those who here gave\n",
      "\n",
      "line : their lives that this nation might live. It is altogether\n",
      "\n",
      "line : fitting and proper that we should do this.\n",
      "print offsets : [0, 5, 11, 15, 21, 27, 31, 35, 43, 51, 57, 60, 65, 75, 77, 81, 89, 99, 102, 111, 115, 125, 128, 132, 144, 149, 153, 157, 161, 169, 176, 180, 183, 187, 195, 198, 200, 206, 212, 217, 225, 233, 238, 246, 249, 253, 260, 263, 273, 277, 280, 291, 295, 300, 308, 311, 315, 319, 322, 324, 330, 342, 345, 350, 355, 358, 363, 368, 371, 380, 382, 390, 393, 398, 404, 407, 409, 415, 429, 433, 439, 443, 448, 453, 459, 465, 470, 475, 482, 488, 494, 497, 500, 511, 519, 523, 530, 535, 538, 545, 548]\n",
      "[0, 5, 11, 15, 21, 27, 31, 35, 43, 51]\n"
     ]
    }
   ],
   "source": [
    "with open('address.txt', 'r') as f:\n",
    "  offsets = index_file_list_v(f)\n",
    "  print(f'print offsets : {offsets}')\n",
    "  print(offsets[:10])\n",
    "#   for offset in offsets:\n",
    "#     print(offset)  # リストを全部メモリに保持してから使う"
   ]
  },
  {
   "cell_type": "markdown",
   "id": "b03e05bd",
   "metadata": {},
   "source": [
    "## まとめ\n",
    "\n",
    "* リスト版: 全部のオフセットを一気にメモリにためるので、メモリを爆食いする\n",
    "* ジェネレータ版: 1つずつ処理してすぐ捨てるから、省メモリ"
   ]
  },
  {
   "cell_type": "markdown",
   "id": "10891160",
   "metadata": {},
   "source": [
    "## 【実験コード】リスト vs ジェネレータのメモリ使用量比較"
   ]
  },
  {
   "cell_type": "code",
   "execution_count": 48,
   "id": "6b510bdb",
   "metadata": {},
   "outputs": [
    {
     "name": "stdout",
     "output_type": "stream",
     "text": [
      "テストファイル作成中...\n",
      "==== メモリ比較スタート ====\n",
      "\n",
      "--- ジェネレータ版 ---\n",
      "メモリ使用量: 0.23 KB\n",
      "最初の10個: [0, 5, 10, 15, 20, 25, 30, 35, 40, 45]\n",
      "\n",
      "--- リスト版 ---\n",
      "メモリ使用量: 82351.53 KB\n",
      "最初の10個: [0, 5, 10, 15, 20, 25, 30, 35, 40, 45]\n",
      "\n",
      "==== メモリ比較終了 ====\n"
     ]
    }
   ],
   "source": [
    "import os\n",
    "import tracemalloc  # メモリ使用量を計測する標準ライブラリ\n",
    "from itertools import islice\n",
    "\n",
    "# 大きめのファイルを仮想的に作る関数\n",
    "def create_large_test_file(filename, num_lines=100000, line_length=100):\n",
    "    with open(filename, 'w') as f:\n",
    "        for _ in range(num_lines):\n",
    "            line = 'word ' * (line_length // 5) + '\\n'  # 1行あたり約100文字\n",
    "            f.write(line)\n",
    "\n",
    "# ジェネレータ版\n",
    "def index_file_generator(handle):\n",
    "    offset = 0\n",
    "    for line in handle:\n",
    "        if line:\n",
    "            yield offset\n",
    "        for letter in line:\n",
    "            offset += 1\n",
    "            if letter == ' ':\n",
    "                yield offset\n",
    "\n",
    "# リスト版\n",
    "def index_file_list(handle):\n",
    "    offsets = []\n",
    "    offset = 0\n",
    "    for line in handle:\n",
    "        if line:\n",
    "            offsets.append(offset)\n",
    "        for letter in line:\n",
    "            offset += 1\n",
    "            if letter == ' ':\n",
    "                offsets.append(offset)\n",
    "    return offsets\n",
    "\n",
    "# メモリ計測用関数\n",
    "def measure_memory(func, *args, n=10):\n",
    "    tracemalloc.start()\n",
    "    result = func(*args)\n",
    "    snapshot = tracemalloc.take_snapshot()\n",
    "    tracemalloc.stop()\n",
    "    # 上位n個のメモリ使用情報を取得\n",
    "    top_stats = snapshot.statistics('lineno')\n",
    "    total = sum(stat.size for stat in top_stats)\n",
    "    return total, result\n",
    "\n",
    "# 実験スタート\n",
    "if __name__ == \"__main__\":\n",
    "    filename = 'test_large_file.txt'\n",
    "    \n",
    "    if not os.path.exists(filename):\n",
    "        print(\"テストファイル作成中...\")\n",
    "        create_large_test_file(filename)\n",
    "\n",
    "    print(\"==== メモリ比較スタート ====\")\n",
    "\n",
    "    with open(filename, 'r') as f:\n",
    "        print(\"\\n--- ジェネレータ版 ---\")\n",
    "        memory_gen, gen_obj = measure_memory(index_file_generator, f)\n",
    "        small_sample = list(islice(gen_obj, 10))  # 少しだけ取り出して確認\n",
    "        print(f\"メモリ使用量: {memory_gen / 1024:.2f} KB\")\n",
    "        print(f\"最初の10個: {small_sample}\")\n",
    "\n",
    "    with open(filename, 'r') as f:\n",
    "        print(\"\\n--- リスト版 ---\")\n",
    "        memory_list, list_result = measure_memory(index_file_list, f)\n",
    "        print(f\"メモリ使用量: {memory_list / 1024:.2f} KB\")\n",
    "        print(f\"最初の10個: {list_result[:10]}\")\n",
    "\n",
    "    print(\"\\n==== メモリ比較終了 ====\")"
   ]
  },
  {
   "cell_type": "markdown",
   "id": "de264bab",
   "metadata": {},
   "source": [
    "#### 【このコードの流れ】\n",
    "テスト用に「10万行 × 1行100文字くらい」のちょっと大きめのファイルを自動生成する。\n",
    "\n",
    "1. ジェネレータ版でoffsetを取り出し、メモリ使用量を計測\n",
    "\n",
    "2. リスト版でoffsetをリストに溜めて、メモリ使用量を計測\n",
    "\n",
    "3. 両者のメモリ量と、最初の10個のデータを表示！"
   ]
  }
 ],
 "metadata": {
  "kernelspec": {
   "display_name": "venv",
   "language": "python",
   "name": "python3"
  },
  "language_info": {
   "codemirror_mode": {
    "name": "ipython",
    "version": 3
   },
   "file_extension": ".py",
   "mimetype": "text/x-python",
   "name": "python",
   "nbconvert_exporter": "python",
   "pygments_lexer": "ipython3",
   "version": "3.11.8"
  }
 },
 "nbformat": 4,
 "nbformat_minor": 5
}
