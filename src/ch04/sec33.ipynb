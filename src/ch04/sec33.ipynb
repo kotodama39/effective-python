{
 "cells": [
  {
   "cell_type": "markdown",
   "id": "d17b6ff6",
   "metadata": {},
   "source": [
    "# yield from で複数のジェネレータを作る"
   ]
  },
  {
   "cell_type": "markdown",
   "id": "9674ea9b",
   "metadata": {},
   "source": [
    "画面表示プログラムでジェネレータを使ってイメージの動きをアニメーションで示すことを考える"
   ]
  },
  {
   "cell_type": "code",
   "execution_count": 25,
   "id": "10e43012",
   "metadata": {},
   "outputs": [],
   "source": [
    "# スクリーン上での動きを示す動き幅は yield する2つのジェネレータ\n",
    "\n",
    "def move(period, speed):\n",
    "  for _ in range(period):\n",
    "    yield speed\n",
    "\n",
    "def pause(delay):\n",
    "  for _ in range(delay):\n",
    "    yield 0"
   ]
  },
  {
   "cell_type": "code",
   "execution_count": 26,
   "id": "11f43669",
   "metadata": {},
   "outputs": [],
   "source": [
    "# 最終的なアニメーションのために、\n",
    "# move と pause を組み合わせて、スクリーン上の移動幅のシーケンスを作る\n",
    "\n",
    "def animate():\n",
    "  for delta in move(4, 5.0): # move から値を一個ずつ取り出して\n",
    "    yield delta              # animate がひとつずつ返す\n",
    "  for delta in pause(3):\n",
    "    yield delta\n",
    "  for delta in move(2, 3.0):\n",
    "    yield delta"
   ]
  },
  {
   "cell_type": "code",
   "execution_count": 27,
   "id": "b488392e",
   "metadata": {},
   "outputs": [
    {
     "name": "stdout",
     "output_type": "stream",
     "text": [
      "Delta: 5.0\n",
      "Delta: 5.0\n",
      "Delta: 5.0\n",
      "Delta: 5.0\n",
      "Delta: 0.0\n",
      "Delta: 0.0\n",
      "Delta: 0.0\n",
      "Delta: 3.0\n",
      "Delta: 3.0\n"
     ]
    }
   ],
   "source": [
    "def render(delta):\n",
    "  print(f'Delta: {delta:.1f}')\n",
    "  # イメージをスクリーン上で動かす\n",
    "\n",
    "def run(func):\n",
    "  for delta in func():\n",
    "    render(delta)\n",
    "\n",
    "run(animate)"
   ]
  },
  {
   "cell_type": "markdown",
   "id": "804b9203",
   "metadata": {},
   "source": [
    "このコードの問題は繰り返しにある。とても読みずらい"
   ]
  },
  {
   "cell_type": "code",
   "execution_count": 28,
   "id": "58c87126",
   "metadata": {},
   "outputs": [
    {
     "name": "stdout",
     "output_type": "stream",
     "text": [
      "Delta: 5.0\n",
      "Delta: 5.0\n",
      "Delta: 5.0\n",
      "Delta: 5.0\n",
      "Delta: 0.0\n",
      "Delta: 0.0\n",
      "Delta: 0.0\n",
      "Delta: 3.0\n",
      "Delta: 3.0\n"
     ]
    }
   ],
   "source": [
    "# 解決策\n",
    "# yield from 式を使う\n",
    "# 全部終わるまで yield from で指定したジェネレータから yeild される値を流し続ける\n",
    "# ---親は yield された値を 1個ずつ見張らない。子ジェネレータに全部丸投げ。---\n",
    "\n",
    "def animate_composed():\n",
    "  # 入れ子になったジェネレータ(move / pause)が親のジェネレータ(animate_composed)に制御を戻す前に、\n",
    "  # 入れ子になった子ジェネレータ(move / pause)からすべての値を生成できる\n",
    "  yield from move(4, 5.0) # move が返すものをそのまま渡す\n",
    "  yield from pause(3)\n",
    "  yield from move(2, 3.0)\n",
    "\n",
    "run(animate_composed)"
   ]
  },
  {
   "cell_type": "markdown",
   "id": "b1c45e8a",
   "metadata": {},
   "source": [
    "run() \n",
    "\n",
    "↓\n",
    "\n",
    "animate_composed()\n",
    "\n",
    "├─ yield from move()    (moveが全部出し終わるまで待つ)\n",
    "\n",
    "├─ yield from pause()   (pauseが全部出し終わるまで待つ)\n",
    "\n",
    "└─ yield from move()    (moveが全部出し終わるまで待つ)\n",
    "\n",
    "1. run は animate_composed を呼び出す\n",
    "\n",
    "1. animate_composed は move を呼び出して、その出力を yield from で全部流す\n",
    "\n",
    "1. そのあと pause の出力を全部流す\n",
    "\n",
    "1. そのあとまた move の出力を全部流す\n",
    "\n",
    "親子関係で言えば、\n",
    "\n",
    "1. animate_composed（親）が\n",
    "\n",
    "1. move と pause（子）に仕事を渡して、\n",
    "\n",
    "1. 子が終わるまで待つ、という感じ。"
   ]
  },
  {
   "cell_type": "code",
   "execution_count": 30,
   "id": "49e542f4",
   "metadata": {},
   "outputs": [
    {
     "name": "stdout",
     "output_type": "stream",
     "text": [
      "Manual nesting 2.26s\n",
      "Composed nesting 2.33s\n",
      "-3.2% less time\n"
     ]
    }
   ],
   "source": [
    "# yield from を使うと性能も上がる\n",
    "\n",
    "import timeit\n",
    "\n",
    "def child():\n",
    "  for i in range(1_000_000):\n",
    "    yield i\n",
    "\n",
    "def slow():\n",
    "  for i in child():\n",
    "    yield i\n",
    "\n",
    "def fast():\n",
    "  yield from child()\n",
    "\n",
    "baseline = timeit.timeit(\n",
    "  stmt = 'for _ in slow(): pass',\n",
    "  globals = globals(),\n",
    "  number=50\n",
    ")\n",
    "\n",
    "print(f'Manual nesting {baseline:.2f}s')\n",
    "\n",
    "comparison = timeit.timeit(\n",
    "  stmt = 'for _ in fast(): pass',\n",
    "  globals = globals(),\n",
    "  number=50\n",
    ")\n",
    "\n",
    "print(f'Composed nesting {comparison:.2f}s')\n",
    "\n",
    "reduction = -(comparison - baseline) / baseline\n",
    "print(f'{reduction:.1%} less time')"
   ]
  },
  {
   "cell_type": "markdown",
   "id": "4c75886b",
   "metadata": {},
   "source": [
    "できる限り yield from を使うことがオススメ"
   ]
  }
 ],
 "metadata": {
  "kernelspec": {
   "display_name": "venv",
   "language": "python",
   "name": "python3"
  },
  "language_info": {
   "codemirror_mode": {
    "name": "ipython",
    "version": 3
   },
   "file_extension": ".py",
   "mimetype": "text/x-python",
   "name": "python",
   "nbconvert_exporter": "python",
   "pygments_lexer": "ipython3",
   "version": "3.11.8"
  }
 },
 "nbformat": 4,
 "nbformat_minor": 5
}
