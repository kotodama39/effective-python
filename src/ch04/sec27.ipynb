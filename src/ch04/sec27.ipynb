{
 "cells": [
  {
   "cell_type": "markdown",
   "id": "1050db8f",
   "metadata": {},
   "source": [
    "# map や filter の代わりにリスト内包表記を使う"
   ]
  },
  {
   "cell_type": "code",
   "execution_count": 1,
   "id": "2d0ffaf3",
   "metadata": {},
   "outputs": [
    {
     "name": "stdout",
     "output_type": "stream",
     "text": [
      "[1, 4, 9, 16, 25, 36, 49, 64, 81, 100]\n"
     ]
    }
   ],
   "source": [
    "# for ループの場合\n",
    "a = [1, 2, 3, 4, 5, 6, 7, 8, 9, 10]\n",
    "squares = []\n",
    "for x in a:\n",
    "  squares.append(x**2)\n",
    "print(squares)"
   ]
  },
  {
   "cell_type": "code",
   "execution_count": 2,
   "id": "e3efa401",
   "metadata": {},
   "outputs": [
    {
     "name": "stdout",
     "output_type": "stream",
     "text": [
      "[1, 4, 9, 16, 25, 36, 49, 64, 81, 100]\n"
     ]
    }
   ],
   "source": [
    "# リスト内包表記\n",
    "squares = [x**2 for x in a]\n",
    "print(squares)"
   ]
  },
  {
   "cell_type": "code",
   "execution_count": 7,
   "id": "3febdf91",
   "metadata": {},
   "outputs": [
    {
     "name": "stdout",
     "output_type": "stream",
     "text": [
      "<map object at 0x7f227d94f760>\n",
      "[1, 4, 9, 16, 25, 36, 49, 64, 81, 100]\n"
     ]
    }
   ],
   "source": [
    "# map の場合\n",
    "# lambda {引数}: {処理内容}\n",
    "# map({関数}, {iterable})\n",
    "alt = map(lambda x: x**2, a)\n",
    "print(alt)\n",
    "print(list(alt))"
   ]
  },
  {
   "cell_type": "markdown",
   "id": "4fb51c9f",
   "metadata": {},
   "source": [
    "Python 3 からの仕様で map は「リストではなく、イテレータ(iterator)を返す」ように設計が変わった\n",
    "\n",
    "理由は、メモリ効率をよくするため\n",
    "リストにすると全部の要素を一気にメモリに展開するが、イテレータなら「必要になったら一個ずつ取り出して計算」することが可能なので、無駄なメモリを使わずに済む\n",
    "\n",
    "つまり、\n",
    "* map はすぐに中身を生成しない\n",
    "* 呼び出されたらその時に計算する遅延評価\n",
    "* その結果 map はオブジェクトをかえす"
   ]
  },
  {
   "cell_type": "code",
   "execution_count": 12,
   "id": "26eb61d7",
   "metadata": {},
   "outputs": [
    {
     "name": "stdout",
     "output_type": "stream",
     "text": [
      "[4, 16, 36, 64, 100]\n"
     ]
    }
   ],
   "source": [
    "# リスト内包表記だと map とは異なり、入力リストから要素をフィルタリングして、\n",
    "# 対応する出力を結果から取り除くといった処理が簡単に記述可能\n",
    "# 例: 2で割り切れる数だけ平方を計算\n",
    "even_squares = [x**2 for x in a if x % 2 == 0]\n",
    "print(even_squares)"
   ]
  },
  {
   "cell_type": "code",
   "execution_count": 11,
   "id": "689bae14",
   "metadata": {},
   "outputs": [
    {
     "name": "stdout",
     "output_type": "stream",
     "text": [
      "[4, 16, 36, 64, 100]\n"
     ]
    }
   ],
   "source": [
    "# filter と map と使えば、上と同様の結果を得られるが、読みにくい\n",
    "alt = map(lambda x: x**2, filter(lambda x: x % 2 == 0, a))\n",
    "print(list(alt))"
   ]
  },
  {
   "cell_type": "code",
   "execution_count": 15,
   "id": "45c45ab5",
   "metadata": {},
   "outputs": [
    {
     "name": "stdout",
     "output_type": "stream",
     "text": [
      "{2: 4, 4: 16, 6: 36, 8: 64, 10: 100}\n",
      "{216, 729, 27}\n"
     ]
    }
   ],
   "source": [
    "# 辞書と集合にもリスト内包表記に対応する表現式（辞書内包表記と集合内包表記）がある\n",
    "even_squares_dict = {x: x**2 for x in a if x % 2 == 0}\n",
    "threes_cubed_set = {x**3 for x in a if x % 3 == 0}\n",
    "print(even_squares_dict)\n",
    "print(threes_cubed_set)"
   ]
  },
  {
   "cell_type": "code",
   "execution_count": 18,
   "id": "89119a03",
   "metadata": {},
   "outputs": [
    {
     "name": "stdout",
     "output_type": "stream",
     "text": [
      "{2: 4, 4: 16, 6: 36, 8: 64, 10: 100}\n",
      "{216, 729, 27}\n"
     ]
    }
   ],
   "source": [
    "# 同じく filter と map を使って記述できるが、読みにくい\n",
    "alt_dict = dict(map(lambda x: (x, x**2), filter(lambda x: x % 2 == 0, a)))\n",
    "alt_set = set(map(lambda x: x**3, filter(lambda x: x % 3 == 0, a)))\n",
    "print(alt_dict)\n",
    "print(alt_set)"
   ]
  }
 ],
 "metadata": {
  "kernelspec": {
   "display_name": "venv",
   "language": "python",
   "name": "python3"
  },
  "language_info": {
   "codemirror_mode": {
    "name": "ipython",
    "version": 3
   },
   "file_extension": ".py",
   "mimetype": "text/x-python",
   "name": "python",
   "nbconvert_exporter": "python",
   "pygments_lexer": "ipython3",
   "version": "3.11.8"
  }
 },
 "nbformat": 4,
 "nbformat_minor": 5
}
