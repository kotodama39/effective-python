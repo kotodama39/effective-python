{
 "cells": [
  {
   "cell_type": "markdown",
   "id": "16a6a8c6",
   "metadata": {},
   "source": [
    "# ジェネレータで throw による状態遷移を起こすのは避ける"
   ]
  },
  {
   "cell_type": "code",
   "execution_count": 1,
   "id": "894d403a",
   "metadata": {},
   "outputs": [
    {
     "name": "stdout",
     "output_type": "stream",
     "text": [
      "1\n",
      "2\n"
     ]
    },
    {
     "ename": "MyError",
     "evalue": "test error",
     "output_type": "error",
     "traceback": [
      "\u001b[31m---------------------------------------------------------------------------\u001b[39m",
      "\u001b[31mMyError\u001b[39m                                   Traceback (most recent call last)",
      "\u001b[36mCell\u001b[39m\u001b[36m \u001b[39m\u001b[32mIn[1]\u001b[39m\u001b[32m, line 12\u001b[39m\n\u001b[32m     10\u001b[39m \u001b[38;5;28mprint\u001b[39m(\u001b[38;5;28mnext\u001b[39m(it))\n\u001b[32m     11\u001b[39m \u001b[38;5;28mprint\u001b[39m(\u001b[38;5;28mnext\u001b[39m(it))\n\u001b[32m---> \u001b[39m\u001b[32m12\u001b[39m \u001b[38;5;28mprint\u001b[39m(\u001b[43mit\u001b[49m\u001b[43m.\u001b[49m\u001b[43mthrow\u001b[49m\u001b[43m(\u001b[49m\u001b[43mMyError\u001b[49m\u001b[43m(\u001b[49m\u001b[33;43m'\u001b[39;49m\u001b[33;43mtest error\u001b[39;49m\u001b[33;43m'\u001b[39;49m\u001b[43m)\u001b[49m\u001b[43m)\u001b[49m)\n",
      "\u001b[36mCell\u001b[39m\u001b[36m \u001b[39m\u001b[32mIn[1]\u001b[39m\u001b[32m, line 6\u001b[39m, in \u001b[36mmy_generator\u001b[39m\u001b[34m()\u001b[39m\n\u001b[32m      4\u001b[39m \u001b[38;5;28;01mdef\u001b[39;00m\u001b[38;5;250m \u001b[39m\u001b[34mmy_generator\u001b[39m():\n\u001b[32m      5\u001b[39m   \u001b[38;5;28;01myield\u001b[39;00m \u001b[32m1\u001b[39m\n\u001b[32m----> \u001b[39m\u001b[32m6\u001b[39m   \u001b[38;5;28;01myield\u001b[39;00m \u001b[32m2\u001b[39m\n\u001b[32m      7\u001b[39m   \u001b[38;5;28;01myield\u001b[39;00m \u001b[32m3\u001b[39m\n",
      "\u001b[31mMyError\u001b[39m: test error"
     ]
    }
   ],
   "source": [
    "class MyError(Exception):\n",
    "  pass\n",
    "\n",
    "def my_generator():\n",
    "  yield 1\n",
    "  yield 2\n",
    "  yield 3\n",
    "\n",
    "it = my_generator()\n",
    "print(next(it))\n",
    "print(next(it))\n",
    "print(it.throw(MyError('test error')))"
   ]
  },
  {
   "cell_type": "code",
   "execution_count": 3,
   "id": "d7690dd7",
   "metadata": {},
   "outputs": [
    {
     "name": "stdout",
     "output_type": "stream",
     "text": [
      "1\n",
      "2\n",
      "Before throw Error\n",
      "Got MyError\n",
      "4\n"
     ]
    }
   ],
   "source": [
    "def my_generator():\n",
    "  yield 1\n",
    "\n",
    "  try:\n",
    "    yield 2\n",
    "  except MyError:\n",
    "    print('Got MyError')\n",
    "  else:\n",
    "    yield 3\n",
    "\n",
    "  yield 4\n",
    "\n",
    "it = my_generator()\n",
    "print(next(it))\n",
    "print(next(it))\n",
    "print('Before throw Error')\n",
    "print(it.throw(MyError('test error')))"
   ]
  },
  {
   "cell_type": "code",
   "execution_count": 4,
   "id": "cdd0f602",
   "metadata": {},
   "outputs": [],
   "source": [
    "class Reset(Exception):\n",
    "  pass\n",
    "\n",
    "def timer(period):\n",
    "  current = period\n",
    "  while current:\n",
    "    current -= 1\n",
    "    try:\n",
    "      yield current\n",
    "    except Reset:\n",
    "      current = period"
   ]
  },
  {
   "cell_type": "code",
   "execution_count": 21,
   "id": "13eca34e",
   "metadata": {},
   "outputs": [
    {
     "name": "stdout",
     "output_type": "stream",
     "text": [
      "3 ticks remaining\n",
      "2 ticks remaining\n",
      "1 ticks remaining\n",
      "3 ticks remaining\n",
      "2 ticks remaining\n",
      "1 ticks remaining\n",
      "3 ticks remaining\n",
      "3 ticks remaining\n",
      "2 ticks remaining\n",
      "1 ticks remaining\n",
      "0 ticks remaining\n"
     ]
    }
   ],
   "source": [
    "import random\n",
    "\n",
    "def check_for_reset():\n",
    "  # 外部イベントをポーリングして待つ\n",
    "  if random.random() < 0.9:\n",
    "    return False\n",
    "  return True\n",
    "\n",
    "def announce(remaining):\n",
    "  print(f'{remaining} ticks remaining')\n",
    "\n",
    "def run():\n",
    "  it = timer(4)\n",
    "  while True:\n",
    "    try:\n",
    "      if check_for_reset():\n",
    "        current = it.throw(Reset())\n",
    "      else:\n",
    "        current = next(it)\n",
    "    except StopIteration:\n",
    "      break\n",
    "    else:\n",
    "      announce(current)\n",
    "\n",
    "run()"
   ]
  },
  {
   "cell_type": "markdown",
   "id": "c64f2cd1",
   "metadata": {},
   "source": [
    "コードは動作するが読みずらい"
   ]
  },
  {
   "cell_type": "code",
   "execution_count": null,
   "id": "71553fe1",
   "metadata": {},
   "outputs": [],
   "source": [
    "# イテラブルなコンテナオブジェクトを使った状態を持つクロージャで実装\n",
    "# 読みやすい\n",
    "class Timer:\n",
    "  def __init__(self, period):\n",
    "    self.current = period\n",
    "    self.period = period\n",
    "\n",
    "  def reset(self):\n",
    "    self.current = self.period\n",
    "\n",
    "  def __iter__(self):\n",
    "    while self.current:\n",
    "      self.current -= 1\n",
    "      yield self.current"
   ]
  },
  {
   "cell_type": "code",
   "execution_count": 28,
   "id": "45681228",
   "metadata": {},
   "outputs": [
    {
     "name": "stdout",
     "output_type": "stream",
     "text": [
      "3 ticks remaining\n",
      "3 ticks remaining\n",
      "2 ticks remaining\n",
      "3 ticks remaining\n",
      "2 ticks remaining\n",
      "1 ticks remaining\n",
      "0 ticks remaining\n"
     ]
    }
   ],
   "source": [
    "def run():\n",
    "  timer = Timer(4)\n",
    "  for current in timer:\n",
    "    if check_for_reset():\n",
    "      timer.reset()\n",
    "    announce(current)\n",
    "\n",
    "run()"
   ]
  }
 ],
 "metadata": {
  "kernelspec": {
   "display_name": "venv",
   "language": "python",
   "name": "python3"
  },
  "language_info": {
   "codemirror_mode": {
    "name": "ipython",
    "version": 3
   },
   "file_extension": ".py",
   "mimetype": "text/x-python",
   "name": "python",
   "nbconvert_exporter": "python",
   "pygments_lexer": "ipython3",
   "version": "3.11.8"
  }
 },
 "nbformat": 4,
 "nbformat_minor": 5
}
