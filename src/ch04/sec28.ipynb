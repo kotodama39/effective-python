{
 "cells": [
  {
   "cell_type": "markdown",
   "id": "98e4d748",
   "metadata": {},
   "source": [
    "# 内包表記では、3つ以上の式を避ける"
   ]
  },
  {
   "cell_type": "code",
   "execution_count": 1,
   "id": "b97e9b33",
   "metadata": {},
   "outputs": [
    {
     "name": "stdout",
     "output_type": "stream",
     "text": [
      "[1, 2, 3, 4, 5, 6, 7, 8, 9]\n"
     ]
    }
   ],
   "source": [
    "# 内包表記では、多重ループをサポートしている\n",
    "# 例: 行列を平坦化して、1つのリストにする\n",
    "matrix = [[1, 2, 3], [4, 5, 6], [7, 8, 9]]\n",
    "flat = [x for row in matrix for x in row]\n",
    "print(flat)"
   ]
  },
  {
   "cell_type": "code",
   "execution_count": 3,
   "id": "3c06b19e",
   "metadata": {},
   "outputs": [
    {
     "name": "stdout",
     "output_type": "stream",
     "text": [
      "[[1, 4, 9], [16, 25, 36], [49, 64, 81]]\n"
     ]
    }
   ],
   "source": [
    "# 例: 2次元配列の各要素を2乗する\n",
    "squared = [[x**2 for x in row] for row in matrix]\n",
    "print(squared)"
   ]
  },
  {
   "cell_type": "markdown",
   "id": "795fde15",
   "metadata": {},
   "source": [
    "ここまではまだ許容範囲"
   ]
  },
  {
   "cell_type": "code",
   "execution_count": 4,
   "id": "bcf69bf8",
   "metadata": {},
   "outputs": [
    {
     "name": "stdout",
     "output_type": "stream",
     "text": [
      "[1, 2, 3, 4, 5, 6, 7, 8, 9, 10, 11, 12]\n"
     ]
    }
   ],
   "source": [
    "# 読みづらい\n",
    "my_lists = [\n",
    "  [[1, 2, 3], [4, 5, 6]],\n",
    "  [[7, 8, 9], [10, 11, 12]]\n",
    "]\n",
    "flat = [x for sublist1 in my_lists for sublist2 in sublist1 for x in sublist2]\n",
    "print(flat)"
   ]
  },
  {
   "cell_type": "code",
   "execution_count": null,
   "id": "11a3c08d",
   "metadata": {},
   "outputs": [
    {
     "name": "stdout",
     "output_type": "stream",
     "text": [
      "[1, 2, 3, 4, 5, 6, 7, 8, 9, 10, 11, 12]\n"
     ]
    }
   ],
   "source": [
    "# for ループの場合と行数が変わらない\n",
    "# for の方が構造が分かりやすい\n",
    "flat = []\n",
    "for sublist1 in my_lists:\n",
    "  for sublist2 in sublist1:\n",
    "    flat.extend(sublist2)\n",
    "print(flat)"
   ]
  },
  {
   "cell_type": "code",
   "execution_count": 13,
   "id": "aa3cd3d4",
   "metadata": {},
   "outputs": [],
   "source": [
    "# 内包表記は、複数の if 条件もサポートする\n",
    "# 同一のループでの複数条件は、暗黙の and 式になる\n",
    "# 例: 数のリストから、4 より大きい偶数だけをフィルターして取り出したいとする\n",
    "a = [1, 2, 3, 4, 5, 6, 7, 8, 9, 10]\n",
    "b = [x for x in a if x > 4 if x % 2 == 0]\n",
    "c = [x for x in a if x > 4 and x % 2 == 0]\n",
    "# or にすることも可能\n",
    "d = [x for x in a if x > 4 or x % 2 == 0]"
   ]
  }
 ],
 "metadata": {
  "kernelspec": {
   "display_name": "venv",
   "language": "python",
   "name": "python3"
  },
  "language_info": {
   "codemirror_mode": {
    "name": "ipython",
    "version": 3
   },
   "file_extension": ".py",
   "mimetype": "text/x-python",
   "name": "python",
   "nbconvert_exporter": "python",
   "pygments_lexer": "ipython3",
   "version": "3.11.8"
  }
 },
 "nbformat": 4,
 "nbformat_minor": 5
}
